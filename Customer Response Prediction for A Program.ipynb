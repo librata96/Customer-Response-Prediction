{
  "cells": [
    {
      "attachments": {},
      "cell_type": "markdown",
      "metadata": {
        "id": "5iuRcAZjrNVX"
      },
      "source": [
        "# 1 - Introdcution\n"
      ]
    },
    {
      "attachments": {},
      "cell_type": "markdown",
      "metadata": {
        "id": "Ty8ZPDKSrR5D"
      },
      "source": [
        "Nama : Dicky Librata Sembiring \n",
        "\n",
        "Dataset : Superstore Marketing Campaign\n",
        "\n",
        "Objective : Memprediksi Customer Response dengan menggunakan model machine learning\n",
        "\n",
        "\n",
        "## Link Streamlit\n",
        "https://huggingface.co/spaces/barentz96/Milestone_2_Phase_1"
      ]
    },
    {
      "cell_type": "markdown",
      "metadata": {
        "id": "QMO5-0oCrd_8"
      },
      "source": [
        "# 2 - Import Libraries"
      ]
    },
    {
      "attachments": {},
      "cell_type": "markdown",
      "metadata": {
        "id": "Hm7rEWBvrhXs"
      },
      "source": [
        "> Berikut adalah library python yang digunakan"
      ]
    },
    {
      "cell_type": "code",
      "execution_count": 1,
      "metadata": {
        "id": "jpgVz0BXrgmi"
      },
      "outputs": [
        {
          "name": "stderr",
          "output_type": "stream",
          "text": [
            "d:\\Miniconda\\envs\\dls\\lib\\site-packages\\xgboost\\compat.py:36: FutureWarning: pandas.Int64Index is deprecated and will be removed from pandas in a future version. Use pandas.Index with the appropriate dtype instead.\n",
            "  from pandas import MultiIndex, Int64Index\n"
          ]
        }
      ],
      "source": [
        "# Import Libraries\n",
        "%matplotlib inline\n",
        "import pandas as pd\n",
        "import numpy as np\n",
        "import seaborn as sns\n",
        "import matplotlib.pyplot as plt\n",
        "\n",
        "from sklearn.linear_model import LogisticRegression\n",
        "from sklearn.svm import SVC\n",
        "from sklearn.tree import DecisionTreeClassifier\n",
        "from sklearn.ensemble import RandomForestClassifier\n",
        "from sklearn.neighbors import KNeighborsClassifier\n",
        "from sklearn.naive_bayes import GaussianNB\n",
        "from xgboost import XGBClassifier\n",
        "\n",
        "from sklearn.model_selection import train_test_split, GridSearchCV, RandomizedSearchCV, cross_val_score, StratifiedKFold\n",
        "from sklearn.preprocessing import StandardScaler, OrdinalEncoder, OneHotEncoder\n",
        "from sklearn.metrics import classification_report,ConfusionMatrixDisplay,confusion_matrix, precision_score, fbeta_score, make_scorer\n",
        "\n",
        "from sklearn.compose import ColumnTransformer\n",
        "from sklearn.pipeline import Pipeline\n",
        "from sklearn.decomposition import PCA\n",
        "\n",
        "from statsmodels.stats.outliers_influence import variance_inflation_factor\n",
        "from scipy import stats\n",
        "\n",
        "from feature_engine.outliers import Winsorizer\n",
        "\n",
        "from warnings import filterwarnings\n",
        "\n",
        "import pickle"
      ]
    },
    {
      "attachments": {},
      "cell_type": "markdown",
      "metadata": {
        "id": "5KMpETCZr8bw"
      },
      "source": [
        "# 3 - Data Loading"
      ]
    },
    {
      "attachments": {},
      "cell_type": "markdown",
      "metadata": {
        "id": "BdZdnH2_r_ci"
      },
      "source": [
        "> Selanjutnya dilakukan loading dataset. Kemudian beberapa eksplorasi sederhana seperti melihat jumlah baris dan kolom data, nama dan type data masing - masing kolom, serta basic info dari data yang telah di load"
      ]
    },
    {
      "cell_type": "code",
      "execution_count": 2,
      "metadata": {
        "colab": {
          "base_uri": "https://localhost:8080/",
          "height": 540
        },
        "id": "82KtCauTsD3Y",
        "outputId": "5391cbfb-3f95-42f5-dda8-59971e98c7d9"
      },
      "outputs": [],
      "source": [
        "# Load Dataset\n",
        "df_ori = pd.read_csv('superstore_data.csv')\n",
        "\n",
        "# Setting display pandas dataframe showing all columns\n",
        "pd.set_option('display.max_columns', None) \n",
        "# Setting format floating to 2 decimal\n",
        "pd.options.display.float_format = '{:.2f}'.format"
      ]
    },
    {
      "attachments": {},
      "cell_type": "markdown",
      "metadata": {},
      "source": [
        "Dari sumber dataset, penulis memperoleh informasi mengnai masing - masing column sebagai berikut:\n",
        "- ID - Unique ID of each customer\n",
        "\n",
        "- Year_Birth - Age of the customer\n",
        "- Dt_Customer - date of customer's enrollment with the company\n",
        "- Recency - number of days since the last purchase\n",
        "- Education - customer's level of education\n",
        "- Marital - customer's marital status\n",
        "- Kidhome - number of small children in customer's household\n",
        "- Teenhome - number of teenagers in customer's household\n",
        "- Income - customer's yearly household income\n",
        "- MntFishProducts - the amount spent on fish products in the last 2 years\n",
        "- MntMeatProducts - the amount spent on meat products in the last 2 years\n",
        "- MntFruits - the amount spent on fruits products in the last 2 years\n",
        "- MntSweetProducts - amount spent on sweet products in the last 2 years\n",
        "- MntWines - the amount spent on wine products in the last 2 years\n",
        "- MntGoldProds - the amount spent on gold products in the last 2 years\n",
        "- NumDealsPurchases - number of purchases made with discount\n",
        "- NumCatalogPurchases - number of purchases made using catalog (buying goods to be shipped through the mail)\n",
        "- NumStorePurchases - number of purchases made directly in stores\n",
        "- NumWebPurchases - number of purchases made through the company's website\n",
        "- NumWebVisitsMonth - number of visits to company's website in the last month\n",
        "- Reponse - The Response from customer to the marketing campaign ( 1 is accept, 0 is denied)\n",
        "- Complain - 1 if the customer complained in the last 2 years"
      ]
    },
    {
      "cell_type": "code",
      "execution_count": 3,
      "metadata": {
        "id": "pKP0YmOqsTkZ"
      },
      "outputs": [
        {
          "data": {
            "text/html": [
              "<div>\n",
              "<style scoped>\n",
              "    .dataframe tbody tr th:only-of-type {\n",
              "        vertical-align: middle;\n",
              "    }\n",
              "\n",
              "    .dataframe tbody tr th {\n",
              "        vertical-align: top;\n",
              "    }\n",
              "\n",
              "    .dataframe thead th {\n",
              "        text-align: right;\n",
              "    }\n",
              "</style>\n",
              "<table border=\"1\" class=\"dataframe\">\n",
              "  <thead>\n",
              "    <tr style=\"text-align: right;\">\n",
              "      <th></th>\n",
              "      <th>Id</th>\n",
              "      <th>Year_Birth</th>\n",
              "      <th>Education</th>\n",
              "      <th>Marital_Status</th>\n",
              "      <th>Income</th>\n",
              "      <th>Kidhome</th>\n",
              "      <th>Teenhome</th>\n",
              "      <th>Dt_Customer</th>\n",
              "      <th>Recency</th>\n",
              "      <th>MntWines</th>\n",
              "      <th>MntFruits</th>\n",
              "      <th>MntMeatProducts</th>\n",
              "      <th>MntFishProducts</th>\n",
              "      <th>MntSweetProducts</th>\n",
              "      <th>MntGoldProds</th>\n",
              "      <th>NumDealsPurchases</th>\n",
              "      <th>NumWebPurchases</th>\n",
              "      <th>NumCatalogPurchases</th>\n",
              "      <th>NumStorePurchases</th>\n",
              "      <th>NumWebVisitsMonth</th>\n",
              "      <th>Response</th>\n",
              "      <th>Complain</th>\n",
              "    </tr>\n",
              "  </thead>\n",
              "  <tbody>\n",
              "    <tr>\n",
              "      <th>0</th>\n",
              "      <td>1826</td>\n",
              "      <td>1970</td>\n",
              "      <td>Graduation</td>\n",
              "      <td>Divorced</td>\n",
              "      <td>84835.00</td>\n",
              "      <td>0</td>\n",
              "      <td>0</td>\n",
              "      <td>6/16/2014</td>\n",
              "      <td>0</td>\n",
              "      <td>189</td>\n",
              "      <td>104</td>\n",
              "      <td>379</td>\n",
              "      <td>111</td>\n",
              "      <td>189</td>\n",
              "      <td>218</td>\n",
              "      <td>1</td>\n",
              "      <td>4</td>\n",
              "      <td>4</td>\n",
              "      <td>6</td>\n",
              "      <td>1</td>\n",
              "      <td>1</td>\n",
              "      <td>0</td>\n",
              "    </tr>\n",
              "    <tr>\n",
              "      <th>1</th>\n",
              "      <td>1</td>\n",
              "      <td>1961</td>\n",
              "      <td>Graduation</td>\n",
              "      <td>Single</td>\n",
              "      <td>57091.00</td>\n",
              "      <td>0</td>\n",
              "      <td>0</td>\n",
              "      <td>6/15/2014</td>\n",
              "      <td>0</td>\n",
              "      <td>464</td>\n",
              "      <td>5</td>\n",
              "      <td>64</td>\n",
              "      <td>7</td>\n",
              "      <td>0</td>\n",
              "      <td>37</td>\n",
              "      <td>1</td>\n",
              "      <td>7</td>\n",
              "      <td>3</td>\n",
              "      <td>7</td>\n",
              "      <td>5</td>\n",
              "      <td>1</td>\n",
              "      <td>0</td>\n",
              "    </tr>\n",
              "    <tr>\n",
              "      <th>2</th>\n",
              "      <td>10476</td>\n",
              "      <td>1958</td>\n",
              "      <td>Graduation</td>\n",
              "      <td>Married</td>\n",
              "      <td>67267.00</td>\n",
              "      <td>0</td>\n",
              "      <td>1</td>\n",
              "      <td>5/13/2014</td>\n",
              "      <td>0</td>\n",
              "      <td>134</td>\n",
              "      <td>11</td>\n",
              "      <td>59</td>\n",
              "      <td>15</td>\n",
              "      <td>2</td>\n",
              "      <td>30</td>\n",
              "      <td>1</td>\n",
              "      <td>3</td>\n",
              "      <td>2</td>\n",
              "      <td>5</td>\n",
              "      <td>2</td>\n",
              "      <td>0</td>\n",
              "      <td>0</td>\n",
              "    </tr>\n",
              "    <tr>\n",
              "      <th>3</th>\n",
              "      <td>1386</td>\n",
              "      <td>1967</td>\n",
              "      <td>Graduation</td>\n",
              "      <td>Together</td>\n",
              "      <td>32474.00</td>\n",
              "      <td>1</td>\n",
              "      <td>1</td>\n",
              "      <td>11/5/2014</td>\n",
              "      <td>0</td>\n",
              "      <td>10</td>\n",
              "      <td>0</td>\n",
              "      <td>1</td>\n",
              "      <td>0</td>\n",
              "      <td>0</td>\n",
              "      <td>0</td>\n",
              "      <td>1</td>\n",
              "      <td>1</td>\n",
              "      <td>0</td>\n",
              "      <td>2</td>\n",
              "      <td>7</td>\n",
              "      <td>0</td>\n",
              "      <td>0</td>\n",
              "    </tr>\n",
              "    <tr>\n",
              "      <th>4</th>\n",
              "      <td>5371</td>\n",
              "      <td>1989</td>\n",
              "      <td>Graduation</td>\n",
              "      <td>Single</td>\n",
              "      <td>21474.00</td>\n",
              "      <td>1</td>\n",
              "      <td>0</td>\n",
              "      <td>8/4/2014</td>\n",
              "      <td>0</td>\n",
              "      <td>6</td>\n",
              "      <td>16</td>\n",
              "      <td>24</td>\n",
              "      <td>11</td>\n",
              "      <td>0</td>\n",
              "      <td>34</td>\n",
              "      <td>2</td>\n",
              "      <td>3</td>\n",
              "      <td>1</td>\n",
              "      <td>2</td>\n",
              "      <td>7</td>\n",
              "      <td>1</td>\n",
              "      <td>0</td>\n",
              "    </tr>\n",
              "    <tr>\n",
              "      <th>5</th>\n",
              "      <td>7348</td>\n",
              "      <td>1958</td>\n",
              "      <td>PhD</td>\n",
              "      <td>Single</td>\n",
              "      <td>71691.00</td>\n",
              "      <td>0</td>\n",
              "      <td>0</td>\n",
              "      <td>3/17/2014</td>\n",
              "      <td>0</td>\n",
              "      <td>336</td>\n",
              "      <td>130</td>\n",
              "      <td>411</td>\n",
              "      <td>240</td>\n",
              "      <td>32</td>\n",
              "      <td>43</td>\n",
              "      <td>1</td>\n",
              "      <td>4</td>\n",
              "      <td>7</td>\n",
              "      <td>5</td>\n",
              "      <td>2</td>\n",
              "      <td>1</td>\n",
              "      <td>0</td>\n",
              "    </tr>\n",
              "    <tr>\n",
              "      <th>6</th>\n",
              "      <td>4073</td>\n",
              "      <td>1954</td>\n",
              "      <td>2n Cycle</td>\n",
              "      <td>Married</td>\n",
              "      <td>63564.00</td>\n",
              "      <td>0</td>\n",
              "      <td>0</td>\n",
              "      <td>1/29/2014</td>\n",
              "      <td>0</td>\n",
              "      <td>769</td>\n",
              "      <td>80</td>\n",
              "      <td>252</td>\n",
              "      <td>15</td>\n",
              "      <td>34</td>\n",
              "      <td>65</td>\n",
              "      <td>1</td>\n",
              "      <td>10</td>\n",
              "      <td>10</td>\n",
              "      <td>7</td>\n",
              "      <td>6</td>\n",
              "      <td>1</td>\n",
              "      <td>0</td>\n",
              "    </tr>\n",
              "    <tr>\n",
              "      <th>7</th>\n",
              "      <td>1991</td>\n",
              "      <td>1967</td>\n",
              "      <td>Graduation</td>\n",
              "      <td>Together</td>\n",
              "      <td>44931.00</td>\n",
              "      <td>0</td>\n",
              "      <td>1</td>\n",
              "      <td>1/18/2014</td>\n",
              "      <td>0</td>\n",
              "      <td>78</td>\n",
              "      <td>0</td>\n",
              "      <td>11</td>\n",
              "      <td>0</td>\n",
              "      <td>0</td>\n",
              "      <td>7</td>\n",
              "      <td>1</td>\n",
              "      <td>2</td>\n",
              "      <td>1</td>\n",
              "      <td>3</td>\n",
              "      <td>5</td>\n",
              "      <td>0</td>\n",
              "      <td>0</td>\n",
              "    </tr>\n",
              "    <tr>\n",
              "      <th>8</th>\n",
              "      <td>4047</td>\n",
              "      <td>1954</td>\n",
              "      <td>PhD</td>\n",
              "      <td>Married</td>\n",
              "      <td>65324.00</td>\n",
              "      <td>0</td>\n",
              "      <td>1</td>\n",
              "      <td>11/1/2014</td>\n",
              "      <td>0</td>\n",
              "      <td>384</td>\n",
              "      <td>0</td>\n",
              "      <td>102</td>\n",
              "      <td>21</td>\n",
              "      <td>32</td>\n",
              "      <td>5</td>\n",
              "      <td>3</td>\n",
              "      <td>6</td>\n",
              "      <td>2</td>\n",
              "      <td>9</td>\n",
              "      <td>4</td>\n",
              "      <td>0</td>\n",
              "      <td>0</td>\n",
              "    </tr>\n",
              "    <tr>\n",
              "      <th>9</th>\n",
              "      <td>9477</td>\n",
              "      <td>1954</td>\n",
              "      <td>PhD</td>\n",
              "      <td>Married</td>\n",
              "      <td>65324.00</td>\n",
              "      <td>0</td>\n",
              "      <td>1</td>\n",
              "      <td>11/1/2014</td>\n",
              "      <td>0</td>\n",
              "      <td>384</td>\n",
              "      <td>0</td>\n",
              "      <td>102</td>\n",
              "      <td>21</td>\n",
              "      <td>32</td>\n",
              "      <td>5</td>\n",
              "      <td>3</td>\n",
              "      <td>6</td>\n",
              "      <td>2</td>\n",
              "      <td>9</td>\n",
              "      <td>4</td>\n",
              "      <td>0</td>\n",
              "      <td>0</td>\n",
              "    </tr>\n",
              "  </tbody>\n",
              "</table>\n",
              "</div>"
            ],
            "text/plain": [
              "      Id  Year_Birth   Education Marital_Status   Income  Kidhome  Teenhome  \\\n",
              "0   1826        1970  Graduation       Divorced 84835.00        0         0   \n",
              "1      1        1961  Graduation         Single 57091.00        0         0   \n",
              "2  10476        1958  Graduation        Married 67267.00        0         1   \n",
              "3   1386        1967  Graduation       Together 32474.00        1         1   \n",
              "4   5371        1989  Graduation         Single 21474.00        1         0   \n",
              "5   7348        1958         PhD         Single 71691.00        0         0   \n",
              "6   4073        1954    2n Cycle        Married 63564.00        0         0   \n",
              "7   1991        1967  Graduation       Together 44931.00        0         1   \n",
              "8   4047        1954         PhD        Married 65324.00        0         1   \n",
              "9   9477        1954         PhD        Married 65324.00        0         1   \n",
              "\n",
              "  Dt_Customer  Recency  MntWines  MntFruits  MntMeatProducts  MntFishProducts  \\\n",
              "0   6/16/2014        0       189        104              379              111   \n",
              "1   6/15/2014        0       464          5               64                7   \n",
              "2   5/13/2014        0       134         11               59               15   \n",
              "3   11/5/2014        0        10          0                1                0   \n",
              "4    8/4/2014        0         6         16               24               11   \n",
              "5   3/17/2014        0       336        130              411              240   \n",
              "6   1/29/2014        0       769         80              252               15   \n",
              "7   1/18/2014        0        78          0               11                0   \n",
              "8   11/1/2014        0       384          0              102               21   \n",
              "9   11/1/2014        0       384          0              102               21   \n",
              "\n",
              "   MntSweetProducts  MntGoldProds  NumDealsPurchases  NumWebPurchases  \\\n",
              "0               189           218                  1                4   \n",
              "1                 0            37                  1                7   \n",
              "2                 2            30                  1                3   \n",
              "3                 0             0                  1                1   \n",
              "4                 0            34                  2                3   \n",
              "5                32            43                  1                4   \n",
              "6                34            65                  1               10   \n",
              "7                 0             7                  1                2   \n",
              "8                32             5                  3                6   \n",
              "9                32             5                  3                6   \n",
              "\n",
              "   NumCatalogPurchases  NumStorePurchases  NumWebVisitsMonth  Response  \\\n",
              "0                    4                  6                  1         1   \n",
              "1                    3                  7                  5         1   \n",
              "2                    2                  5                  2         0   \n",
              "3                    0                  2                  7         0   \n",
              "4                    1                  2                  7         1   \n",
              "5                    7                  5                  2         1   \n",
              "6                   10                  7                  6         1   \n",
              "7                    1                  3                  5         0   \n",
              "8                    2                  9                  4         0   \n",
              "9                    2                  9                  4         0   \n",
              "\n",
              "   Complain  \n",
              "0         0  \n",
              "1         0  \n",
              "2         0  \n",
              "3         0  \n",
              "4         0  \n",
              "5         0  \n",
              "6         0  \n",
              "7         0  \n",
              "8         0  \n",
              "9         0  "
            ]
          },
          "execution_count": 3,
          "metadata": {},
          "output_type": "execute_result"
        }
      ],
      "source": [
        "# Duplicate Dataset\n",
        "# Dilakukan agar data set original tidak berubah apabila dilakukan pengolahan pada data\n",
        "df = df_ori.copy()\n",
        "# Showing First 10 Data\n",
        "df.head(10)"
      ]
    },
    {
      "cell_type": "code",
      "execution_count": 4,
      "metadata": {},
      "outputs": [
        {
          "data": {
            "text/html": [
              "<div>\n",
              "<style scoped>\n",
              "    .dataframe tbody tr th:only-of-type {\n",
              "        vertical-align: middle;\n",
              "    }\n",
              "\n",
              "    .dataframe tbody tr th {\n",
              "        vertical-align: top;\n",
              "    }\n",
              "\n",
              "    .dataframe thead th {\n",
              "        text-align: right;\n",
              "    }\n",
              "</style>\n",
              "<table border=\"1\" class=\"dataframe\">\n",
              "  <thead>\n",
              "    <tr style=\"text-align: right;\">\n",
              "      <th></th>\n",
              "      <th>Id</th>\n",
              "      <th>Year_Birth</th>\n",
              "      <th>Education</th>\n",
              "      <th>Marital_Status</th>\n",
              "      <th>Income</th>\n",
              "      <th>Kidhome</th>\n",
              "      <th>Teenhome</th>\n",
              "      <th>Dt_Customer</th>\n",
              "      <th>Recency</th>\n",
              "      <th>MntWines</th>\n",
              "      <th>MntFruits</th>\n",
              "      <th>MntMeatProducts</th>\n",
              "      <th>MntFishProducts</th>\n",
              "      <th>MntSweetProducts</th>\n",
              "      <th>MntGoldProds</th>\n",
              "      <th>NumDealsPurchases</th>\n",
              "      <th>NumWebPurchases</th>\n",
              "      <th>NumCatalogPurchases</th>\n",
              "      <th>NumStorePurchases</th>\n",
              "      <th>NumWebVisitsMonth</th>\n",
              "      <th>Response</th>\n",
              "      <th>Complain</th>\n",
              "    </tr>\n",
              "  </thead>\n",
              "  <tbody>\n",
              "    <tr>\n",
              "      <th>2230</th>\n",
              "      <td>3363</td>\n",
              "      <td>1974</td>\n",
              "      <td>2n Cycle</td>\n",
              "      <td>Married</td>\n",
              "      <td>20130.00</td>\n",
              "      <td>0</td>\n",
              "      <td>0</td>\n",
              "      <td>3/17/2014</td>\n",
              "      <td>99</td>\n",
              "      <td>0</td>\n",
              "      <td>6</td>\n",
              "      <td>3</td>\n",
              "      <td>7</td>\n",
              "      <td>6</td>\n",
              "      <td>12</td>\n",
              "      <td>1</td>\n",
              "      <td>1</td>\n",
              "      <td>0</td>\n",
              "      <td>3</td>\n",
              "      <td>8</td>\n",
              "      <td>0</td>\n",
              "      <td>0</td>\n",
              "    </tr>\n",
              "    <tr>\n",
              "      <th>2231</th>\n",
              "      <td>8595</td>\n",
              "      <td>1973</td>\n",
              "      <td>Graduation</td>\n",
              "      <td>Widow</td>\n",
              "      <td>42429.00</td>\n",
              "      <td>0</td>\n",
              "      <td>1</td>\n",
              "      <td>11/2/2014</td>\n",
              "      <td>99</td>\n",
              "      <td>55</td>\n",
              "      <td>0</td>\n",
              "      <td>6</td>\n",
              "      <td>2</td>\n",
              "      <td>0</td>\n",
              "      <td>4</td>\n",
              "      <td>2</td>\n",
              "      <td>1</td>\n",
              "      <td>1</td>\n",
              "      <td>3</td>\n",
              "      <td>5</td>\n",
              "      <td>0</td>\n",
              "      <td>0</td>\n",
              "    </tr>\n",
              "    <tr>\n",
              "      <th>2232</th>\n",
              "      <td>7232</td>\n",
              "      <td>1973</td>\n",
              "      <td>Graduation</td>\n",
              "      <td>Widow</td>\n",
              "      <td>42429.00</td>\n",
              "      <td>0</td>\n",
              "      <td>1</td>\n",
              "      <td>11/2/2014</td>\n",
              "      <td>99</td>\n",
              "      <td>55</td>\n",
              "      <td>0</td>\n",
              "      <td>6</td>\n",
              "      <td>2</td>\n",
              "      <td>0</td>\n",
              "      <td>4</td>\n",
              "      <td>2</td>\n",
              "      <td>1</td>\n",
              "      <td>1</td>\n",
              "      <td>3</td>\n",
              "      <td>5</td>\n",
              "      <td>0</td>\n",
              "      <td>0</td>\n",
              "    </tr>\n",
              "    <tr>\n",
              "      <th>2233</th>\n",
              "      <td>7829</td>\n",
              "      <td>1900</td>\n",
              "      <td>2n Cycle</td>\n",
              "      <td>Divorced</td>\n",
              "      <td>36640.00</td>\n",
              "      <td>1</td>\n",
              "      <td>0</td>\n",
              "      <td>9/26/2013</td>\n",
              "      <td>99</td>\n",
              "      <td>15</td>\n",
              "      <td>6</td>\n",
              "      <td>8</td>\n",
              "      <td>7</td>\n",
              "      <td>4</td>\n",
              "      <td>25</td>\n",
              "      <td>1</td>\n",
              "      <td>2</td>\n",
              "      <td>1</td>\n",
              "      <td>2</td>\n",
              "      <td>5</td>\n",
              "      <td>0</td>\n",
              "      <td>1</td>\n",
              "    </tr>\n",
              "    <tr>\n",
              "      <th>2234</th>\n",
              "      <td>9977</td>\n",
              "      <td>1973</td>\n",
              "      <td>Graduation</td>\n",
              "      <td>Divorced</td>\n",
              "      <td>78901.00</td>\n",
              "      <td>0</td>\n",
              "      <td>1</td>\n",
              "      <td>9/17/2013</td>\n",
              "      <td>99</td>\n",
              "      <td>321</td>\n",
              "      <td>11</td>\n",
              "      <td>309</td>\n",
              "      <td>33</td>\n",
              "      <td>26</td>\n",
              "      <td>34</td>\n",
              "      <td>3</td>\n",
              "      <td>9</td>\n",
              "      <td>3</td>\n",
              "      <td>5</td>\n",
              "      <td>4</td>\n",
              "      <td>0</td>\n",
              "      <td>0</td>\n",
              "    </tr>\n",
              "    <tr>\n",
              "      <th>2235</th>\n",
              "      <td>10142</td>\n",
              "      <td>1976</td>\n",
              "      <td>PhD</td>\n",
              "      <td>Divorced</td>\n",
              "      <td>66476.00</td>\n",
              "      <td>0</td>\n",
              "      <td>1</td>\n",
              "      <td>7/3/2013</td>\n",
              "      <td>99</td>\n",
              "      <td>372</td>\n",
              "      <td>18</td>\n",
              "      <td>126</td>\n",
              "      <td>47</td>\n",
              "      <td>48</td>\n",
              "      <td>78</td>\n",
              "      <td>2</td>\n",
              "      <td>5</td>\n",
              "      <td>2</td>\n",
              "      <td>11</td>\n",
              "      <td>4</td>\n",
              "      <td>0</td>\n",
              "      <td>0</td>\n",
              "    </tr>\n",
              "    <tr>\n",
              "      <th>2236</th>\n",
              "      <td>5263</td>\n",
              "      <td>1977</td>\n",
              "      <td>2n Cycle</td>\n",
              "      <td>Married</td>\n",
              "      <td>31056.00</td>\n",
              "      <td>1</td>\n",
              "      <td>0</td>\n",
              "      <td>1/22/2013</td>\n",
              "      <td>99</td>\n",
              "      <td>5</td>\n",
              "      <td>10</td>\n",
              "      <td>13</td>\n",
              "      <td>3</td>\n",
              "      <td>8</td>\n",
              "      <td>16</td>\n",
              "      <td>1</td>\n",
              "      <td>1</td>\n",
              "      <td>0</td>\n",
              "      <td>3</td>\n",
              "      <td>8</td>\n",
              "      <td>0</td>\n",
              "      <td>0</td>\n",
              "    </tr>\n",
              "    <tr>\n",
              "      <th>2237</th>\n",
              "      <td>22</td>\n",
              "      <td>1976</td>\n",
              "      <td>Graduation</td>\n",
              "      <td>Divorced</td>\n",
              "      <td>46310.00</td>\n",
              "      <td>1</td>\n",
              "      <td>0</td>\n",
              "      <td>3/12/2012</td>\n",
              "      <td>99</td>\n",
              "      <td>185</td>\n",
              "      <td>2</td>\n",
              "      <td>88</td>\n",
              "      <td>15</td>\n",
              "      <td>5</td>\n",
              "      <td>14</td>\n",
              "      <td>2</td>\n",
              "      <td>6</td>\n",
              "      <td>1</td>\n",
              "      <td>5</td>\n",
              "      <td>8</td>\n",
              "      <td>0</td>\n",
              "      <td>0</td>\n",
              "    </tr>\n",
              "    <tr>\n",
              "      <th>2238</th>\n",
              "      <td>528</td>\n",
              "      <td>1978</td>\n",
              "      <td>Graduation</td>\n",
              "      <td>Married</td>\n",
              "      <td>65819.00</td>\n",
              "      <td>0</td>\n",
              "      <td>0</td>\n",
              "      <td>11/29/2012</td>\n",
              "      <td>99</td>\n",
              "      <td>267</td>\n",
              "      <td>38</td>\n",
              "      <td>701</td>\n",
              "      <td>149</td>\n",
              "      <td>165</td>\n",
              "      <td>63</td>\n",
              "      <td>1</td>\n",
              "      <td>5</td>\n",
              "      <td>4</td>\n",
              "      <td>10</td>\n",
              "      <td>3</td>\n",
              "      <td>0</td>\n",
              "      <td>0</td>\n",
              "    </tr>\n",
              "    <tr>\n",
              "      <th>2239</th>\n",
              "      <td>4070</td>\n",
              "      <td>1969</td>\n",
              "      <td>PhD</td>\n",
              "      <td>Married</td>\n",
              "      <td>94871.00</td>\n",
              "      <td>0</td>\n",
              "      <td>2</td>\n",
              "      <td>1/9/2012</td>\n",
              "      <td>99</td>\n",
              "      <td>169</td>\n",
              "      <td>24</td>\n",
              "      <td>553</td>\n",
              "      <td>188</td>\n",
              "      <td>0</td>\n",
              "      <td>144</td>\n",
              "      <td>1</td>\n",
              "      <td>8</td>\n",
              "      <td>5</td>\n",
              "      <td>4</td>\n",
              "      <td>7</td>\n",
              "      <td>1</td>\n",
              "      <td>0</td>\n",
              "    </tr>\n",
              "  </tbody>\n",
              "</table>\n",
              "</div>"
            ],
            "text/plain": [
              "         Id  Year_Birth   Education Marital_Status   Income  Kidhome  \\\n",
              "2230   3363        1974    2n Cycle        Married 20130.00        0   \n",
              "2231   8595        1973  Graduation          Widow 42429.00        0   \n",
              "2232   7232        1973  Graduation          Widow 42429.00        0   \n",
              "2233   7829        1900    2n Cycle       Divorced 36640.00        1   \n",
              "2234   9977        1973  Graduation       Divorced 78901.00        0   \n",
              "2235  10142        1976         PhD       Divorced 66476.00        0   \n",
              "2236   5263        1977    2n Cycle        Married 31056.00        1   \n",
              "2237     22        1976  Graduation       Divorced 46310.00        1   \n",
              "2238    528        1978  Graduation        Married 65819.00        0   \n",
              "2239   4070        1969         PhD        Married 94871.00        0   \n",
              "\n",
              "      Teenhome Dt_Customer  Recency  MntWines  MntFruits  MntMeatProducts  \\\n",
              "2230         0   3/17/2014       99         0          6                3   \n",
              "2231         1   11/2/2014       99        55          0                6   \n",
              "2232         1   11/2/2014       99        55          0                6   \n",
              "2233         0   9/26/2013       99        15          6                8   \n",
              "2234         1   9/17/2013       99       321         11              309   \n",
              "2235         1    7/3/2013       99       372         18              126   \n",
              "2236         0   1/22/2013       99         5         10               13   \n",
              "2237         0   3/12/2012       99       185          2               88   \n",
              "2238         0  11/29/2012       99       267         38              701   \n",
              "2239         2    1/9/2012       99       169         24              553   \n",
              "\n",
              "      MntFishProducts  MntSweetProducts  MntGoldProds  NumDealsPurchases  \\\n",
              "2230                7                 6            12                  1   \n",
              "2231                2                 0             4                  2   \n",
              "2232                2                 0             4                  2   \n",
              "2233                7                 4            25                  1   \n",
              "2234               33                26            34                  3   \n",
              "2235               47                48            78                  2   \n",
              "2236                3                 8            16                  1   \n",
              "2237               15                 5            14                  2   \n",
              "2238              149               165            63                  1   \n",
              "2239              188                 0           144                  1   \n",
              "\n",
              "      NumWebPurchases  NumCatalogPurchases  NumStorePurchases  \\\n",
              "2230                1                    0                  3   \n",
              "2231                1                    1                  3   \n",
              "2232                1                    1                  3   \n",
              "2233                2                    1                  2   \n",
              "2234                9                    3                  5   \n",
              "2235                5                    2                 11   \n",
              "2236                1                    0                  3   \n",
              "2237                6                    1                  5   \n",
              "2238                5                    4                 10   \n",
              "2239                8                    5                  4   \n",
              "\n",
              "      NumWebVisitsMonth  Response  Complain  \n",
              "2230                  8         0         0  \n",
              "2231                  5         0         0  \n",
              "2232                  5         0         0  \n",
              "2233                  5         0         1  \n",
              "2234                  4         0         0  \n",
              "2235                  4         0         0  \n",
              "2236                  8         0         0  \n",
              "2237                  8         0         0  \n",
              "2238                  3         0         0  \n",
              "2239                  7         1         0  "
            ]
          },
          "execution_count": 4,
          "metadata": {},
          "output_type": "execute_result"
        }
      ],
      "source": [
        "# Showing 10 Last Data\n",
        "df.tail(10)"
      ]
    },
    {
      "cell_type": "code",
      "execution_count": 5,
      "metadata": {},
      "outputs": [
        {
          "name": "stdout",
          "output_type": "stream",
          "text": [
            "Jumlah baris : 2240\n",
            "Jumlah kolom : 22\n",
            "Nama kolom : Index(['Id', 'Year_Birth', 'Education', 'Marital_Status', 'Income', 'Kidhome',\n",
            "       'Teenhome', 'Dt_Customer', 'Recency', 'MntWines', 'MntFruits',\n",
            "       'MntMeatProducts', 'MntFishProducts', 'MntSweetProducts',\n",
            "       'MntGoldProds', 'NumDealsPurchases', 'NumWebPurchases',\n",
            "       'NumCatalogPurchases', 'NumStorePurchases', 'NumWebVisitsMonth',\n",
            "       'Response', 'Complain'],\n",
            "      dtype='object')\n"
          ]
        }
      ],
      "source": [
        "# Jumlah baris dan kolom serta nama kolom\n",
        "print(f\"Jumlah baris : {df.shape[0]}\")\n",
        "print(f\"Jumlah kolom : {df.shape[1]}\")\n",
        "print(f\"Nama kolom : {df.columns}\")\n"
      ]
    },
    {
      "cell_type": "code",
      "execution_count": 6,
      "metadata": {
        "colab": {
          "base_uri": "https://localhost:8080/"
        },
        "id": "B3T2BTeytQFM",
        "outputId": "65d2e467-5d60-4672-be08-ff2421dabc47"
      },
      "outputs": [
        {
          "name": "stdout",
          "output_type": "stream",
          "text": [
            "<class 'pandas.core.frame.DataFrame'>\n",
            "RangeIndex: 2240 entries, 0 to 2239\n",
            "Data columns (total 22 columns):\n",
            " #   Column               Non-Null Count  Dtype  \n",
            "---  ------               --------------  -----  \n",
            " 0   Id                   2240 non-null   int64  \n",
            " 1   Year_Birth           2240 non-null   int64  \n",
            " 2   Education            2240 non-null   object \n",
            " 3   Marital_Status       2240 non-null   object \n",
            " 4   Income               2216 non-null   float64\n",
            " 5   Kidhome              2240 non-null   int64  \n",
            " 6   Teenhome             2240 non-null   int64  \n",
            " 7   Dt_Customer          2240 non-null   object \n",
            " 8   Recency              2240 non-null   int64  \n",
            " 9   MntWines             2240 non-null   int64  \n",
            " 10  MntFruits            2240 non-null   int64  \n",
            " 11  MntMeatProducts      2240 non-null   int64  \n",
            " 12  MntFishProducts      2240 non-null   int64  \n",
            " 13  MntSweetProducts     2240 non-null   int64  \n",
            " 14  MntGoldProds         2240 non-null   int64  \n",
            " 15  NumDealsPurchases    2240 non-null   int64  \n",
            " 16  NumWebPurchases      2240 non-null   int64  \n",
            " 17  NumCatalogPurchases  2240 non-null   int64  \n",
            " 18  NumStorePurchases    2240 non-null   int64  \n",
            " 19  NumWebVisitsMonth    2240 non-null   int64  \n",
            " 20  Response             2240 non-null   int64  \n",
            " 21  Complain             2240 non-null   int64  \n",
            "dtypes: float64(1), int64(18), object(3)\n",
            "memory usage: 385.1+ KB\n"
          ]
        }
      ],
      "source": [
        "# Check basic info Dataset\n",
        "df.info()"
      ]
    },
    {
      "cell_type": "code",
      "execution_count": 7,
      "metadata": {},
      "outputs": [
        {
          "data": {
            "text/html": [
              "<div>\n",
              "<style scoped>\n",
              "    .dataframe tbody tr th:only-of-type {\n",
              "        vertical-align: middle;\n",
              "    }\n",
              "\n",
              "    .dataframe tbody tr th {\n",
              "        vertical-align: top;\n",
              "    }\n",
              "\n",
              "    .dataframe thead th {\n",
              "        text-align: right;\n",
              "    }\n",
              "</style>\n",
              "<table border=\"1\" class=\"dataframe\">\n",
              "  <thead>\n",
              "    <tr style=\"text-align: right;\">\n",
              "      <th></th>\n",
              "      <th>count</th>\n",
              "      <th>mean</th>\n",
              "      <th>std</th>\n",
              "      <th>min</th>\n",
              "      <th>25%</th>\n",
              "      <th>50%</th>\n",
              "      <th>75%</th>\n",
              "      <th>max</th>\n",
              "    </tr>\n",
              "  </thead>\n",
              "  <tbody>\n",
              "    <tr>\n",
              "      <th>Id</th>\n",
              "      <td>2240.00</td>\n",
              "      <td>5592.16</td>\n",
              "      <td>3246.66</td>\n",
              "      <td>0.00</td>\n",
              "      <td>2828.25</td>\n",
              "      <td>5458.50</td>\n",
              "      <td>8427.75</td>\n",
              "      <td>11191.00</td>\n",
              "    </tr>\n",
              "    <tr>\n",
              "      <th>Year_Birth</th>\n",
              "      <td>2240.00</td>\n",
              "      <td>1968.81</td>\n",
              "      <td>11.98</td>\n",
              "      <td>1893.00</td>\n",
              "      <td>1959.00</td>\n",
              "      <td>1970.00</td>\n",
              "      <td>1977.00</td>\n",
              "      <td>1996.00</td>\n",
              "    </tr>\n",
              "    <tr>\n",
              "      <th>Income</th>\n",
              "      <td>2216.00</td>\n",
              "      <td>52247.25</td>\n",
              "      <td>25173.08</td>\n",
              "      <td>1730.00</td>\n",
              "      <td>35303.00</td>\n",
              "      <td>51381.50</td>\n",
              "      <td>68522.00</td>\n",
              "      <td>666666.00</td>\n",
              "    </tr>\n",
              "    <tr>\n",
              "      <th>Kidhome</th>\n",
              "      <td>2240.00</td>\n",
              "      <td>0.44</td>\n",
              "      <td>0.54</td>\n",
              "      <td>0.00</td>\n",
              "      <td>0.00</td>\n",
              "      <td>0.00</td>\n",
              "      <td>1.00</td>\n",
              "      <td>2.00</td>\n",
              "    </tr>\n",
              "    <tr>\n",
              "      <th>Teenhome</th>\n",
              "      <td>2240.00</td>\n",
              "      <td>0.51</td>\n",
              "      <td>0.54</td>\n",
              "      <td>0.00</td>\n",
              "      <td>0.00</td>\n",
              "      <td>0.00</td>\n",
              "      <td>1.00</td>\n",
              "      <td>2.00</td>\n",
              "    </tr>\n",
              "    <tr>\n",
              "      <th>Recency</th>\n",
              "      <td>2240.00</td>\n",
              "      <td>49.11</td>\n",
              "      <td>28.96</td>\n",
              "      <td>0.00</td>\n",
              "      <td>24.00</td>\n",
              "      <td>49.00</td>\n",
              "      <td>74.00</td>\n",
              "      <td>99.00</td>\n",
              "    </tr>\n",
              "    <tr>\n",
              "      <th>MntWines</th>\n",
              "      <td>2240.00</td>\n",
              "      <td>303.94</td>\n",
              "      <td>336.60</td>\n",
              "      <td>0.00</td>\n",
              "      <td>23.75</td>\n",
              "      <td>173.50</td>\n",
              "      <td>504.25</td>\n",
              "      <td>1493.00</td>\n",
              "    </tr>\n",
              "    <tr>\n",
              "      <th>MntFruits</th>\n",
              "      <td>2240.00</td>\n",
              "      <td>26.30</td>\n",
              "      <td>39.77</td>\n",
              "      <td>0.00</td>\n",
              "      <td>1.00</td>\n",
              "      <td>8.00</td>\n",
              "      <td>33.00</td>\n",
              "      <td>199.00</td>\n",
              "    </tr>\n",
              "    <tr>\n",
              "      <th>MntMeatProducts</th>\n",
              "      <td>2240.00</td>\n",
              "      <td>166.95</td>\n",
              "      <td>225.72</td>\n",
              "      <td>0.00</td>\n",
              "      <td>16.00</td>\n",
              "      <td>67.00</td>\n",
              "      <td>232.00</td>\n",
              "      <td>1725.00</td>\n",
              "    </tr>\n",
              "    <tr>\n",
              "      <th>MntFishProducts</th>\n",
              "      <td>2240.00</td>\n",
              "      <td>37.53</td>\n",
              "      <td>54.63</td>\n",
              "      <td>0.00</td>\n",
              "      <td>3.00</td>\n",
              "      <td>12.00</td>\n",
              "      <td>50.00</td>\n",
              "      <td>259.00</td>\n",
              "    </tr>\n",
              "    <tr>\n",
              "      <th>MntSweetProducts</th>\n",
              "      <td>2240.00</td>\n",
              "      <td>27.06</td>\n",
              "      <td>41.28</td>\n",
              "      <td>0.00</td>\n",
              "      <td>1.00</td>\n",
              "      <td>8.00</td>\n",
              "      <td>33.00</td>\n",
              "      <td>263.00</td>\n",
              "    </tr>\n",
              "    <tr>\n",
              "      <th>MntGoldProds</th>\n",
              "      <td>2240.00</td>\n",
              "      <td>44.02</td>\n",
              "      <td>52.17</td>\n",
              "      <td>0.00</td>\n",
              "      <td>9.00</td>\n",
              "      <td>24.00</td>\n",
              "      <td>56.00</td>\n",
              "      <td>362.00</td>\n",
              "    </tr>\n",
              "    <tr>\n",
              "      <th>NumDealsPurchases</th>\n",
              "      <td>2240.00</td>\n",
              "      <td>2.33</td>\n",
              "      <td>1.93</td>\n",
              "      <td>0.00</td>\n",
              "      <td>1.00</td>\n",
              "      <td>2.00</td>\n",
              "      <td>3.00</td>\n",
              "      <td>15.00</td>\n",
              "    </tr>\n",
              "    <tr>\n",
              "      <th>NumWebPurchases</th>\n",
              "      <td>2240.00</td>\n",
              "      <td>4.08</td>\n",
              "      <td>2.78</td>\n",
              "      <td>0.00</td>\n",
              "      <td>2.00</td>\n",
              "      <td>4.00</td>\n",
              "      <td>6.00</td>\n",
              "      <td>27.00</td>\n",
              "    </tr>\n",
              "    <tr>\n",
              "      <th>NumCatalogPurchases</th>\n",
              "      <td>2240.00</td>\n",
              "      <td>2.66</td>\n",
              "      <td>2.92</td>\n",
              "      <td>0.00</td>\n",
              "      <td>0.00</td>\n",
              "      <td>2.00</td>\n",
              "      <td>4.00</td>\n",
              "      <td>28.00</td>\n",
              "    </tr>\n",
              "    <tr>\n",
              "      <th>NumStorePurchases</th>\n",
              "      <td>2240.00</td>\n",
              "      <td>5.79</td>\n",
              "      <td>3.25</td>\n",
              "      <td>0.00</td>\n",
              "      <td>3.00</td>\n",
              "      <td>5.00</td>\n",
              "      <td>8.00</td>\n",
              "      <td>13.00</td>\n",
              "    </tr>\n",
              "    <tr>\n",
              "      <th>NumWebVisitsMonth</th>\n",
              "      <td>2240.00</td>\n",
              "      <td>5.32</td>\n",
              "      <td>2.43</td>\n",
              "      <td>0.00</td>\n",
              "      <td>3.00</td>\n",
              "      <td>6.00</td>\n",
              "      <td>7.00</td>\n",
              "      <td>20.00</td>\n",
              "    </tr>\n",
              "    <tr>\n",
              "      <th>Response</th>\n",
              "      <td>2240.00</td>\n",
              "      <td>0.15</td>\n",
              "      <td>0.36</td>\n",
              "      <td>0.00</td>\n",
              "      <td>0.00</td>\n",
              "      <td>0.00</td>\n",
              "      <td>0.00</td>\n",
              "      <td>1.00</td>\n",
              "    </tr>\n",
              "    <tr>\n",
              "      <th>Complain</th>\n",
              "      <td>2240.00</td>\n",
              "      <td>0.01</td>\n",
              "      <td>0.10</td>\n",
              "      <td>0.00</td>\n",
              "      <td>0.00</td>\n",
              "      <td>0.00</td>\n",
              "      <td>0.00</td>\n",
              "      <td>1.00</td>\n",
              "    </tr>\n",
              "  </tbody>\n",
              "</table>\n",
              "</div>"
            ],
            "text/plain": [
              "                      count     mean      std     min      25%      50%  \\\n",
              "Id                  2240.00  5592.16  3246.66    0.00  2828.25  5458.50   \n",
              "Year_Birth          2240.00  1968.81    11.98 1893.00  1959.00  1970.00   \n",
              "Income              2216.00 52247.25 25173.08 1730.00 35303.00 51381.50   \n",
              "Kidhome             2240.00     0.44     0.54    0.00     0.00     0.00   \n",
              "Teenhome            2240.00     0.51     0.54    0.00     0.00     0.00   \n",
              "Recency             2240.00    49.11    28.96    0.00    24.00    49.00   \n",
              "MntWines            2240.00   303.94   336.60    0.00    23.75   173.50   \n",
              "MntFruits           2240.00    26.30    39.77    0.00     1.00     8.00   \n",
              "MntMeatProducts     2240.00   166.95   225.72    0.00    16.00    67.00   \n",
              "MntFishProducts     2240.00    37.53    54.63    0.00     3.00    12.00   \n",
              "MntSweetProducts    2240.00    27.06    41.28    0.00     1.00     8.00   \n",
              "MntGoldProds        2240.00    44.02    52.17    0.00     9.00    24.00   \n",
              "NumDealsPurchases   2240.00     2.33     1.93    0.00     1.00     2.00   \n",
              "NumWebPurchases     2240.00     4.08     2.78    0.00     2.00     4.00   \n",
              "NumCatalogPurchases 2240.00     2.66     2.92    0.00     0.00     2.00   \n",
              "NumStorePurchases   2240.00     5.79     3.25    0.00     3.00     5.00   \n",
              "NumWebVisitsMonth   2240.00     5.32     2.43    0.00     3.00     6.00   \n",
              "Response            2240.00     0.15     0.36    0.00     0.00     0.00   \n",
              "Complain            2240.00     0.01     0.10    0.00     0.00     0.00   \n",
              "\n",
              "                         75%       max  \n",
              "Id                   8427.75  11191.00  \n",
              "Year_Birth           1977.00   1996.00  \n",
              "Income              68522.00 666666.00  \n",
              "Kidhome                 1.00      2.00  \n",
              "Teenhome                1.00      2.00  \n",
              "Recency                74.00     99.00  \n",
              "MntWines              504.25   1493.00  \n",
              "MntFruits              33.00    199.00  \n",
              "MntMeatProducts       232.00   1725.00  \n",
              "MntFishProducts        50.00    259.00  \n",
              "MntSweetProducts       33.00    263.00  \n",
              "MntGoldProds           56.00    362.00  \n",
              "NumDealsPurchases       3.00     15.00  \n",
              "NumWebPurchases         6.00     27.00  \n",
              "NumCatalogPurchases     4.00     28.00  \n",
              "NumStorePurchases       8.00     13.00  \n",
              "NumWebVisitsMonth       7.00     20.00  \n",
              "Response                0.00      1.00  \n",
              "Complain                0.00      1.00  "
            ]
          },
          "execution_count": 7,
          "metadata": {},
          "output_type": "execute_result"
        }
      ],
      "source": [
        "# Check Numerical Dataset \n",
        "df.describe().T"
      ]
    },
    {
      "attachments": {},
      "cell_type": "markdown",
      "metadata": {
        "id": "84WS2s69tmrs"
      },
      "source": [
        "Berdasarkan tabel, dapat dilihat bahwa column `Kidhome and Teenhome` memiliki rata-rata `0.44 dan 0.51` dan nilai  `maximun` adalah `2`. Boleh di asumsikan bahwa secara global, customer mayoritas `tidak memiliki anak (0) atau hanya punya 1 anak saja`"
      ]
    },
    {
      "attachments": {},
      "cell_type": "markdown",
      "metadata": {},
      "source": [
        "Dari informasi diatas penulis memutuskan untuk melakukan droping kolom `Id dan Dt-Customer`, Karena hanya berisi informasi untuk masing masing customer dan tidak relevan untuk digunkan sebagai pembelajaran model"
      ]
    },
    {
      "cell_type": "code",
      "execution_count": 8,
      "metadata": {},
      "outputs": [],
      "source": [
        "# Drop column Id\n",
        "df = df.drop(columns=['Id', 'Dt_Customer'])"
      ]
    },
    {
      "attachments": {},
      "cell_type": "markdown",
      "metadata": {
        "id": "E1OHrikJt3qb"
      },
      "source": [
        "# 4 - Exploratory Data Analysis (EDA)"
      ]
    },
    {
      "attachments": {},
      "cell_type": "markdown",
      "metadata": {},
      "source": [
        "Setelah mengetahui beberapa info dasar, penulis kemudian melakukan eksplorasi lanjutan berupa pengecekan apakah ada data yang memiliki `duplicate` atau `missing value`, cek `distribusi data`, mencari `Insight` yang dapat disimpulkan, serta mencari hubungan setiap kolom terhadap kolom `Response` yang merupakan target dari dataset ini\n",
        "\n",
        "Langkah pertama adalah melakukan pengelompokan data berdasarkan jenis datanya apakah kategorikal atau numerik berdasarkan informasi yang didapat pada data loading"
      ]
    },
    {
      "cell_type": "code",
      "execution_count": 9,
      "metadata": {},
      "outputs": [
        {
          "name": "stdout",
          "output_type": "stream",
          "text": [
            "Numerical Columns :  ['Year_Birth', 'Income', 'Recency', 'MntWines', 'MntFruits', 'MntMeatProducts', 'MntFishProducts', 'MntSweetProducts', 'MntGoldProds', 'NumDealsPurchases', 'NumWebPurchases', 'NumCatalogPurchases', 'NumStorePurchases', 'NumWebVisitsMonth']\n",
            "\n",
            "Categorical Columns :  ['Education', 'Marital_Status', 'Kidhome', 'Teenhome', 'Response', 'Complain']\n"
          ]
        }
      ],
      "source": [
        "# Numerical and Categorical Column\n",
        "num_col = ['Year_Birth', 'Income','Recency', 'MntWines', 'MntFruits', 'MntMeatProducts', 'MntFishProducts',\n",
        "       'MntSweetProducts', 'MntGoldProds', 'NumDealsPurchases', 'NumWebPurchases', 'NumCatalogPurchases', 'NumStorePurchases', 'NumWebVisitsMonth']\n",
        "\n",
        "cat_col = ['Education','Marital_Status', 'Kidhome','Teenhome',\n",
        "       'Response', 'Complain']\n",
        "\n",
        "print('Numerical Columns : ', num_col)\n",
        "print('\\nCategorical Columns : ', cat_col)"
      ]
    },
    {
      "attachments": {},
      "cell_type": "markdown",
      "metadata": {},
      "source": [
        "## Cek Missing Value dan Duplicate\n",
        "Semua algoritma machine learning tidak dapat dapat bekerja apabila terdapat missing value. Sedangkan data duplicate akan membuat hasil prediksi model menjadi bias. Sehingga dilakukan proses handling missing value dan data dupilkat"
      ]
    },
    {
      "cell_type": "code",
      "execution_count": 10,
      "metadata": {},
      "outputs": [
        {
          "name": "stdout",
          "output_type": "stream",
          "text": [
            "Income  :  24\n",
            "Percentage of missing value Income : 0.01%\n",
            "Duplicates Data : 182\n",
            "Percentage of Duplicate Data Complain : 0.08%\n"
          ]
        }
      ],
      "source": [
        "# Cek missing value dan duplicated data\n",
        "num_miss_val = 0\n",
        "for i in df:\n",
        "    miss_val = df[i].isnull().sum()\n",
        "    if miss_val > 0:\n",
        "        print(i, ' : ', miss_val)\n",
        "        print(f'Percentage of missing value {i} : {miss_val/len(df[i].values):.2f}%')\n",
        "        num_miss_val += 1\n",
        "\n",
        "if num_miss_val == 0:\n",
        "    print('Tidak Ada Missing Value')\n",
        "\n",
        "print(f\"Duplicates Data : {df.duplicated().sum()}\")\n",
        "print(f'Percentage of Duplicate Data {i} : {df.duplicated().sum()/len(df[i].values):.2f}%')"
      ]
    },
    {
      "attachments": {},
      "cell_type": "markdown",
      "metadata": {},
      "source": [
        "- Ditemukan missing value pada dataset yaitu pada kolom `Income` dengan jumlah `24` data. Karena Persentase missing value cukup kecil yaitu hanya `0.01% `maka akan dilakukan trimming pada data ini.\n",
        "\n",
        "- Terdapat `182` data duplicate pada dataset yaitu `0.08%` dari jumlah keseluruhan data. Karena salah satu kriteria ( asumsi ) yang harus di penuhi pada machine learning adalah `tidak ada duplicate data` maka harus dilakukan `trimming` pada data ini.\n"
      ]
    },
    {
      "cell_type": "code",
      "execution_count": 11,
      "metadata": {},
      "outputs": [],
      "source": [
        "# Drop missing value\n",
        "df= df.dropna()\n",
        "\n",
        "# Drop data duplicate\n",
        "df = df.drop_duplicates()"
      ]
    },
    {
      "cell_type": "code",
      "execution_count": 12,
      "metadata": {},
      "outputs": [
        {
          "name": "stdout",
          "output_type": "stream",
          "text": [
            "Tidak Ada Missing Value\n",
            "Duplicates Data : 0\n",
            "Percentage of Duplicate Data Complain : 0.00%\n"
          ]
        }
      ],
      "source": [
        "# Cek kembali missing value dan duplicated data\n",
        "num_miss_val = 0\n",
        "for i in df:\n",
        "    miss_val = df[i].isnull().sum()\n",
        "    if miss_val > 0:\n",
        "        print(i, ' : ', miss_val)\n",
        "        print(f'Percentage of missing value {i} : {miss_val/len(df[i].values):.2f}%')\n",
        "        num_miss_val += 1\n",
        "\n",
        "if num_miss_val == 0:\n",
        "    print('Tidak Ada Missing Value')\n",
        "\n",
        "print(f\"Duplicates Data : {df.duplicated().sum()}\")\n",
        "print(f'Percentage of Duplicate Data {i} : {df.duplicated().sum()/len(df[i].values):.2f}%')"
      ]
    },
    {
      "attachments": {},
      "cell_type": "markdown",
      "metadata": {},
      "source": [
        "Setelah tidak ada data yang memiliki missing value maupun data duplicate selanjutnya dilakukan analisa deskiriptif untuk memperoleh insight data dataset"
      ]
    },
    {
      "attachments": {},
      "cell_type": "markdown",
      "metadata": {},
      "source": [
        "## Analisa Deskriptif\n",
        "\n",
        "Karena model yang akan di bangun adalah prediksi respone customer terhadpa marketing campaigne, maka penulis berfokus pada analisa kolom respone"
      ]
    },
    {
      "cell_type": "code",
      "execution_count": 13,
      "metadata": {},
      "outputs": [
        {
          "data": {
            "text/plain": [
              "Response\n",
              "0    1722\n",
              "1     312\n",
              "dtype: int64"
            ]
          },
          "execution_count": 13,
          "metadata": {},
          "output_type": "execute_result"
        }
      ],
      "source": [
        "# Grouping beberapa kolom untuk mendapatkan insgigh\n",
        "df.groupby(['Response']).size()"
      ]
    },
    {
      "cell_type": "code",
      "execution_count": 14,
      "metadata": {},
      "outputs": [
        {
          "data": {
            "text/html": [
              "<div>\n",
              "<style scoped>\n",
              "    .dataframe tbody tr th:only-of-type {\n",
              "        vertical-align: middle;\n",
              "    }\n",
              "\n",
              "    .dataframe tbody tr th {\n",
              "        vertical-align: top;\n",
              "    }\n",
              "\n",
              "    .dataframe thead th {\n",
              "        text-align: right;\n",
              "    }\n",
              "</style>\n",
              "<table border=\"1\" class=\"dataframe\">\n",
              "  <thead>\n",
              "    <tr style=\"text-align: right;\">\n",
              "      <th></th>\n",
              "      <th>Year_Birth</th>\n",
              "      <th>Income</th>\n",
              "      <th>Recency</th>\n",
              "      <th>MntWines</th>\n",
              "      <th>MntFruits</th>\n",
              "      <th>MntMeatProducts</th>\n",
              "      <th>MntFishProducts</th>\n",
              "      <th>MntSweetProducts</th>\n",
              "      <th>MntGoldProds</th>\n",
              "      <th>NumDealsPurchases</th>\n",
              "      <th>NumWebPurchases</th>\n",
              "      <th>NumCatalogPurchases</th>\n",
              "      <th>NumStorePurchases</th>\n",
              "      <th>NumWebVisitsMonth</th>\n",
              "    </tr>\n",
              "    <tr>\n",
              "      <th>Response</th>\n",
              "      <th></th>\n",
              "      <th></th>\n",
              "      <th></th>\n",
              "      <th></th>\n",
              "      <th></th>\n",
              "      <th></th>\n",
              "      <th></th>\n",
              "      <th></th>\n",
              "      <th></th>\n",
              "      <th></th>\n",
              "      <th></th>\n",
              "      <th></th>\n",
              "      <th></th>\n",
              "      <th></th>\n",
              "    </tr>\n",
              "  </thead>\n",
              "  <tbody>\n",
              "    <tr>\n",
              "      <th>0</th>\n",
              "      <td>1968.66</td>\n",
              "      <td>50945.02</td>\n",
              "      <td>51.36</td>\n",
              "      <td>271.04</td>\n",
              "      <td>24.14</td>\n",
              "      <td>144.78</td>\n",
              "      <td>35.06</td>\n",
              "      <td>25.08</td>\n",
              "      <td>40.41</td>\n",
              "      <td>2.34</td>\n",
              "      <td>3.93</td>\n",
              "      <td>2.40</td>\n",
              "      <td>5.74</td>\n",
              "      <td>5.32</td>\n",
              "    </tr>\n",
              "    <tr>\n",
              "      <th>1</th>\n",
              "      <td>1969.61</td>\n",
              "      <td>60155.21</td>\n",
              "      <td>34.94</td>\n",
              "      <td>493.60</td>\n",
              "      <td>38.15</td>\n",
              "      <td>294.63</td>\n",
              "      <td>50.63</td>\n",
              "      <td>38.54</td>\n",
              "      <td>62.57</td>\n",
              "      <td>2.34</td>\n",
              "      <td>5.06</td>\n",
              "      <td>4.17</td>\n",
              "      <td>6.04</td>\n",
              "      <td>5.32</td>\n",
              "    </tr>\n",
              "  </tbody>\n",
              "</table>\n",
              "</div>"
            ],
            "text/plain": [
              "          Year_Birth   Income  Recency  MntWines  MntFruits  MntMeatProducts  \\\n",
              "Response                                                                       \n",
              "0            1968.66 50945.02    51.36    271.04      24.14           144.78   \n",
              "1            1969.61 60155.21    34.94    493.60      38.15           294.63   \n",
              "\n",
              "          MntFishProducts  MntSweetProducts  MntGoldProds  NumDealsPurchases  \\\n",
              "Response                                                                       \n",
              "0                   35.06             25.08         40.41               2.34   \n",
              "1                   50.63             38.54         62.57               2.34   \n",
              "\n",
              "          NumWebPurchases  NumCatalogPurchases  NumStorePurchases  \\\n",
              "Response                                                            \n",
              "0                    3.93                 2.40               5.74   \n",
              "1                    5.06                 4.17               6.04   \n",
              "\n",
              "          NumWebVisitsMonth  \n",
              "Response                     \n",
              "0                      5.32  \n",
              "1                      5.32  "
            ]
          },
          "execution_count": 14,
          "metadata": {},
          "output_type": "execute_result"
        }
      ],
      "source": [
        "# Groupby column response\n",
        "df[num_col+['Response']].groupby('Response').mean()"
      ]
    },
    {
      "attachments": {},
      "cell_type": "markdown",
      "metadata": {},
      "source": [
        "Dari dua query diatas diperoleh beberapa informasi yaitu :\n",
        "\n",
        "Secara global, customer yang `menerima` tawaran diskon sebanyak `312 customer` sedangkan yang `tidak menerima sebanyak 1722`\n",
        "\n",
        "Secara global beberpa yang membedakan antara customer yang menerima tawaran dan tidak adalah sbb :\n",
        "- Customer yang menerima tawaran memiliki :\n",
        "    - Rata - rata `income` lebih tinggi dari yang tidak\n",
        "    - Cenderung melakukan pembelian lebih banyak pada `semua kategori produk`\n",
        "    - `Jumlah pembelian` yang lebih banyak daripada yang tidak menerima tawaran\n",
        "\n",
        "Customer yang menerima maupun yang tidak memiliki `demografi usia yang beragam.`"
      ]
    },
    {
      "attachments": {},
      "cell_type": "markdown",
      "metadata": {},
      "source": [
        "### Accept The Campaign\n",
        "Dari analisa secara global, kemudian penulis melakuan analisa secara spesific pada masing masing customer yang menerima dan tidak menerima tawaran"
      ]
    },
    {
      "cell_type": "code",
      "execution_count": 84,
      "metadata": {},
      "outputs": [
        {
          "data": {
            "image/png": "[encoded data removed]",
            "text/plain": [
              "<Figure size 1200x800 with 5 Axes>"
            ]
          },
          "metadata": {},
          "output_type": "display_data"
        }
      ],
      "source": [
        "# Query dataset where customer accept the promotion\n",
        "df_accept = df[df['Response']==1][['Education', 'Marital_Status', 'Kidhome', 'Teenhome', 'Complain']]\n",
        "\n",
        "# Make a figure\n",
        "plt.figure(figsize=[12,8])\n",
        "count = 231\n",
        "\n",
        "# Looping dataframe for visualize percentage of the data\n",
        "for i in df_accept.columns:\n",
        "    plt.subplot(count)\n",
        "    label = df[i].unique()\n",
        "    plt.pie(x=df_accept[i].value_counts(), labels=label, autopct=\"%.2f%%\")\n",
        "    plt.title(i)\n",
        "    count += 1\n",
        "plt.suptitle('Distribusi Customer That Accpet The Campaign')\n",
        "plt.show()"
      ]
    },
    {
      "attachments": {},
      "cell_type": "markdown",
      "metadata": {},
      "source": [
        "Dari hasil plot diatas, beberapa informasi yang dapat diambil adalah sbb :\n",
        "- Customer yang menerima tawaran diskon paling banyak memiliki jenjang pendidikan `Sarjana (Graduation)` dan paling sedikit adalah `Master`\n",
        "- Sedangkan berdasarkan status pernikahan paling banyak di terima oleh cutomer yang `single` ataupun `bercerai`\n",
        "- Dari sisi jumlah `anak - anak dan remaja` yang, customer yang menerima tawaran tidak memiliki anak - anak maupun remaja."
      ]
    },
    {
      "attachments": {},
      "cell_type": "markdown",
      "metadata": {},
      "source": [
        "### Denied The Campaign"
      ]
    },
    {
      "cell_type": "code",
      "execution_count": 85,
      "metadata": {},
      "outputs": [
        {
          "data": {
            "image/png": "[encoded data removed]",
            "text/plain": [
              "<Figure size 1200x800 with 5 Axes>"
            ]
          },
          "metadata": {},
          "output_type": "display_data"
        }
      ],
      "source": [
        "# Query dataset where customer denied the promotion\n",
        "df_denied = df[df['Response']==0][['Education', 'Marital_Status', 'Kidhome', 'Teenhome', 'Complain']]\n",
        "\n",
        "# Make a figure\n",
        "plt.figure(figsize=[12,8])\n",
        "count = 231\n",
        "\n",
        "# Looping dataframe for visualize percentage of the data\n",
        "for i in df_denied.columns:\n",
        "    plt.subplot(count)\n",
        "    label = df[i].unique()\n",
        "    \n",
        "    plt.pie(x=df_denied[i].value_counts(), labels=label, autopct=\"%.2f%%\")\n",
        "    plt.title(i)\n",
        "    count += 1\n",
        "plt.suptitle('Distribusi Customer That Denied The Campaign')\n",
        "plt.show()"
      ]
    },
    {
      "attachments": {},
      "cell_type": "markdown",
      "metadata": {},
      "source": [
        "Dari hasil plot diatas, beberapa informasi yang dapat diambil adalah sbb :\n",
        "- Customer yang tidak menerima tawaran diskon paling banyak memiliki jenjang pendidikan `Sarjana (Graduation)` dan paling sedikit adalah `Master`\n",
        "- Sedangkan berdasarkan status pernikahan paling banyak di terima oleh cutomer yang `bercerai`. Customer yang `single dan menikah` memiliki proporsi yang hampir sama.\n",
        "- Dari sisi jumlah `anak - anak dan remaja` yang, customer yang tidak memiliki dan memiliki 1 anak atau remaja merupakan mayoritas yang menolak tawaran"
      ]
    },
    {
      "attachments": {},
      "cell_type": "markdown",
      "metadata": {
        "id": "HRIo5JZ-v1M6"
      },
      "source": [
        "# 5 - Data Preprocessing"
      ]
    },
    {
      "attachments": {},
      "cell_type": "markdown",
      "metadata": {},
      "source": [
        "Setelah memperoleh informasi pada analisa deskriptif, penulis ingin mencari korelasi antara semua kolom dengan kolom `Response`. Metode yang digunakan `feature importance dengan random forest`. Sehingga untuk sementara semua fitur akan dilakukan preprocessing"
      ]
    },
    {
      "attachments": {},
      "cell_type": "markdown",
      "metadata": {},
      "source": [
        "## Cek Multicolinarity\n",
        "Pengecekan multicolinarity menggunakan nilai dari VIF ( Variance Inflation Factor )"
      ]
    },
    {
      "cell_type": "code",
      "execution_count": 17,
      "metadata": {},
      "outputs": [
        {
          "data": {
            "text/html": [
              "<div>\n",
              "<style scoped>\n",
              "    .dataframe tbody tr th:only-of-type {\n",
              "        vertical-align: middle;\n",
              "    }\n",
              "\n",
              "    .dataframe tbody tr th {\n",
              "        vertical-align: top;\n",
              "    }\n",
              "\n",
              "    .dataframe thead th {\n",
              "        text-align: right;\n",
              "    }\n",
              "</style>\n",
              "<table border=\"1\" class=\"dataframe\">\n",
              "  <thead>\n",
              "    <tr style=\"text-align: right;\">\n",
              "      <th></th>\n",
              "      <th>variables</th>\n",
              "      <th>VIF</th>\n",
              "    </tr>\n",
              "  </thead>\n",
              "  <tbody>\n",
              "    <tr>\n",
              "      <th>0</th>\n",
              "      <td>Year_Birth</td>\n",
              "      <td>30.19</td>\n",
              "    </tr>\n",
              "    <tr>\n",
              "      <th>1</th>\n",
              "      <td>Income</td>\n",
              "      <td>10.69</td>\n",
              "    </tr>\n",
              "    <tr>\n",
              "      <th>2</th>\n",
              "      <td>Recency</td>\n",
              "      <td>3.85</td>\n",
              "    </tr>\n",
              "    <tr>\n",
              "      <th>3</th>\n",
              "      <td>MntWines</td>\n",
              "      <td>4.68</td>\n",
              "    </tr>\n",
              "    <tr>\n",
              "      <th>4</th>\n",
              "      <td>MntFruits</td>\n",
              "      <td>2.76</td>\n",
              "    </tr>\n",
              "    <tr>\n",
              "      <th>5</th>\n",
              "      <td>MntMeatProducts</td>\n",
              "      <td>4.29</td>\n",
              "    </tr>\n",
              "    <tr>\n",
              "      <th>6</th>\n",
              "      <td>MntFishProducts</td>\n",
              "      <td>3.04</td>\n",
              "    </tr>\n",
              "    <tr>\n",
              "      <th>7</th>\n",
              "      <td>MntSweetProducts</td>\n",
              "      <td>2.67</td>\n",
              "    </tr>\n",
              "    <tr>\n",
              "      <th>8</th>\n",
              "      <td>MntGoldProds</td>\n",
              "      <td>2.52</td>\n",
              "    </tr>\n",
              "    <tr>\n",
              "      <th>9</th>\n",
              "      <td>NumDealsPurchases</td>\n",
              "      <td>3.26</td>\n",
              "    </tr>\n",
              "    <tr>\n",
              "      <th>10</th>\n",
              "      <td>NumWebPurchases</td>\n",
              "      <td>5.95</td>\n",
              "    </tr>\n",
              "    <tr>\n",
              "      <th>11</th>\n",
              "      <td>NumCatalogPurchases</td>\n",
              "      <td>5.32</td>\n",
              "    </tr>\n",
              "    <tr>\n",
              "      <th>12</th>\n",
              "      <td>NumStorePurchases</td>\n",
              "      <td>9.36</td>\n",
              "    </tr>\n",
              "    <tr>\n",
              "      <th>13</th>\n",
              "      <td>NumWebVisitsMonth</td>\n",
              "      <td>12.62</td>\n",
              "    </tr>\n",
              "  </tbody>\n",
              "</table>\n",
              "</div>"
            ],
            "text/plain": [
              "              variables   VIF\n",
              "0            Year_Birth 30.19\n",
              "1                Income 10.69\n",
              "2               Recency  3.85\n",
              "3              MntWines  4.68\n",
              "4             MntFruits  2.76\n",
              "5       MntMeatProducts  4.29\n",
              "6       MntFishProducts  3.04\n",
              "7      MntSweetProducts  2.67\n",
              "8          MntGoldProds  2.52\n",
              "9     NumDealsPurchases  3.26\n",
              "10      NumWebPurchases  5.95\n",
              "11  NumCatalogPurchases  5.32\n",
              "12    NumStorePurchases  9.36\n",
              "13    NumWebVisitsMonth 12.62"
            ]
          },
          "execution_count": 17,
          "metadata": {},
          "output_type": "execute_result"
        }
      ],
      "source": [
        "# make vif function\n",
        "def calc_vif(X):\n",
        "\n",
        "    # Calculating VIF\n",
        "    vif = pd.DataFrame()\n",
        "    vif[\"variables\"] = X.columns\n",
        "    vif[\"VIF\"] = [variance_inflation_factor(X.values, i) for i in range(X.shape[1])]\n",
        "\n",
        "    return(vif)\n",
        "    \n",
        "# check vif value\n",
        "X = df[num_col]\n",
        "calc_vif(X)"
      ]
    },
    {
      "attachments": {},
      "cell_type": "markdown",
      "metadata": {},
      "source": [
        "Dari hasil pengecekan diperoleh bahwa `Year Birth` Memiliki Nilai Multicolinarity Yang tinggi sehingga akan di lakukan `dropping`"
      ]
    },
    {
      "cell_type": "code",
      "execution_count": 18,
      "metadata": {},
      "outputs": [],
      "source": [
        "# Drop colum Year Birth\n",
        "df = df.drop(columns=['Year_Birth'])"
      ]
    },
    {
      "cell_type": "code",
      "execution_count": 19,
      "metadata": {},
      "outputs": [],
      "source": [
        "# Update num_col after droping Year Birth\n",
        "num_col = num_col[1:15]"
      ]
    },
    {
      "cell_type": "code",
      "execution_count": 20,
      "metadata": {},
      "outputs": [
        {
          "data": {
            "text/html": [
              "<div>\n",
              "<style scoped>\n",
              "    .dataframe tbody tr th:only-of-type {\n",
              "        vertical-align: middle;\n",
              "    }\n",
              "\n",
              "    .dataframe tbody tr th {\n",
              "        vertical-align: top;\n",
              "    }\n",
              "\n",
              "    .dataframe thead th {\n",
              "        text-align: right;\n",
              "    }\n",
              "</style>\n",
              "<table border=\"1\" class=\"dataframe\">\n",
              "  <thead>\n",
              "    <tr style=\"text-align: right;\">\n",
              "      <th></th>\n",
              "      <th>variables</th>\n",
              "      <th>VIF</th>\n",
              "    </tr>\n",
              "  </thead>\n",
              "  <tbody>\n",
              "    <tr>\n",
              "      <th>0</th>\n",
              "      <td>Income</td>\n",
              "      <td>7.53</td>\n",
              "    </tr>\n",
              "    <tr>\n",
              "      <th>1</th>\n",
              "      <td>Recency</td>\n",
              "      <td>3.43</td>\n",
              "    </tr>\n",
              "    <tr>\n",
              "      <th>2</th>\n",
              "      <td>MntWines</td>\n",
              "      <td>4.34</td>\n",
              "    </tr>\n",
              "    <tr>\n",
              "      <th>3</th>\n",
              "      <td>MntFruits</td>\n",
              "      <td>2.76</td>\n",
              "    </tr>\n",
              "    <tr>\n",
              "      <th>4</th>\n",
              "      <td>MntMeatProducts</td>\n",
              "      <td>4.27</td>\n",
              "    </tr>\n",
              "    <tr>\n",
              "      <th>5</th>\n",
              "      <td>MntFishProducts</td>\n",
              "      <td>3.03</td>\n",
              "    </tr>\n",
              "    <tr>\n",
              "      <th>6</th>\n",
              "      <td>MntSweetProducts</td>\n",
              "      <td>2.67</td>\n",
              "    </tr>\n",
              "    <tr>\n",
              "      <th>7</th>\n",
              "      <td>MntGoldProds</td>\n",
              "      <td>2.52</td>\n",
              "    </tr>\n",
              "    <tr>\n",
              "      <th>8</th>\n",
              "      <td>NumDealsPurchases</td>\n",
              "      <td>3.24</td>\n",
              "    </tr>\n",
              "    <tr>\n",
              "      <th>9</th>\n",
              "      <td>NumWebPurchases</td>\n",
              "      <td>5.89</td>\n",
              "    </tr>\n",
              "    <tr>\n",
              "      <th>10</th>\n",
              "      <td>NumCatalogPurchases</td>\n",
              "      <td>5.23</td>\n",
              "    </tr>\n",
              "    <tr>\n",
              "      <th>11</th>\n",
              "      <td>NumStorePurchases</td>\n",
              "      <td>8.00</td>\n",
              "    </tr>\n",
              "    <tr>\n",
              "      <th>12</th>\n",
              "      <td>NumWebVisitsMonth</td>\n",
              "      <td>4.88</td>\n",
              "    </tr>\n",
              "  </tbody>\n",
              "</table>\n",
              "</div>"
            ],
            "text/plain": [
              "              variables  VIF\n",
              "0                Income 7.53\n",
              "1               Recency 3.43\n",
              "2              MntWines 4.34\n",
              "3             MntFruits 2.76\n",
              "4       MntMeatProducts 4.27\n",
              "5       MntFishProducts 3.03\n",
              "6      MntSweetProducts 2.67\n",
              "7          MntGoldProds 2.52\n",
              "8     NumDealsPurchases 3.24\n",
              "9       NumWebPurchases 5.89\n",
              "10  NumCatalogPurchases 5.23\n",
              "11    NumStorePurchases 8.00\n",
              "12    NumWebVisitsMonth 4.88"
            ]
          },
          "execution_count": 20,
          "metadata": {},
          "output_type": "execute_result"
        }
      ],
      "source": [
        "# Check Kembali Multicolinarity\n",
        "def calc_vif(X):\n",
        "\n",
        "    # Calculating VIF\n",
        "    vif = pd.DataFrame()\n",
        "    vif[\"variables\"] = X.columns\n",
        "    vif[\"VIF\"] = [variance_inflation_factor(X.values, i) for i in range(X.shape[1])]\n",
        "\n",
        "    return(vif)\n",
        "\n",
        "X = df[num_col]\n",
        "calc_vif(X)"
      ]
    },
    {
      "attachments": {},
      "cell_type": "markdown",
      "metadata": {},
      "source": [
        "Setelah dilakukan droping kolom Year Birth, Diperoleh semua fitur numerikal tidak ada yang mengandung nilai antar satu dengan yang lain"
      ]
    },
    {
      "attachments": {},
      "cell_type": "markdown",
      "metadata": {},
      "source": [
        "## High Cardinality Handling\n",
        "Selanjutnya dilakukan adalah pengecekan cardinality pada data kategorikal."
      ]
    },
    {
      "cell_type": "code",
      "execution_count": 21,
      "metadata": {},
      "outputs": [
        {
          "name": "stdout",
          "output_type": "stream",
          "text": [
            "Education\n",
            "memiliki jumlah unik value 5\n",
            "Marital_Status\n",
            "memiliki jumlah unik value 8\n",
            "Kidhome\n",
            "memiliki jumlah unik value 3\n",
            "Teenhome\n",
            "memiliki jumlah unik value 3\n",
            "Response\n",
            "memiliki jumlah unik value 2\n",
            "Complain\n",
            "memiliki jumlah unik value 2\n"
          ]
        }
      ],
      "source": [
        "# Cek unique value categorical column\n",
        "for i in df[cat_col]:\n",
        "    print(f'{i}\\nmemiliki jumlah unik value {df[i].nunique()}')"
      ]
    },
    {
      "attachments": {},
      "cell_type": "markdown",
      "metadata": {},
      "source": [
        "Seluruh data kategorikal memiliki jumlah unik value maksimal 5 kecuali `Status Pernikahan`. Sehingga akan dilakukan handling high cardinality pada Fitur ini"
      ]
    },
    {
      "cell_type": "code",
      "execution_count": 22,
      "metadata": {},
      "outputs": [
        {
          "data": {
            "text/plain": [
              "Married     788\n",
              "Together    514\n",
              "Single      439\n",
              "Divorced    216\n",
              "Widow        70\n",
              "Alone         3\n",
              "YOLO          2\n",
              "Absurd        2\n",
              "Name: Marital_Status, dtype: int64"
            ]
          },
          "execution_count": 22,
          "metadata": {},
          "output_type": "execute_result"
        }
      ],
      "source": [
        "# Check distribusi unique value marital_status\n",
        "df.Marital_Status.value_counts()"
      ]
    },
    {
      "attachments": {},
      "cell_type": "markdown",
      "metadata": {},
      "source": [
        "Marital Status `YOLO, ALone, Absurd` dapat dilakukan `dropping` karena memiliki jumlah data yang cukup `kecil` dan tidak dapat digabungkan dengan yang lain"
      ]
    },
    {
      "cell_type": "code",
      "execution_count": 23,
      "metadata": {},
      "outputs": [],
      "source": [
        "# Droping with index\n",
        "df = df.drop(index=df[df['Marital_Status'].isin(['Alone', 'YOLO', 'Absurd'])].index)"
      ]
    },
    {
      "cell_type": "code",
      "execution_count": 24,
      "metadata": {},
      "outputs": [
        {
          "name": "stdout",
          "output_type": "stream",
          "text": [
            "Education\n",
            "memiliki jumlah unik value 5\n",
            "Marital_Status\n",
            "memiliki jumlah unik value 5\n",
            "Kidhome\n",
            "memiliki jumlah unik value 3\n",
            "Teenhome\n",
            "memiliki jumlah unik value 3\n",
            "Response\n",
            "memiliki jumlah unik value 2\n",
            "Complain\n",
            "memiliki jumlah unik value 2\n"
          ]
        }
      ],
      "source": [
        "# Cek agian unique value categorical column\n",
        "for i in df[cat_col]:\n",
        "    print(f'{i}\\nmemiliki jumlah unik value {df[i].nunique()}')"
      ]
    },
    {
      "attachments": {},
      "cell_type": "markdown",
      "metadata": {
        "id": "Skv54voXziM6"
      },
      "source": [
        "## Splitting Train Test\n",
        "Karena data imbalance maka split data mempertimbangkan persentase imbalance data dengan mengatur parameter `stratify` pada fungsi train tes split"
      ]
    },
    {
      "cell_type": "code",
      "execution_count": 25,
      "metadata": {},
      "outputs": [
        {
          "name": "stdout",
          "output_type": "stream",
          "text": [
            "train size : (1621, 19)\n",
            "test size : (406, 19)\n"
          ]
        }
      ],
      "source": [
        "# Pisahkan data train dan data test dengan train test split\n",
        "data_train, data_test = train_test_split(df, test_size=0.2, random_state=6645, stratify=df['Response'])\n",
        "print(f\"train size : {data_train.shape}\")\n",
        "print(f\"test size : {data_test.shape}\")"
      ]
    },
    {
      "cell_type": "code",
      "execution_count": 26,
      "metadata": {},
      "outputs": [],
      "source": [
        "# Reset Index data train dan data test\n",
        "data_train = data_train.reset_index(drop=True)\n",
        "data_test = data_test.reset_index(drop=True)"
      ]
    },
    {
      "attachments": {},
      "cell_type": "markdown",
      "metadata": {
        "id": "Ld3liX4qz-WY"
      },
      "source": [
        "## Handling Outlier\n",
        "Beberapa algoritma machine learning senstif terhadap outlier sehinggal dilakukan handling outlier berdasarkan distribusi datanya"
      ]
    },
    {
      "attachments": {},
      "cell_type": "markdown",
      "metadata": {
        "id": "Y_G_ldq11oC7"
      },
      "source": [
        "### Nilai Skew Fitur Numerikal"
      ]
    },
    {
      "cell_type": "code",
      "execution_count": 27,
      "metadata": {},
      "outputs": [
        {
          "name": "stdout",
          "output_type": "stream",
          "text": [
            "Nilai Skew Income : 7.830172287161637\n",
            "Nilai Skew Recency : 0.03287120251184007\n",
            "Nilai Skew MntWines : 1.1920783480774368\n",
            "Nilai Skew MntFruits : 2.174185824479511\n",
            "Nilai Skew MntMeatProducts : 2.1447059826551125\n",
            "Nilai Skew MntFishProducts : 1.9419525870053693\n",
            "Nilai Skew MntSweetProducts : 2.1479852265159187\n",
            "Nilai Skew MntGoldProds : 1.918506691826854\n",
            "Nilai Skew NumDealsPurchases : 2.3688851534662447\n",
            "Nilai Skew NumWebPurchases : 1.3779862474633306\n",
            "Nilai Skew NumCatalogPurchases : 2.1435009945886523\n",
            "Nilai Skew NumStorePurchases : 0.7137946644466147\n",
            "Nilai Skew NumWebVisitsMonth : 0.38825132923311245\n"
          ]
        }
      ],
      "source": [
        "# Looping untuk menghitung nilai skew fitur numerikal\n",
        "for i in num_col:\n",
        "        print(f'Nilai Skew {i} : {data_train[i].skew()}')"
      ]
    },
    {
      "attachments": {},
      "cell_type": "markdown",
      "metadata": {},
      "source": [
        "Dari hasil pengecekan, semua data numerik memiliki distribusi `tidak normal`. Sebelum melakukan pengecekan outlier, penulis mencoba melakukan `feature engineering` agar distribusi datanya `normal`. Ada banyak methode yang dapat dilakukan, salah satunya adalah dengan `transformasi logaritma`"
      ]
    },
    {
      "attachments": {},
      "cell_type": "markdown",
      "metadata": {},
      "source": [
        "### Log transform"
      ]
    },
    {
      "cell_type": "code",
      "execution_count": 28,
      "metadata": {},
      "outputs": [],
      "source": [
        "# copy data_train to data_train log\n",
        "data_train_log = data_train.copy()\n",
        "\n",
        "# Looping for logaritmik transform\n",
        "for x in num_col:\n",
        "    data_train_log[x] = data_train_log[x].map(lambda i: np.log(i) if i > 0 else 0)\n",
        "\n",
        "\n",
        "# copy data_test to data_test log\n",
        "data_test_log = data_test.copy()\n",
        "\n",
        "# Looping for logaritmik transform\n",
        "for x in num_col:\n",
        "    data_test_log[x] = data_test_log[x].map(lambda i: np.log(i) if i > 0 else 0)"
      ]
    },
    {
      "cell_type": "code",
      "execution_count": 29,
      "metadata": {},
      "outputs": [
        {
          "name": "stdout",
          "output_type": "stream",
          "text": [
            "Nilai Skew Income : -1.2097285630762793\n",
            "Nilai Skew Recency : -1.5906150973600932\n",
            "Nilai Skew MntWines : -0.6186874831157851\n",
            "Nilai Skew MntFruits : 0.15849008640556417\n",
            "Nilai Skew MntMeatProducts : -0.16622752474535338\n",
            "Nilai Skew MntFishProducts : 0.04749534473647156\n",
            "Nilai Skew MntSweetProducts : 0.17232942580334648\n",
            "Nilai Skew MntGoldProds : -0.39863326234557933\n",
            "Nilai Skew NumDealsPurchases : 0.6250386446804176\n",
            "Nilai Skew NumWebPurchases : -0.24762331673026072\n",
            "Nilai Skew NumCatalogPurchases : 0.6108225007662555\n",
            "Nilai Skew NumStorePurchases : -0.07922268464063535\n",
            "Nilai Skew NumWebVisitsMonth : -1.1510990863069734\n"
          ]
        }
      ],
      "source": [
        "# Looping untuk menghitung nilai skew fitur numerikal data train\n",
        "for i in num_col:\n",
        "        print(f'Nilai Skew {i} : {data_train_log[i].skew()}')"
      ]
    },
    {
      "attachments": {},
      "cell_type": "markdown",
      "metadata": {},
      "source": [
        "Dari hasil transformasi, diperoleh data dengan distribusi yang `relatif normal`. Hanya tersisa beberapa kolom yang memiliki distribusi tidak normal\n",
        "\n",
        "Dari nilai skew masing masing kolom akan dijadikan acuan untuk pemillihan metode pengecekan outlier. Kolom dengan nilai skew `lebih dari 0.5 dan kurang dari -0.5` adalah kolom dengan `distribusi tidak normal` dan akan dilakukan pengecekan dengan metode `tukey's rule`. Sedangkan yang lainnya memilliki `distribusi normal` dilakukan pengecekan dengan `Z-Score`"
      ]
    },
    {
      "cell_type": "code",
      "execution_count": 30,
      "metadata": {},
      "outputs": [],
      "source": [
        "# Buat fungsi untuk cek outlier\n",
        "def cek_outlier(data,col):\n",
        "  skew = data[col].skew()\n",
        "  if skew>=-0.5 and skew<=0.5:\n",
        "    upper_boundary = data[col].mean() + 3*data[col].std()\n",
        "    lower_boundary = data[col].mean() - 3*data[col].std()\n",
        "  else:\n",
        "    Q1 = np.quantile(data[col], 0.25)\n",
        "    Q3 = np.quantile(data[col], 0.75)\n",
        "    IQR =  Q3 - Q1\n",
        "    upper_boundary = Q3 + 1.5 * IQR\n",
        "    lower_boundary = Q1 - 1.5 * IQR\n",
        "  \n",
        "  outliers = data[(data[col]<lower_boundary) | (data[col]>upper_boundary)]\n",
        "  data_clean = data[(data[col]>=lower_boundary) & (data[col]<=upper_boundary)]\n",
        "  outliers_percent = len(outliers) / len(data) * 100\n",
        "\n",
        "  return data_clean, outliers, outliers_percent"
      ]
    },
    {
      "cell_type": "code",
      "execution_count": 31,
      "metadata": {},
      "outputs": [
        {
          "name": "stdout",
          "output_type": "stream",
          "text": [
            "Kolom dengan persentase outlier Under 5 %\n",
            "Income  = 1.97 %\n",
            "Recency  = 4.81 %\n",
            "MntWines  = 0.00 %\n",
            "MntFruits  = 0.00 %\n",
            "MntMeatProducts  = 0.00 %\n",
            "MntFishProducts  = 0.00 %\n",
            "MntSweetProducts  = 0.00 %\n",
            "MntGoldProds  = 0.00 %\n",
            "NumDealsPurchases  = 0.00 %\n",
            "NumWebPurchases  = 0.00 %\n",
            "NumCatalogPurchases  = 0.00 %\n",
            "NumStorePurchases  = 0.00 %\n",
            "NumWebVisitsMonth  = 0.00 %\n",
            "\n",
            "Kolom dengan persentase outlier Over 5 %\n"
          ]
        }
      ],
      "source": [
        "# Make variabel for feature with ouliers more and less than 5%\n",
        "under_5 = []\n",
        "over_5 = []\n",
        "\n",
        "# Looping data train numerikal\n",
        "for i in num_col:\n",
        "    data_clean, outliers, outliers_percent = cek_outlier(data_train_log, i)\n",
        "    if outliers_percent < 5:\n",
        "        under_5.append(i)\n",
        "    else:\n",
        "        over_5.append(i)\n",
        "\n",
        "# Print feature with outlier less than 5%\n",
        "print(f'Kolom dengan persentase outlier Under 5 %')\n",
        "for i in under_5:\n",
        "    data_clean, outliers, outliers_percent = cek_outlier(data_train_log, i)\n",
        "    print(f'{i}  = {outliers_percent:.2f} %')\n",
        "\n",
        "# Print feature with outlier more than 5%\n",
        "print(f'\\nKolom dengan persentase outlier Over 5 %')\n",
        "for i in over_5:\n",
        "    data_clean, outliers, outliers_percent = cek_outlier(data_train_log, i)\n",
        "    print(f'{i}  = {outliers_percent:.2f} %')"
      ]
    },
    {
      "attachments": {},
      "cell_type": "markdown",
      "metadata": {},
      "source": [
        "Setelah mengelompokkan feature berdasarkan persentase outlier, kemudian melakukan handling outlier sebagai berikut :\n",
        "- Less than 5%\n",
        "    - Trimming from data set\n",
        "- More than 5%\n",
        "    - Capping with winsorizer. Capping method is `iqr` because distributin of the data is skewed and fold is `1.5` for moderate skew"
      ]
    },
    {
      "cell_type": "code",
      "execution_count": 32,
      "metadata": {},
      "outputs": [],
      "source": [
        "# Trimming outlier for column with outliers under 5%\n",
        "for i in under_5:\n",
        "    data_train_clean, outliers, outliers_percent = cek_outlier(data_train_log, i)"
      ]
    },
    {
      "cell_type": "code",
      "execution_count": 33,
      "metadata": {},
      "outputs": [],
      "source": [
        "# Capping outliers for column with outliers over 5%\n",
        "capper = Winsorizer(capping_method='iqr', tail='both', fold=1.5, variables=['Recency'])\n",
        "capper.fit(data_train_log)\n",
        "data_train_clean = capper.transform(data_train_log)"
      ]
    },
    {
      "attachments": {},
      "cell_type": "markdown",
      "metadata": {
        "id": "38_NeI6F1sUa"
      },
      "source": [
        "## Handling Missing Values\n",
        "Seletah handling outlier, selanjutnya pengecekan missing value dan kemudian dilakukan handling apabila ditemukan missing value"
      ]
    },
    {
      "cell_type": "code",
      "execution_count": 34,
      "metadata": {
        "colab": {
          "base_uri": "https://localhost:8080/"
        },
        "id": "9aogBe_e2ACe",
        "outputId": "4e2fc0c8-3887-481a-9780-8161234f9001"
      },
      "outputs": [
        {
          "name": "stdout",
          "output_type": "stream",
          "text": [
            "Tidak Ada Missing Value\n"
          ]
        }
      ],
      "source": [
        "# Check Missing Values pada data train\n",
        "num_miss_val = 0\n",
        "for i in df:\n",
        "    miss_val = data_train_clean[i].isnull().sum()\n",
        "    if miss_val > 0:\n",
        "        print(i, ' : ', miss_val)\n",
        "        print(f'Percentage of missing value {i} : {miss_val/len(data_train_clean[i].values):.2f}%')\n",
        "        num_miss_val += 1\n",
        "\n",
        "if num_miss_val == 0:\n",
        "    print('Tidak Ada Missing Value')"
      ]
    },
    {
      "cell_type": "code",
      "execution_count": 35,
      "metadata": {
        "colab": {
          "base_uri": "https://localhost:8080/"
        },
        "id": "Tjs7dPQ92IjL",
        "outputId": "4584d9dc-50bc-48df-9e77-bed1825082b0"
      },
      "outputs": [
        {
          "name": "stdout",
          "output_type": "stream",
          "text": [
            "Tidak Ada Missing Value\n"
          ]
        }
      ],
      "source": [
        "# Check Missing Values pada data test\n",
        "num_miss_val = 0\n",
        "for i in df:\n",
        "    miss_val = data_test[i].isnull().sum()\n",
        "    if miss_val > 0:\n",
        "        print(i, ' : ', miss_val)\n",
        "        print(f'Percentage of missing value {i} : {miss_val/len(data_test[i].values):.2f}%')\n",
        "        num_miss_val += 1\n",
        "\n",
        "if num_miss_val == 0:\n",
        "    print('Tidak Ada Missing Value')"
      ]
    },
    {
      "attachments": {},
      "cell_type": "markdown",
      "metadata": {},
      "source": [
        "> Dari pengecekan `data train` dan `data test` tidak ditemukan kolom yang memiliki `missing value`"
      ]
    },
    {
      "attachments": {},
      "cell_type": "markdown",
      "metadata": {},
      "source": [
        "## Splitting Fitur Target"
      ]
    },
    {
      "attachments": {},
      "cell_type": "markdown",
      "metadata": {},
      "source": [
        "> Setelah dataset bersih dari outlier dan missing value, selanjutnya memisahkan `fitur` dengan `target` dari masing masing `data train` dan `data test`"
      ]
    },
    {
      "cell_type": "code",
      "execution_count": 36,
      "metadata": {},
      "outputs": [
        {
          "data": {
            "text/html": [
              "<div>\n",
              "<style scoped>\n",
              "    .dataframe tbody tr th:only-of-type {\n",
              "        vertical-align: middle;\n",
              "    }\n",
              "\n",
              "    .dataframe tbody tr th {\n",
              "        vertical-align: top;\n",
              "    }\n",
              "\n",
              "    .dataframe thead th {\n",
              "        text-align: right;\n",
              "    }\n",
              "</style>\n",
              "<table border=\"1\" class=\"dataframe\">\n",
              "  <thead>\n",
              "    <tr style=\"text-align: right;\">\n",
              "      <th></th>\n",
              "      <th>Education</th>\n",
              "      <th>Marital_Status</th>\n",
              "      <th>Income</th>\n",
              "      <th>Kidhome</th>\n",
              "      <th>Teenhome</th>\n",
              "      <th>Recency</th>\n",
              "      <th>MntWines</th>\n",
              "      <th>MntFruits</th>\n",
              "      <th>MntMeatProducts</th>\n",
              "      <th>MntFishProducts</th>\n",
              "      <th>MntSweetProducts</th>\n",
              "      <th>MntGoldProds</th>\n",
              "      <th>NumDealsPurchases</th>\n",
              "      <th>NumWebPurchases</th>\n",
              "      <th>NumCatalogPurchases</th>\n",
              "      <th>NumStorePurchases</th>\n",
              "      <th>NumWebVisitsMonth</th>\n",
              "      <th>Complain</th>\n",
              "    </tr>\n",
              "  </thead>\n",
              "  <tbody>\n",
              "    <tr>\n",
              "      <th>0</th>\n",
              "      <td>Graduation</td>\n",
              "      <td>Divorced</td>\n",
              "      <td>10.52</td>\n",
              "      <td>1</td>\n",
              "      <td>1</td>\n",
              "      <td>4.28</td>\n",
              "      <td>3.76</td>\n",
              "      <td>1.39</td>\n",
              "      <td>2.48</td>\n",
              "      <td>2.08</td>\n",
              "      <td>0.00</td>\n",
              "      <td>3.30</td>\n",
              "      <td>1.61</td>\n",
              "      <td>0.69</td>\n",
              "      <td>0.00</td>\n",
              "      <td>1.39</td>\n",
              "      <td>1.61</td>\n",
              "      <td>0</td>\n",
              "    </tr>\n",
              "    <tr>\n",
              "      <th>1</th>\n",
              "      <td>Graduation</td>\n",
              "      <td>Single</td>\n",
              "      <td>11.19</td>\n",
              "      <td>0</td>\n",
              "      <td>1</td>\n",
              "      <td>3.33</td>\n",
              "      <td>6.26</td>\n",
              "      <td>0.00</td>\n",
              "      <td>6.26</td>\n",
              "      <td>5.42</td>\n",
              "      <td>4.79</td>\n",
              "      <td>4.90</td>\n",
              "      <td>0.69</td>\n",
              "      <td>1.79</td>\n",
              "      <td>2.20</td>\n",
              "      <td>1.61</td>\n",
              "      <td>0.69</td>\n",
              "      <td>0</td>\n",
              "    </tr>\n",
              "    <tr>\n",
              "      <th>2</th>\n",
              "      <td>Graduation</td>\n",
              "      <td>Married</td>\n",
              "      <td>10.46</td>\n",
              "      <td>1</td>\n",
              "      <td>1</td>\n",
              "      <td>4.13</td>\n",
              "      <td>3.33</td>\n",
              "      <td>3.14</td>\n",
              "      <td>3.37</td>\n",
              "      <td>3.37</td>\n",
              "      <td>2.64</td>\n",
              "      <td>3.85</td>\n",
              "      <td>1.10</td>\n",
              "      <td>0.69</td>\n",
              "      <td>0.00</td>\n",
              "      <td>1.39</td>\n",
              "      <td>1.79</td>\n",
              "      <td>0</td>\n",
              "    </tr>\n",
              "  </tbody>\n",
              "</table>\n",
              "</div>"
            ],
            "text/plain": [
              "    Education Marital_Status  Income  Kidhome  Teenhome  Recency  MntWines  \\\n",
              "0  Graduation       Divorced   10.52        1         1     4.28      3.76   \n",
              "1  Graduation         Single   11.19        0         1     3.33      6.26   \n",
              "2  Graduation        Married   10.46        1         1     4.13      3.33   \n",
              "\n",
              "   MntFruits  MntMeatProducts  MntFishProducts  MntSweetProducts  \\\n",
              "0       1.39             2.48             2.08              0.00   \n",
              "1       0.00             6.26             5.42              4.79   \n",
              "2       3.14             3.37             3.37              2.64   \n",
              "\n",
              "   MntGoldProds  NumDealsPurchases  NumWebPurchases  NumCatalogPurchases  \\\n",
              "0          3.30               1.61             0.69                 0.00   \n",
              "1          4.90               0.69             1.79                 2.20   \n",
              "2          3.85               1.10             0.69                 0.00   \n",
              "\n",
              "   NumStorePurchases  NumWebVisitsMonth  Complain  \n",
              "0               1.39               1.61         0  \n",
              "1               1.61               0.69         0  \n",
              "2               1.39               1.79         0  "
            ]
          },
          "execution_count": 36,
          "metadata": {},
          "output_type": "execute_result"
        }
      ],
      "source": [
        "# Split  `X` (Features) dan `y` (Target) pada Data Train\n",
        "\n",
        "X_train = data_train_clean.drop('Response', axis=1)\n",
        "y_train = data_train_clean['Response']\n",
        "X_train.head(3)"
      ]
    },
    {
      "cell_type": "code",
      "execution_count": 37,
      "metadata": {},
      "outputs": [
        {
          "data": {
            "text/html": [
              "<div>\n",
              "<style scoped>\n",
              "    .dataframe tbody tr th:only-of-type {\n",
              "        vertical-align: middle;\n",
              "    }\n",
              "\n",
              "    .dataframe tbody tr th {\n",
              "        vertical-align: top;\n",
              "    }\n",
              "\n",
              "    .dataframe thead th {\n",
              "        text-align: right;\n",
              "    }\n",
              "</style>\n",
              "<table border=\"1\" class=\"dataframe\">\n",
              "  <thead>\n",
              "    <tr style=\"text-align: right;\">\n",
              "      <th></th>\n",
              "      <th>Education</th>\n",
              "      <th>Marital_Status</th>\n",
              "      <th>Income</th>\n",
              "      <th>Kidhome</th>\n",
              "      <th>Teenhome</th>\n",
              "      <th>Recency</th>\n",
              "      <th>MntWines</th>\n",
              "      <th>MntFruits</th>\n",
              "      <th>MntMeatProducts</th>\n",
              "      <th>MntFishProducts</th>\n",
              "      <th>MntSweetProducts</th>\n",
              "      <th>MntGoldProds</th>\n",
              "      <th>NumDealsPurchases</th>\n",
              "      <th>NumWebPurchases</th>\n",
              "      <th>NumCatalogPurchases</th>\n",
              "      <th>NumStorePurchases</th>\n",
              "      <th>NumWebVisitsMonth</th>\n",
              "      <th>Complain</th>\n",
              "    </tr>\n",
              "  </thead>\n",
              "  <tbody>\n",
              "    <tr>\n",
              "      <th>0</th>\n",
              "      <td>Graduation</td>\n",
              "      <td>Married</td>\n",
              "      <td>10.37</td>\n",
              "      <td>1</td>\n",
              "      <td>0</td>\n",
              "      <td>4.29</td>\n",
              "      <td>3.56</td>\n",
              "      <td>1.10</td>\n",
              "      <td>3.00</td>\n",
              "      <td>1.39</td>\n",
              "      <td>0.00</td>\n",
              "      <td>3.00</td>\n",
              "      <td>0.69</td>\n",
              "      <td>0.69</td>\n",
              "      <td>0.00</td>\n",
              "      <td>1.10</td>\n",
              "      <td>2.20</td>\n",
              "      <td>0</td>\n",
              "    </tr>\n",
              "    <tr>\n",
              "      <th>1</th>\n",
              "      <td>Master</td>\n",
              "      <td>Single</td>\n",
              "      <td>10.71</td>\n",
              "      <td>0</td>\n",
              "      <td>0</td>\n",
              "      <td>4.26</td>\n",
              "      <td>6.75</td>\n",
              "      <td>2.30</td>\n",
              "      <td>4.96</td>\n",
              "      <td>2.56</td>\n",
              "      <td>2.30</td>\n",
              "      <td>3.00</td>\n",
              "      <td>0.69</td>\n",
              "      <td>2.20</td>\n",
              "      <td>1.39</td>\n",
              "      <td>2.48</td>\n",
              "      <td>2.08</td>\n",
              "      <td>0</td>\n",
              "    </tr>\n",
              "    <tr>\n",
              "      <th>2</th>\n",
              "      <td>Graduation</td>\n",
              "      <td>Single</td>\n",
              "      <td>11.01</td>\n",
              "      <td>0</td>\n",
              "      <td>1</td>\n",
              "      <td>4.36</td>\n",
              "      <td>6.25</td>\n",
              "      <td>3.00</td>\n",
              "      <td>5.91</td>\n",
              "      <td>3.66</td>\n",
              "      <td>4.39</td>\n",
              "      <td>3.69</td>\n",
              "      <td>0.69</td>\n",
              "      <td>1.79</td>\n",
              "      <td>1.10</td>\n",
              "      <td>1.79</td>\n",
              "      <td>1.61</td>\n",
              "      <td>0</td>\n",
              "    </tr>\n",
              "  </tbody>\n",
              "</table>\n",
              "</div>"
            ],
            "text/plain": [
              "    Education Marital_Status  Income  Kidhome  Teenhome  Recency  MntWines  \\\n",
              "0  Graduation        Married   10.37        1         0     4.29      3.56   \n",
              "1      Master         Single   10.71        0         0     4.26      6.75   \n",
              "2  Graduation         Single   11.01        0         1     4.36      6.25   \n",
              "\n",
              "   MntFruits  MntMeatProducts  MntFishProducts  MntSweetProducts  \\\n",
              "0       1.10             3.00             1.39              0.00   \n",
              "1       2.30             4.96             2.56              2.30   \n",
              "2       3.00             5.91             3.66              4.39   \n",
              "\n",
              "   MntGoldProds  NumDealsPurchases  NumWebPurchases  NumCatalogPurchases  \\\n",
              "0          3.00               0.69             0.69                 0.00   \n",
              "1          3.00               0.69             2.20                 1.39   \n",
              "2          3.69               0.69             1.79                 1.10   \n",
              "\n",
              "   NumStorePurchases  NumWebVisitsMonth  Complain  \n",
              "0               1.10               2.20         0  \n",
              "1               2.48               2.08         0  \n",
              "2               1.79               1.61         0  "
            ]
          },
          "execution_count": 37,
          "metadata": {},
          "output_type": "execute_result"
        }
      ],
      "source": [
        "# Split  `X` (Features) dan `y` (Target) pada Data Test\n",
        "\n",
        "X_test = data_test_log.drop('Response', axis=1)\n",
        "y_test = data_test_log['Response']\n",
        "X_test.head(3)"
      ]
    },
    {
      "attachments": {},
      "cell_type": "markdown",
      "metadata": {
        "id": "lYmslA4r40s3"
      },
      "source": [
        "## Split between Numerik Columns and String Columns\n",
        "\n",
        "Memisahkan kolom yang masih berbentuk string dengan yang sudah berbentuk numerik untuk dilakukan encoding pada data string dan scalling pada data numerik."
      ]
    },
    {
      "cell_type": "code",
      "execution_count": 38,
      "metadata": {},
      "outputs": [
        {
          "name": "stdout",
          "output_type": "stream",
          "text": [
            "Numerical Columns :  ['Income', 'Kidhome', 'Teenhome', 'Recency', 'MntWines', 'MntFruits', 'MntMeatProducts', 'MntFishProducts', 'MntSweetProducts', 'MntGoldProds', 'NumDealsPurchases', 'NumWebPurchases', 'NumCatalogPurchases', 'NumStorePurchases', 'NumWebVisitsMonth', 'Complain']\n",
            "\n",
            "Categorical Columns :  ['Education', 'Marital_Status']\n"
          ]
        }
      ],
      "source": [
        "# separate numerikal and string type\n",
        "numerik = X_train.select_dtypes(include=np.number).columns.tolist()\n",
        "string = X_train.select_dtypes(include=['object']).columns.tolist()\n",
        "\n",
        "print('Numerical Columns : ', numerik)\n",
        "print('\\nCategorical Columns : ', string)"
      ]
    },
    {
      "cell_type": "markdown",
      "metadata": {
        "id": "oC5p5YDD6hyV"
      },
      "source": [
        "## Feature Scaling"
      ]
    },
    {
      "cell_type": "code",
      "execution_count": 39,
      "metadata": {
        "colab": {
          "base_uri": "https://localhost:8080/",
          "height": 488
        },
        "id": "1TIt43rt6hiq",
        "outputId": "3a4d39aa-65f7-4c3c-c113-fa750fdf7a5e"
      },
      "outputs": [
        {
          "data": {
            "text/html": [
              "<div>\n",
              "<style scoped>\n",
              "    .dataframe tbody tr th:only-of-type {\n",
              "        vertical-align: middle;\n",
              "    }\n",
              "\n",
              "    .dataframe tbody tr th {\n",
              "        vertical-align: top;\n",
              "    }\n",
              "\n",
              "    .dataframe thead th {\n",
              "        text-align: right;\n",
              "    }\n",
              "</style>\n",
              "<table border=\"1\" class=\"dataframe\">\n",
              "  <thead>\n",
              "    <tr style=\"text-align: right;\">\n",
              "      <th></th>\n",
              "      <th>Income</th>\n",
              "      <th>Kidhome</th>\n",
              "      <th>Teenhome</th>\n",
              "      <th>Recency</th>\n",
              "      <th>MntWines</th>\n",
              "      <th>MntFruits</th>\n",
              "      <th>MntMeatProducts</th>\n",
              "      <th>MntFishProducts</th>\n",
              "      <th>MntSweetProducts</th>\n",
              "      <th>MntGoldProds</th>\n",
              "      <th>NumDealsPurchases</th>\n",
              "      <th>NumWebPurchases</th>\n",
              "      <th>NumCatalogPurchases</th>\n",
              "      <th>NumStorePurchases</th>\n",
              "      <th>NumWebVisitsMonth</th>\n",
              "      <th>Complain</th>\n",
              "    </tr>\n",
              "  </thead>\n",
              "  <tbody>\n",
              "    <tr>\n",
              "      <th>0</th>\n",
              "      <td>10.52</td>\n",
              "      <td>1</td>\n",
              "      <td>1</td>\n",
              "      <td>4.28</td>\n",
              "      <td>3.76</td>\n",
              "      <td>1.39</td>\n",
              "      <td>2.48</td>\n",
              "      <td>2.08</td>\n",
              "      <td>0.00</td>\n",
              "      <td>3.30</td>\n",
              "      <td>1.61</td>\n",
              "      <td>0.69</td>\n",
              "      <td>0.00</td>\n",
              "      <td>1.39</td>\n",
              "      <td>1.61</td>\n",
              "      <td>0</td>\n",
              "    </tr>\n",
              "    <tr>\n",
              "      <th>1</th>\n",
              "      <td>11.19</td>\n",
              "      <td>0</td>\n",
              "      <td>1</td>\n",
              "      <td>3.33</td>\n",
              "      <td>6.26</td>\n",
              "      <td>0.00</td>\n",
              "      <td>6.26</td>\n",
              "      <td>5.42</td>\n",
              "      <td>4.79</td>\n",
              "      <td>4.90</td>\n",
              "      <td>0.69</td>\n",
              "      <td>1.79</td>\n",
              "      <td>2.20</td>\n",
              "      <td>1.61</td>\n",
              "      <td>0.69</td>\n",
              "      <td>0</td>\n",
              "    </tr>\n",
              "    <tr>\n",
              "      <th>2</th>\n",
              "      <td>10.46</td>\n",
              "      <td>1</td>\n",
              "      <td>1</td>\n",
              "      <td>4.13</td>\n",
              "      <td>3.33</td>\n",
              "      <td>3.14</td>\n",
              "      <td>3.37</td>\n",
              "      <td>3.37</td>\n",
              "      <td>2.64</td>\n",
              "      <td>3.85</td>\n",
              "      <td>1.10</td>\n",
              "      <td>0.69</td>\n",
              "      <td>0.00</td>\n",
              "      <td>1.39</td>\n",
              "      <td>1.79</td>\n",
              "      <td>0</td>\n",
              "    </tr>\n",
              "  </tbody>\n",
              "</table>\n",
              "</div>"
            ],
            "text/plain": [
              "   Income  Kidhome  Teenhome  Recency  MntWines  MntFruits  MntMeatProducts  \\\n",
              "0   10.52        1         1     4.28      3.76       1.39             2.48   \n",
              "1   11.19        0         1     3.33      6.26       0.00             6.26   \n",
              "2   10.46        1         1     4.13      3.33       3.14             3.37   \n",
              "\n",
              "   MntFishProducts  MntSweetProducts  MntGoldProds  NumDealsPurchases  \\\n",
              "0             2.08              0.00          3.30               1.61   \n",
              "1             5.42              4.79          4.90               0.69   \n",
              "2             3.37              2.64          3.85               1.10   \n",
              "\n",
              "   NumWebPurchases  NumCatalogPurchases  NumStorePurchases  NumWebVisitsMonth  \\\n",
              "0             0.69                 0.00               1.39               1.61   \n",
              "1             1.79                 2.20               1.61               0.69   \n",
              "2             0.69                 0.00               1.39               1.79   \n",
              "\n",
              "   Complain  \n",
              "0         0  \n",
              "1         0  \n",
              "2         0  "
            ]
          },
          "execution_count": 39,
          "metadata": {},
          "output_type": "execute_result"
        }
      ],
      "source": [
        "# Tampilkan numerikal data train\n",
        "X_train[numerik].head(3)"
      ]
    },
    {
      "attachments": {},
      "cell_type": "markdown",
      "metadata": {},
      "source": [
        "> Karena distribusi data pada fitur `numerikal` sudah `normal`, maka scaling dilakukan dengan menggunakan `StandarScaler`"
      ]
    },
    {
      "cell_type": "code",
      "execution_count": 40,
      "metadata": {
        "colab": {
          "base_uri": "https://localhost:8080/"
        },
        "id": "wNp903EP6hc2",
        "outputId": "32d425be-f54f-459b-e522-76756982ec1e"
      },
      "outputs": [
        {
          "data": {
            "text/html": [
              "<div>\n",
              "<style scoped>\n",
              "    .dataframe tbody tr th:only-of-type {\n",
              "        vertical-align: middle;\n",
              "    }\n",
              "\n",
              "    .dataframe tbody tr th {\n",
              "        vertical-align: top;\n",
              "    }\n",
              "\n",
              "    .dataframe thead th {\n",
              "        text-align: right;\n",
              "    }\n",
              "</style>\n",
              "<table border=\"1\" class=\"dataframe\">\n",
              "  <thead>\n",
              "    <tr style=\"text-align: right;\">\n",
              "      <th></th>\n",
              "      <th>Income</th>\n",
              "      <th>Kidhome</th>\n",
              "      <th>Teenhome</th>\n",
              "      <th>Recency</th>\n",
              "      <th>MntWines</th>\n",
              "      <th>MntFruits</th>\n",
              "      <th>MntMeatProducts</th>\n",
              "      <th>MntFishProducts</th>\n",
              "      <th>MntSweetProducts</th>\n",
              "      <th>MntGoldProds</th>\n",
              "      <th>NumDealsPurchases</th>\n",
              "      <th>NumWebPurchases</th>\n",
              "      <th>NumCatalogPurchases</th>\n",
              "      <th>NumStorePurchases</th>\n",
              "      <th>NumWebVisitsMonth</th>\n",
              "      <th>Complain</th>\n",
              "    </tr>\n",
              "  </thead>\n",
              "  <tbody>\n",
              "    <tr>\n",
              "      <th>0</th>\n",
              "      <td>-0.43</td>\n",
              "      <td>1.02</td>\n",
              "      <td>0.88</td>\n",
              "      <td>0.76</td>\n",
              "      <td>-0.44</td>\n",
              "      <td>-0.41</td>\n",
              "      <td>-0.95</td>\n",
              "      <td>-0.19</td>\n",
              "      <td>-1.25</td>\n",
              "      <td>0.22</td>\n",
              "      <td>1.51</td>\n",
              "      <td>-0.66</td>\n",
              "      <td>-0.90</td>\n",
              "      <td>-0.35</td>\n",
              "      <td>0.13</td>\n",
              "      <td>-0.10</td>\n",
              "    </tr>\n",
              "    <tr>\n",
              "      <th>1</th>\n",
              "      <td>0.86</td>\n",
              "      <td>-0.83</td>\n",
              "      <td>0.88</td>\n",
              "      <td>-0.30</td>\n",
              "      <td>0.87</td>\n",
              "      <td>-1.26</td>\n",
              "      <td>1.35</td>\n",
              "      <td>1.77</td>\n",
              "      <td>1.62</td>\n",
              "      <td>1.37</td>\n",
              "      <td>0.11</td>\n",
              "      <td>0.86</td>\n",
              "      <td>1.85</td>\n",
              "      <td>0.04</td>\n",
              "      <td>-1.40</td>\n",
              "      <td>-0.10</td>\n",
              "    </tr>\n",
              "    <tr>\n",
              "      <th>2</th>\n",
              "      <td>-0.55</td>\n",
              "      <td>1.02</td>\n",
              "      <td>0.88</td>\n",
              "      <td>0.60</td>\n",
              "      <td>-0.66</td>\n",
              "      <td>0.65</td>\n",
              "      <td>-0.41</td>\n",
              "      <td>0.56</td>\n",
              "      <td>0.33</td>\n",
              "      <td>0.62</td>\n",
              "      <td>0.73</td>\n",
              "      <td>-0.66</td>\n",
              "      <td>-0.90</td>\n",
              "      <td>-0.35</td>\n",
              "      <td>0.43</td>\n",
              "      <td>-0.10</td>\n",
              "    </tr>\n",
              "  </tbody>\n",
              "</table>\n",
              "</div>"
            ],
            "text/plain": [
              "   Income  Kidhome  Teenhome  Recency  MntWines  MntFruits  MntMeatProducts  \\\n",
              "0   -0.43     1.02      0.88     0.76     -0.44      -0.41            -0.95   \n",
              "1    0.86    -0.83      0.88    -0.30      0.87      -1.26             1.35   \n",
              "2   -0.55     1.02      0.88     0.60     -0.66       0.65            -0.41   \n",
              "\n",
              "   MntFishProducts  MntSweetProducts  MntGoldProds  NumDealsPurchases  \\\n",
              "0            -0.19             -1.25          0.22               1.51   \n",
              "1             1.77              1.62          1.37               0.11   \n",
              "2             0.56              0.33          0.62               0.73   \n",
              "\n",
              "   NumWebPurchases  NumCatalogPurchases  NumStorePurchases  NumWebVisitsMonth  \\\n",
              "0            -0.66                -0.90              -0.35               0.13   \n",
              "1             0.86                 1.85               0.04              -1.40   \n",
              "2            -0.66                -0.90              -0.35               0.43   \n",
              "\n",
              "   Complain  \n",
              "0     -0.10  \n",
              "1     -0.10  \n",
              "2     -0.10  "
            ]
          },
          "execution_count": 40,
          "metadata": {},
          "output_type": "execute_result"
        }
      ],
      "source": [
        "# Feature Scaling using Standard Karena Distribusi Sudah Memiliki Distribusi Normal\n",
        "\n",
        "scaler = StandardScaler()\n",
        "feature_names = scaler.get_feature_names_out(input_features=numerik)\n",
        "\n",
        "X_train_num_scaled = scaler.fit_transform(X_train[numerik])\n",
        "X_train_num_scaled = pd.DataFrame(X_train_num_scaled, columns=feature_names)\n",
        "\n",
        "X_test_num_scaled = scaler.transform(X_test[numerik])\n",
        "X_test_num_scaled = pd.DataFrame(X_test_num_scaled, columns=feature_names)\n",
        "\n",
        "X_train_num_scaled.head(3)"
      ]
    },
    {
      "attachments": {},
      "cell_type": "markdown",
      "metadata": {
        "id": "0odKc7md9CmE"
      },
      "source": [
        "## Feature Encoding\n",
        "Terdapat 2 jenis data categorical string yaitu education dan marital status. Dimana education memiliki tingkatan sehingga dilakukan encoding dengan Ordinal Encoder dan Marital status tidak memiliki tingkatan sehingga dilakukan dengan One Hot Encoder"
      ]
    },
    {
      "cell_type": "code",
      "execution_count": 41,
      "metadata": {},
      "outputs": [
        {
          "data": {
            "text/html": [
              "<div>\n",
              "<style scoped>\n",
              "    .dataframe tbody tr th:only-of-type {\n",
              "        vertical-align: middle;\n",
              "    }\n",
              "\n",
              "    .dataframe tbody tr th {\n",
              "        vertical-align: top;\n",
              "    }\n",
              "\n",
              "    .dataframe thead th {\n",
              "        text-align: right;\n",
              "    }\n",
              "</style>\n",
              "<table border=\"1\" class=\"dataframe\">\n",
              "  <thead>\n",
              "    <tr style=\"text-align: right;\">\n",
              "      <th></th>\n",
              "      <th>Education</th>\n",
              "      <th>Marital_Status</th>\n",
              "    </tr>\n",
              "  </thead>\n",
              "  <tbody>\n",
              "    <tr>\n",
              "      <th>0</th>\n",
              "      <td>Graduation</td>\n",
              "      <td>Divorced</td>\n",
              "    </tr>\n",
              "    <tr>\n",
              "      <th>1</th>\n",
              "      <td>Graduation</td>\n",
              "      <td>Single</td>\n",
              "    </tr>\n",
              "    <tr>\n",
              "      <th>2</th>\n",
              "      <td>Graduation</td>\n",
              "      <td>Married</td>\n",
              "    </tr>\n",
              "  </tbody>\n",
              "</table>\n",
              "</div>"
            ],
            "text/plain": [
              "    Education Marital_Status\n",
              "0  Graduation       Divorced\n",
              "1  Graduation         Single\n",
              "2  Graduation        Married"
            ]
          },
          "execution_count": 41,
          "metadata": {},
          "output_type": "execute_result"
        }
      ],
      "source": [
        "# Tampilkan data train berbentuk string\n",
        "X_train[string].head(3)"
      ]
    },
    {
      "cell_type": "code",
      "execution_count": 42,
      "metadata": {},
      "outputs": [
        {
          "data": {
            "text/html": [
              "<div>\n",
              "<style scoped>\n",
              "    .dataframe tbody tr th:only-of-type {\n",
              "        vertical-align: middle;\n",
              "    }\n",
              "\n",
              "    .dataframe tbody tr th {\n",
              "        vertical-align: top;\n",
              "    }\n",
              "\n",
              "    .dataframe thead th {\n",
              "        text-align: right;\n",
              "    }\n",
              "</style>\n",
              "<table border=\"1\" class=\"dataframe\">\n",
              "  <thead>\n",
              "    <tr style=\"text-align: right;\">\n",
              "      <th></th>\n",
              "      <th>Education</th>\n",
              "      <th>Marital_Status_Divorced</th>\n",
              "      <th>Marital_Status_Married</th>\n",
              "      <th>Marital_Status_Single</th>\n",
              "      <th>Marital_Status_Together</th>\n",
              "      <th>Marital_Status_Widow</th>\n",
              "    </tr>\n",
              "  </thead>\n",
              "  <tbody>\n",
              "    <tr>\n",
              "      <th>0</th>\n",
              "      <td>1.00</td>\n",
              "      <td>1.00</td>\n",
              "      <td>0.00</td>\n",
              "      <td>0.00</td>\n",
              "      <td>0.00</td>\n",
              "      <td>0.00</td>\n",
              "    </tr>\n",
              "    <tr>\n",
              "      <th>1</th>\n",
              "      <td>1.00</td>\n",
              "      <td>0.00</td>\n",
              "      <td>0.00</td>\n",
              "      <td>1.00</td>\n",
              "      <td>0.00</td>\n",
              "      <td>0.00</td>\n",
              "    </tr>\n",
              "    <tr>\n",
              "      <th>2</th>\n",
              "      <td>1.00</td>\n",
              "      <td>0.00</td>\n",
              "      <td>1.00</td>\n",
              "      <td>0.00</td>\n",
              "      <td>0.00</td>\n",
              "      <td>0.00</td>\n",
              "    </tr>\n",
              "  </tbody>\n",
              "</table>\n",
              "</div>"
            ],
            "text/plain": [
              "   Education  Marital_Status_Divorced  Marital_Status_Married  \\\n",
              "0       1.00                     1.00                    0.00   \n",
              "1       1.00                     0.00                    0.00   \n",
              "2       1.00                     0.00                    1.00   \n",
              "\n",
              "   Marital_Status_Single  Marital_Status_Together  Marital_Status_Widow  \n",
              "0                   0.00                     0.00                  0.00  \n",
              "1                   1.00                     0.00                  0.00  \n",
              "2                   0.00                     0.00                  0.00  "
            ]
          },
          "execution_count": 42,
          "metadata": {},
          "output_type": "execute_result"
        }
      ],
      "source": [
        "# Feature Encoding menggunakan OneHotEncoder dan OrdinalEcoder\n",
        "\n",
        "ohe = OneHotEncoder(sparse=False, handle_unknown='ignore')\n",
        "\n",
        "X_train_cat_ohe = ohe.fit_transform(X_train[['Marital_Status']])\n",
        "feature_names_ohe = ohe.get_feature_names_out(input_features=['Marital_Status'])\n",
        "X_train_cat_ohe = pd.DataFrame(X_train_cat_ohe, columns=feature_names_ohe)\n",
        "\n",
        "X_test_cat_ohe = ohe.transform(X_test[['Marital_Status']])\n",
        "X_test_cat_ohe = pd.DataFrame(X_test_cat_ohe, columns=feature_names_ohe)\n",
        "\n",
        "# make categories for ordinal encoder\n",
        "edu = ['Basic', 'Graduation', '2n Cycle', 'Master', 'PhD']\n",
        "\n",
        "ode = OrdinalEncoder(categories=[edu])\n",
        "X_train_cat_ode = ode.fit_transform(X_train[['Education']])\n",
        "X_train_cat_ode = pd.DataFrame(X_train_cat_ode, columns=['Education'])\n",
        "\n",
        "X_test_cat_ode = ode.transform(X_test[['Education']])\n",
        "X_test_cat_ode = pd.DataFrame(X_test_cat_ode, columns=['Education'])\n",
        "\n",
        "X_train_cat_encoded = pd.concat([X_train_cat_ode, X_train_cat_ohe], axis=1)\n",
        "X_test_cat_encoded = pd.concat([X_test_cat_ode, X_test_cat_ohe], axis=1)\n",
        "\n",
        "\n",
        "# X_test_cat_encoded\n",
        "X_train_cat_encoded.head(3)"
      ]
    },
    {
      "attachments": {},
      "cell_type": "markdown",
      "metadata": {
        "id": "rTIXeesw-SOX"
      },
      "source": [
        "## Making Final Data"
      ]
    },
    {
      "attachments": {},
      "cell_type": "markdown",
      "metadata": {},
      "source": [
        "Menggabungkan data numerikal yang sudah di scaling dan categorical yang sudah di encode"
      ]
    },
    {
      "cell_type": "code",
      "execution_count": 43,
      "metadata": {
        "colab": {
          "base_uri": "https://localhost:8080/"
        },
        "id": "lpcwLpP--cr-",
        "outputId": "984cc935-3d3d-4c53-d7a2-3741132a2aee"
      },
      "outputs": [
        {
          "data": {
            "text/html": [
              "<div>\n",
              "<style scoped>\n",
              "    .dataframe tbody tr th:only-of-type {\n",
              "        vertical-align: middle;\n",
              "    }\n",
              "\n",
              "    .dataframe tbody tr th {\n",
              "        vertical-align: top;\n",
              "    }\n",
              "\n",
              "    .dataframe thead th {\n",
              "        text-align: right;\n",
              "    }\n",
              "</style>\n",
              "<table border=\"1\" class=\"dataframe\">\n",
              "  <thead>\n",
              "    <tr style=\"text-align: right;\">\n",
              "      <th></th>\n",
              "      <th>Income</th>\n",
              "      <th>Kidhome</th>\n",
              "      <th>Teenhome</th>\n",
              "      <th>Recency</th>\n",
              "      <th>MntWines</th>\n",
              "      <th>MntFruits</th>\n",
              "      <th>MntMeatProducts</th>\n",
              "      <th>MntFishProducts</th>\n",
              "      <th>MntSweetProducts</th>\n",
              "      <th>MntGoldProds</th>\n",
              "      <th>NumDealsPurchases</th>\n",
              "      <th>NumWebPurchases</th>\n",
              "      <th>NumCatalogPurchases</th>\n",
              "      <th>NumStorePurchases</th>\n",
              "      <th>NumWebVisitsMonth</th>\n",
              "      <th>Complain</th>\n",
              "      <th>Education</th>\n",
              "      <th>Marital_Status_Divorced</th>\n",
              "      <th>Marital_Status_Married</th>\n",
              "      <th>Marital_Status_Single</th>\n",
              "      <th>Marital_Status_Together</th>\n",
              "      <th>Marital_Status_Widow</th>\n",
              "    </tr>\n",
              "  </thead>\n",
              "  <tbody>\n",
              "    <tr>\n",
              "      <th>0</th>\n",
              "      <td>-0.43</td>\n",
              "      <td>1.02</td>\n",
              "      <td>0.88</td>\n",
              "      <td>0.76</td>\n",
              "      <td>-0.44</td>\n",
              "      <td>-0.41</td>\n",
              "      <td>-0.95</td>\n",
              "      <td>-0.19</td>\n",
              "      <td>-1.25</td>\n",
              "      <td>0.22</td>\n",
              "      <td>1.51</td>\n",
              "      <td>-0.66</td>\n",
              "      <td>-0.90</td>\n",
              "      <td>-0.35</td>\n",
              "      <td>0.13</td>\n",
              "      <td>-0.10</td>\n",
              "      <td>1.00</td>\n",
              "      <td>1.00</td>\n",
              "      <td>0.00</td>\n",
              "      <td>0.00</td>\n",
              "      <td>0.00</td>\n",
              "      <td>0.00</td>\n",
              "    </tr>\n",
              "    <tr>\n",
              "      <th>1</th>\n",
              "      <td>0.86</td>\n",
              "      <td>-0.83</td>\n",
              "      <td>0.88</td>\n",
              "      <td>-0.30</td>\n",
              "      <td>0.87</td>\n",
              "      <td>-1.26</td>\n",
              "      <td>1.35</td>\n",
              "      <td>1.77</td>\n",
              "      <td>1.62</td>\n",
              "      <td>1.37</td>\n",
              "      <td>0.11</td>\n",
              "      <td>0.86</td>\n",
              "      <td>1.85</td>\n",
              "      <td>0.04</td>\n",
              "      <td>-1.40</td>\n",
              "      <td>-0.10</td>\n",
              "      <td>1.00</td>\n",
              "      <td>0.00</td>\n",
              "      <td>0.00</td>\n",
              "      <td>1.00</td>\n",
              "      <td>0.00</td>\n",
              "      <td>0.00</td>\n",
              "    </tr>\n",
              "    <tr>\n",
              "      <th>2</th>\n",
              "      <td>-0.55</td>\n",
              "      <td>1.02</td>\n",
              "      <td>0.88</td>\n",
              "      <td>0.60</td>\n",
              "      <td>-0.66</td>\n",
              "      <td>0.65</td>\n",
              "      <td>-0.41</td>\n",
              "      <td>0.56</td>\n",
              "      <td>0.33</td>\n",
              "      <td>0.62</td>\n",
              "      <td>0.73</td>\n",
              "      <td>-0.66</td>\n",
              "      <td>-0.90</td>\n",
              "      <td>-0.35</td>\n",
              "      <td>0.43</td>\n",
              "      <td>-0.10</td>\n",
              "      <td>1.00</td>\n",
              "      <td>0.00</td>\n",
              "      <td>1.00</td>\n",
              "      <td>0.00</td>\n",
              "      <td>0.00</td>\n",
              "      <td>0.00</td>\n",
              "    </tr>\n",
              "  </tbody>\n",
              "</table>\n",
              "</div>"
            ],
            "text/plain": [
              "   Income  Kidhome  Teenhome  Recency  MntWines  MntFruits  MntMeatProducts  \\\n",
              "0   -0.43     1.02      0.88     0.76     -0.44      -0.41            -0.95   \n",
              "1    0.86    -0.83      0.88    -0.30      0.87      -1.26             1.35   \n",
              "2   -0.55     1.02      0.88     0.60     -0.66       0.65            -0.41   \n",
              "\n",
              "   MntFishProducts  MntSweetProducts  MntGoldProds  NumDealsPurchases  \\\n",
              "0            -0.19             -1.25          0.22               1.51   \n",
              "1             1.77              1.62          1.37               0.11   \n",
              "2             0.56              0.33          0.62               0.73   \n",
              "\n",
              "   NumWebPurchases  NumCatalogPurchases  NumStorePurchases  NumWebVisitsMonth  \\\n",
              "0            -0.66                -0.90              -0.35               0.13   \n",
              "1             0.86                 1.85               0.04              -1.40   \n",
              "2            -0.66                -0.90              -0.35               0.43   \n",
              "\n",
              "   Complain  Education  Marital_Status_Divorced  Marital_Status_Married  \\\n",
              "0     -0.10       1.00                     1.00                    0.00   \n",
              "1     -0.10       1.00                     0.00                    0.00   \n",
              "2     -0.10       1.00                     0.00                    1.00   \n",
              "\n",
              "   Marital_Status_Single  Marital_Status_Together  Marital_Status_Widow  \n",
              "0                   0.00                     0.00                  0.00  \n",
              "1                   1.00                     0.00                  0.00  \n",
              "2                   0.00                     0.00                  0.00  "
            ]
          },
          "execution_count": 43,
          "metadata": {},
          "output_type": "execute_result"
        }
      ],
      "source": [
        "# Gabungkan kembali fitur numerikal dan kategorial\n",
        "\n",
        "X_train_concat = pd.concat([X_train_num_scaled, X_train_cat_encoded], axis=1)\n",
        "X_test_concat = pd.concat([X_test_num_scaled, X_test_cat_encoded], axis=1)\n",
        "\n",
        "X_train_concat.head(3)"
      ]
    },
    {
      "attachments": {},
      "cell_type": "markdown",
      "metadata": {},
      "source": [
        "## Feature Importance Random Forest"
      ]
    },
    {
      "cell_type": "code",
      "execution_count": 44,
      "metadata": {},
      "outputs": [
        {
          "data": {
            "text/plain": [
              "RandomForestClassifier(random_state=42)"
            ]
          },
          "execution_count": 44,
          "metadata": {},
          "output_type": "execute_result"
        }
      ],
      "source": [
        "# Make a random forest model\n",
        "select_feature = RandomForestClassifier(random_state=42)\n",
        "# Train model with data train\n",
        "select_feature.fit(X_train_concat, y_train)"
      ]
    },
    {
      "cell_type": "code",
      "execution_count": 45,
      "metadata": {},
      "outputs": [
        {
          "data": {
            "text/html": [
              "<div>\n",
              "<style scoped>\n",
              "    .dataframe tbody tr th:only-of-type {\n",
              "        vertical-align: middle;\n",
              "    }\n",
              "\n",
              "    .dataframe tbody tr th {\n",
              "        vertical-align: top;\n",
              "    }\n",
              "\n",
              "    .dataframe thead th {\n",
              "        text-align: right;\n",
              "    }\n",
              "</style>\n",
              "<table border=\"1\" class=\"dataframe\">\n",
              "  <thead>\n",
              "    <tr style=\"text-align: right;\">\n",
              "      <th></th>\n",
              "      <th>Feature</th>\n",
              "      <th>Importance</th>\n",
              "    </tr>\n",
              "  </thead>\n",
              "  <tbody>\n",
              "    <tr>\n",
              "      <th>4</th>\n",
              "      <td>MntWines</td>\n",
              "      <td>0.11</td>\n",
              "    </tr>\n",
              "    <tr>\n",
              "      <th>3</th>\n",
              "      <td>Recency</td>\n",
              "      <td>0.10</td>\n",
              "    </tr>\n",
              "    <tr>\n",
              "      <th>0</th>\n",
              "      <td>Income</td>\n",
              "      <td>0.10</td>\n",
              "    </tr>\n",
              "    <tr>\n",
              "      <th>6</th>\n",
              "      <td>MntMeatProducts</td>\n",
              "      <td>0.10</td>\n",
              "    </tr>\n",
              "    <tr>\n",
              "      <th>9</th>\n",
              "      <td>MntGoldProds</td>\n",
              "      <td>0.08</td>\n",
              "    </tr>\n",
              "    <tr>\n",
              "      <th>8</th>\n",
              "      <td>MntSweetProducts</td>\n",
              "      <td>0.06</td>\n",
              "    </tr>\n",
              "    <tr>\n",
              "      <th>7</th>\n",
              "      <td>MntFishProducts</td>\n",
              "      <td>0.06</td>\n",
              "    </tr>\n",
              "    <tr>\n",
              "      <th>14</th>\n",
              "      <td>NumWebVisitsMonth</td>\n",
              "      <td>0.06</td>\n",
              "    </tr>\n",
              "    <tr>\n",
              "      <th>5</th>\n",
              "      <td>MntFruits</td>\n",
              "      <td>0.05</td>\n",
              "    </tr>\n",
              "    <tr>\n",
              "      <th>13</th>\n",
              "      <td>NumStorePurchases</td>\n",
              "      <td>0.05</td>\n",
              "    </tr>\n",
              "    <tr>\n",
              "      <th>11</th>\n",
              "      <td>NumWebPurchases</td>\n",
              "      <td>0.05</td>\n",
              "    </tr>\n",
              "    <tr>\n",
              "      <th>12</th>\n",
              "      <td>NumCatalogPurchases</td>\n",
              "      <td>0.04</td>\n",
              "    </tr>\n",
              "    <tr>\n",
              "      <th>10</th>\n",
              "      <td>NumDealsPurchases</td>\n",
              "      <td>0.04</td>\n",
              "    </tr>\n",
              "    <tr>\n",
              "      <th>16</th>\n",
              "      <td>Education</td>\n",
              "      <td>0.03</td>\n",
              "    </tr>\n",
              "    <tr>\n",
              "      <th>2</th>\n",
              "      <td>Teenhome</td>\n",
              "      <td>0.02</td>\n",
              "    </tr>\n",
              "    <tr>\n",
              "      <th>19</th>\n",
              "      <td>Marital_Status_Single</td>\n",
              "      <td>0.02</td>\n",
              "    </tr>\n",
              "    <tr>\n",
              "      <th>18</th>\n",
              "      <td>Marital_Status_Married</td>\n",
              "      <td>0.01</td>\n",
              "    </tr>\n",
              "    <tr>\n",
              "      <th>20</th>\n",
              "      <td>Marital_Status_Together</td>\n",
              "      <td>0.01</td>\n",
              "    </tr>\n",
              "    <tr>\n",
              "      <th>1</th>\n",
              "      <td>Kidhome</td>\n",
              "      <td>0.01</td>\n",
              "    </tr>\n",
              "    <tr>\n",
              "      <th>17</th>\n",
              "      <td>Marital_Status_Divorced</td>\n",
              "      <td>0.01</td>\n",
              "    </tr>\n",
              "    <tr>\n",
              "      <th>21</th>\n",
              "      <td>Marital_Status_Widow</td>\n",
              "      <td>0.01</td>\n",
              "    </tr>\n",
              "    <tr>\n",
              "      <th>15</th>\n",
              "      <td>Complain</td>\n",
              "      <td>0.00</td>\n",
              "    </tr>\n",
              "  </tbody>\n",
              "</table>\n",
              "</div>"
            ],
            "text/plain": [
              "                    Feature  Importance\n",
              "4                  MntWines        0.11\n",
              "3                   Recency        0.10\n",
              "0                    Income        0.10\n",
              "6           MntMeatProducts        0.10\n",
              "9              MntGoldProds        0.08\n",
              "8          MntSweetProducts        0.06\n",
              "7           MntFishProducts        0.06\n",
              "14        NumWebVisitsMonth        0.06\n",
              "5                 MntFruits        0.05\n",
              "13        NumStorePurchases        0.05\n",
              "11          NumWebPurchases        0.05\n",
              "12      NumCatalogPurchases        0.04\n",
              "10        NumDealsPurchases        0.04\n",
              "16                Education        0.03\n",
              "2                  Teenhome        0.02\n",
              "19    Marital_Status_Single        0.02\n",
              "18   Marital_Status_Married        0.01\n",
              "20  Marital_Status_Together        0.01\n",
              "1                   Kidhome        0.01\n",
              "17  Marital_Status_Divorced        0.01\n",
              "21     Marital_Status_Widow        0.01\n",
              "15                 Complain        0.00"
            ]
          },
          "execution_count": 45,
          "metadata": {},
          "output_type": "execute_result"
        }
      ],
      "source": [
        "# Pulling out feature importance\n",
        "feature_imp = list(zip(X_train_concat.columns, select_feature.feature_importances_))\n",
        "\n",
        "# Make feature importance into dataframe\n",
        "feature_imp_df = pd.DataFrame(feature_imp, columns =['Feature', 'Importance'])\n",
        "feature_imp_df.sort_values('Importance', ascending=False)"
      ]
    },
    {
      "attachments": {},
      "cell_type": "markdown",
      "metadata": {},
      "source": [
        "Dari feature importance diatas penulis memutuskan untuk mengambil fitur dengan nilai `feature importance lebih dari 0.04` sehingga diperoleh `14 Fitur`"
      ]
    },
    {
      "cell_type": "code",
      "execution_count": 46,
      "metadata": {},
      "outputs": [
        {
          "data": {
            "text/html": [
              "<div>\n",
              "<style scoped>\n",
              "    .dataframe tbody tr th:only-of-type {\n",
              "        vertical-align: middle;\n",
              "    }\n",
              "\n",
              "    .dataframe tbody tr th {\n",
              "        vertical-align: top;\n",
              "    }\n",
              "\n",
              "    .dataframe thead th {\n",
              "        text-align: right;\n",
              "    }\n",
              "</style>\n",
              "<table border=\"1\" class=\"dataframe\">\n",
              "  <thead>\n",
              "    <tr style=\"text-align: right;\">\n",
              "      <th></th>\n",
              "      <th>MntWines</th>\n",
              "      <th>Recency</th>\n",
              "      <th>Income</th>\n",
              "      <th>MntMeatProducts</th>\n",
              "      <th>MntGoldProds</th>\n",
              "      <th>MntSweetProducts</th>\n",
              "      <th>MntFishProducts</th>\n",
              "      <th>NumWebVisitsMonth</th>\n",
              "      <th>MntFruits</th>\n",
              "      <th>NumStorePurchases</th>\n",
              "      <th>NumWebPurchases</th>\n",
              "      <th>NumCatalogPurchases</th>\n",
              "      <th>NumDealsPurchases</th>\n",
              "      <th>Education</th>\n",
              "    </tr>\n",
              "  </thead>\n",
              "  <tbody>\n",
              "    <tr>\n",
              "      <th>0</th>\n",
              "      <td>-0.44</td>\n",
              "      <td>0.76</td>\n",
              "      <td>-0.43</td>\n",
              "      <td>-0.95</td>\n",
              "      <td>0.22</td>\n",
              "      <td>-1.25</td>\n",
              "      <td>-0.19</td>\n",
              "      <td>0.13</td>\n",
              "      <td>-0.41</td>\n",
              "      <td>-0.35</td>\n",
              "      <td>-0.66</td>\n",
              "      <td>-0.90</td>\n",
              "      <td>1.51</td>\n",
              "      <td>1.00</td>\n",
              "    </tr>\n",
              "    <tr>\n",
              "      <th>1</th>\n",
              "      <td>0.87</td>\n",
              "      <td>-0.30</td>\n",
              "      <td>0.86</td>\n",
              "      <td>1.35</td>\n",
              "      <td>1.37</td>\n",
              "      <td>1.62</td>\n",
              "      <td>1.77</td>\n",
              "      <td>-1.40</td>\n",
              "      <td>-1.26</td>\n",
              "      <td>0.04</td>\n",
              "      <td>0.86</td>\n",
              "      <td>1.85</td>\n",
              "      <td>0.11</td>\n",
              "      <td>1.00</td>\n",
              "    </tr>\n",
              "    <tr>\n",
              "      <th>2</th>\n",
              "      <td>-0.66</td>\n",
              "      <td>0.60</td>\n",
              "      <td>-0.55</td>\n",
              "      <td>-0.41</td>\n",
              "      <td>0.62</td>\n",
              "      <td>0.33</td>\n",
              "      <td>0.56</td>\n",
              "      <td>0.43</td>\n",
              "      <td>0.65</td>\n",
              "      <td>-0.35</td>\n",
              "      <td>-0.66</td>\n",
              "      <td>-0.90</td>\n",
              "      <td>0.73</td>\n",
              "      <td>1.00</td>\n",
              "    </tr>\n",
              "  </tbody>\n",
              "</table>\n",
              "</div>"
            ],
            "text/plain": [
              "   MntWines  Recency  Income  MntMeatProducts  MntGoldProds  MntSweetProducts  \\\n",
              "0     -0.44     0.76   -0.43            -0.95          0.22             -1.25   \n",
              "1      0.87    -0.30    0.86             1.35          1.37              1.62   \n",
              "2     -0.66     0.60   -0.55            -0.41          0.62              0.33   \n",
              "\n",
              "   MntFishProducts  NumWebVisitsMonth  MntFruits  NumStorePurchases  \\\n",
              "0            -0.19               0.13      -0.41              -0.35   \n",
              "1             1.77              -1.40      -1.26               0.04   \n",
              "2             0.56               0.43       0.65              -0.35   \n",
              "\n",
              "   NumWebPurchases  NumCatalogPurchases  NumDealsPurchases  Education  \n",
              "0            -0.66                -0.90               1.51       1.00  \n",
              "1             0.86                 1.85               0.11       1.00  \n",
              "2            -0.66                -0.90               0.73       1.00  "
            ]
          },
          "execution_count": 46,
          "metadata": {},
          "output_type": "execute_result"
        }
      ],
      "source": [
        "# make final feature from feature importance\n",
        "final_feature = ['MntWines', 'Recency', 'Income', 'MntMeatProducts',\n",
        "       'MntGoldProds', 'MntSweetProducts', 'MntFishProducts', 'NumWebVisitsMonth',\n",
        "       'MntFruits', 'NumStorePurchases', 'NumWebPurchases', 'NumCatalogPurchases', 'NumDealsPurchases', 'Education']\n",
        "      \n",
        "X_train_final = X_train_concat[final_feature]\n",
        "y_train_final = y_train\n",
        "\n",
        "X_test_final = X_test_concat[final_feature]\n",
        "\n",
        "X_train_final.head(3)"
      ]
    },
    {
      "attachments": {},
      "cell_type": "markdown",
      "metadata": {},
      "source": [
        "##  Principal Componen Analysis (PCA)\n",
        "Dari 14 feature yang dipilh berdasarkan nilai feature importance nya, penulis mencoba mencoba mengerucutkan jumlahnya dengan melihat persentase informasi yang masih terkkandung dengan penggunankan metode PCA"
      ]
    },
    {
      "cell_type": "code",
      "execution_count": 47,
      "metadata": {},
      "outputs": [
        {
          "data": {
            "image/png": "[encoded data removed]",
            "text/plain": [
              "<Figure size 1200x300 with 2 Axes>"
            ]
          },
          "metadata": {},
          "output_type": "display_data"
        }
      ],
      "source": [
        "# Define PCA\n",
        "reduce_dim =PCA()\n",
        "\n",
        "# Fit data on PCA\n",
        "reduce_dim.fit(X_train_final)\n",
        "cumsum = np.cumsum(reduce_dim.explained_variance_ratio_)\n",
        "\n",
        "# Make a figure for Dimensionality Reduction Visualize\n",
        "plt.figure(figsize=[12,3])\n",
        "plt.subplot(121)\n",
        "plt.plot(cumsum,'o--')\n",
        "plt.title('Dimension vs Variance Ratio')\n",
        "plt.grid()\n",
        "\n",
        "# Specific on 0,8 until 1 Variance Ratio\n",
        "plt.subplot(122)\n",
        "plt.plot(cumsum,'o--')\n",
        "plt.title('Spesific Dimension vs Variance Ratio')\n",
        "plt.ylim(bottom=0.8, top=1.01)\n",
        "plt.grid()\n",
        "plt.show()"
      ]
    },
    {
      "attachments": {},
      "cell_type": "markdown",
      "metadata": {},
      "source": [
        "Dari Hasil visualisasi, penulis memutuskan untuk mereduksi menjadi `5 kolom` dengan informasi yang tersisa `86%`"
      ]
    },
    {
      "cell_type": "code",
      "execution_count": 48,
      "metadata": {},
      "outputs": [],
      "source": [
        "# define reducer\n",
        "pca = PCA(n_components=5, random_state=43).fit(X_train_final)\n",
        "\n",
        "# transform x_train dan x_test\n",
        "X_train_final = pca.transform(X_train_final)\n",
        "X_test_final = pca.transform(X_test_final)"
      ]
    },
    {
      "attachments": {},
      "cell_type": "markdown",
      "metadata": {
        "id": "PeZTcBgy_mD8"
      },
      "source": [
        "# 6 - Model Definition"
      ]
    },
    {
      "attachments": {},
      "cell_type": "markdown",
      "metadata": {},
      "source": [
        "Untuk menentukan algoritma model yang akan di pakai, penulis melakukan `cross validation` pada beberapa `algoritma supervised learning` dengan `default parameter` dari masing masing algoritma kemudian `memilih` algoritma yang memiliki rata rata score `paling tinggi`.\n",
        "\n",
        "Scoring dilakukan dengan menggunakan `fbeta_score`. Karena menurut personal judgement penulis, kedua kelompok customer baik yang menerima maupun yang menolak tawaran harus di pertimbangkan dan semaksimal mungkin menghindari kesalahan prediksi. Hal ini karena :\n",
        "- Apabila model memprediksi customer `menerima` namun sebenarnya `menolak`, maka terdapat `kesia-siaan (losses)` resource dari superstoe\n",
        "- Sedangkan sebaliknya model memprediksi customer akan `menolak` namun ternyata `menerima`, maka superstore `kehilangan peluang` \n",
        "\n",
        "Meski sama sama penting, namun lebih krusial apabila model salah memprediksi dan superstore kehilangan peluang. Oleh karena itu diberikan pembobotan pada kondisi tersebut lebih besar. Sehingga digunakan metode scorring fbeta_score yang mana memiliki kemampuan untuk mengatur pembebanan tersebut.\n"
      ]
    },
    {
      "attachments": {},
      "cell_type": "markdown",
      "metadata": {},
      "source": [
        "## Cross Validation Beberapa Model"
      ]
    },
    {
      "cell_type": "code",
      "execution_count": 49,
      "metadata": {},
      "outputs": [
        {
          "name": "stdout",
          "output_type": "stream",
          "text": [
            "\n",
            "Model LogisticRegression(random_state=42)\n",
            "Recall Score - All - Cross Validation  :  [0.78170195 0.74411905 0.75758837]\n",
            "Recall Score - Mean - Cross Validation :  0.7611364596847201\n",
            "Recall Score - Std - Cross Validation  :  0.015546926218814108\n",
            "Recall Score - Range of Test-Set       :  0.745589533465906 - 0.7766833859035343\n",
            "\n",
            "Model SVC(random_state=42)\n",
            "Recall Score - All - Cross Validation  :  [0.73938563 0.74188665 0.74188665]\n",
            "Recall Score - Mean - Cross Validation :  0.7410529802931829\n",
            "Recall Score - Std - Cross Validation  :  0.0011789921697225193\n",
            "Recall Score - Range of Test-Set       :  0.7398739881234604 - 0.7422319724629054\n",
            "\n",
            "Model DecisionTreeClassifier(random_state=42)\n",
            "Recall Score - All - Cross Validation  :  [0.78163907 0.76558963 0.76116618]\n",
            "Recall Score - Mean - Cross Validation :  0.7694649601460984\n",
            "Recall Score - Std - Cross Validation  :  0.008795773361188388\n",
            "Recall Score - Range of Test-Set       :  0.76066918678491 - 0.7782607335072869\n",
            "\n",
            "Model RandomForestClassifier(random_state=42)\n",
            "Recall Score - All - Cross Validation  :  [0.78974093 0.79328511 0.77381229]\n",
            "Recall Score - Mean - Cross Validation :  0.785612778783957\n",
            "Recall Score - Std - Cross Validation  :  0.008468723529281874\n",
            "Recall Score - Range of Test-Set       :  0.7771440552546751 - 0.7940815023132388\n",
            "\n",
            "Model KNeighborsClassifier()\n",
            "Recall Score - All - Cross Validation  :  [0.78701499 0.77509962 0.76654821]\n",
            "Recall Score - Mean - Cross Validation :  0.7762209408529138\n",
            "Recall Score - Std - Cross Validation  :  0.008393067344283623\n",
            "Recall Score - Range of Test-Set       :  0.7678278735086302 - 0.7846140081971974\n",
            "\n",
            "Model GaussianNB()\n",
            "Recall Score - All - Cross Validation  :  [0.77756422 0.75826508 0.77203023]\n",
            "Recall Score - Mean - Cross Validation :  0.7692865132833303\n",
            "Recall Score - Std - Cross Validation  :  0.00811419261720424\n",
            "Recall Score - Range of Test-Set       :  0.7611723206661261 - 0.7774007059005346\n",
            "[21:42:21] WARNING: D:\\bld\\xgboost-split_1645118015404\\work\\src\\learner.cc:1115: Starting in XGBoost 1.3.0, the default evaluation metric used with the objective 'binary:logistic' was changed from 'error' to 'logloss'. Explicitly set eval_metric if you'd like to restore the old behavior.\n",
            "[21:42:21] WARNING: D:\\bld\\xgboost-split_1645118015404\\work\\src\\learner.cc:1115: Starting in XGBoost 1.3.0, the default evaluation metric used with the objective 'binary:logistic' was changed from 'error' to 'logloss'. Explicitly set eval_metric if you'd like to restore the old behavior.\n",
            "[21:42:21] WARNING: D:\\bld\\xgboost-split_1645118015404\\work\\src\\learner.cc:1115: Starting in XGBoost 1.3.0, the default evaluation metric used with the objective 'binary:logistic' was changed from 'error' to 'logloss'. Explicitly set eval_metric if you'd like to restore the old behavior.\n",
            "\n",
            "Model XGBClassifier(base_score=None, booster=None, colsample_bylevel=None,\n",
            "              colsample_bynode=None, colsample_bytree=None,\n",
            "              enable_categorical=False, gamma=None, gpu_id=None,\n",
            "              importance_type=None, interaction_constraints=None,\n",
            "              learning_rate=None, max_delta_step=None, max_depth=None,\n",
            "              min_child_weight=None, missing=nan, monotone_constraints=None,\n",
            "              n_estimators=100, n_jobs=None, num_parallel_tree=None,\n",
            "              predictor=None, random_state=42, reg_alpha=None, reg_lambda=None,\n",
            "              scale_pos_weight=None, subsample=None, tree_method=None,\n",
            "              validate_parameters=None, verbosity=None)\n",
            "Recall Score - All - Cross Validation  :  [0.79180606 0.78801805 0.79207246]\n",
            "Recall Score - Mean - Cross Validation :  0.7906321900902483\n",
            "Recall Score - Std - Cross Validation  :  0.0018516721746740764\n",
            "Recall Score - Range of Test-Set       :  0.7887805179155742 - 0.7924838622649224\n",
            "\n",
            "Best Model : XGBClassifier(base_score=None, booster=None, colsample_bylevel=None,\n",
            "              colsample_bynode=None, colsample_bytree=None,\n",
            "              enable_categorical=False, gamma=None, gpu_id=None,\n",
            "              importance_type=None, interaction_constraints=None,\n",
            "              learning_rate=None, max_delta_step=None, max_depth=None,\n",
            "              min_child_weight=None, missing=nan, monotone_constraints=None,\n",
            "              n_estimators=100, n_jobs=None, num_parallel_tree=None,\n",
            "              predictor=None, random_state=42, reg_alpha=None, reg_lambda=None,\n",
            "              scale_pos_weight=None, subsample=None, tree_method=None,\n",
            "              validate_parameters=None, verbosity=None)\n",
            "Best Score : 0.7906321900902483\n"
          ]
        }
      ],
      "source": [
        "# ignore warning\n",
        "filterwarnings('ignore')\n",
        "\n",
        "# make scorer with fbeta\n",
        "f2 = make_scorer(fbeta_score, beta=0.5, average='weighted')\n",
        "\n",
        "# make cross validation condition\n",
        "cv = StratifiedKFold(n_splits=3, random_state = 134, shuffle= True )\n",
        "\n",
        "# make all model into list\n",
        "all_model = [LogisticRegression(random_state=42), SVC(random_state=42), DecisionTreeClassifier(random_state=42), RandomForestClassifier(random_state=42),\n",
        " KNeighborsClassifier(), GaussianNB(), XGBClassifier(random_state=42)]\n",
        "\n",
        "best_model = []\n",
        "best_score = 0\n",
        "\n",
        "# looping all model and search best score\n",
        "for i in all_model:\n",
        "    model = i\n",
        "    model_cv =cross_val_score(model, X_train_final, y_train_final, cv=cv, scoring=f2)\n",
        "    if model_cv.mean() > best_score:\n",
        "        best_model = i\n",
        "        best_score = model_cv.mean()\n",
        "\n",
        "    print(f'\\nModel {i}')\n",
        "    print('Recall Score - All - Cross Validation  : ', model_cv)\n",
        "    print('Recall Score - Mean - Cross Validation : ', model_cv.mean())\n",
        "    print('Recall Score - Std - Cross Validation  : ', model_cv.std())\n",
        "    print('Recall Score - Range of Test-Set       : ', (model_cv.mean()-model_cv.std()) , '-', (model_cv.mean()+model_cv.std()))\n",
        "\n",
        "print(f'\\nBest Model : {best_model}')\n",
        "print(f'Best Score : {best_score}')"
      ]
    },
    {
      "attachments": {},
      "cell_type": "markdown",
      "metadata": {},
      "source": [
        "Dari Nilai Rata - rata skor pada Cross Validation Diperoleh 4 Algoritma yang memiliki skor tertinggi yaitu :\n",
        "1. XGBClassifier `0.79`\n",
        "2. RandomForestClassifier `0.78`\n",
        "3. KNeares Neighbor `0.0.77`\n",
        "4. Decision Tree Classifier `0.0.76`\n",
        "\n",
        "Kemepat model di atas akan dilakukan prediksi dengan hyperparameter default dan kemudian akan dilakukan tuning atau pruning agar performa lebih maksimal"
      ]
    },
    {
      "attachments": {},
      "cell_type": "markdown",
      "metadata": {},
      "source": [
        "## Model Definition"
      ]
    },
    {
      "cell_type": "code",
      "execution_count": 50,
      "metadata": {},
      "outputs": [],
      "source": [
        "# make scaling column\n",
        "col_scale = ['MntWines', 'Recency', 'Income', 'MntMeatProducts', 'MntGoldProds', 'MntSweetProducts', 'MntFishProducts', 'NumWebVisitsMonth',\n",
        "             'MntFruits', 'NumStorePurchases', 'NumWebPurchases', 'NumCatalogPurchases', 'NumDealsPurchases']\n",
        "\n",
        "# make encode column\n",
        "col_encode = ['Education']\n",
        "\n",
        "# Make column transformer\n",
        "preprocessor = ColumnTransformer(\n",
        "    transformers=[\n",
        "        (\"scale\", scaler, col_scale),\n",
        "        (\"encode\", ode, col_encode)\n",
        "        ])\n",
        "\n",
        "# Make a model with pipeline for baseline parameter\n",
        "xgb_model = Pipeline(steps=[('preprocessor', preprocessor), ('pca', pca), ('xgb', XGBClassifier(random_state=42))])\n",
        "rfc_model = Pipeline(steps=[('preprocessor', preprocessor), ('pca', pca), ('rfc', RandomForestClassifier(random_state=42))])\n",
        "knn_model = Pipeline(steps=[('preprocessor', preprocessor), ('pca', pca), ('knn', KNeighborsClassifier())])\n",
        "dtc_model = Pipeline(steps=[('preprocessor', preprocessor), ('pca', pca), ('dtc', DecisionTreeClassifier(random_state=42))])"
      ]
    },
    {
      "attachments": {},
      "cell_type": "markdown",
      "metadata": {
        "id": "XudxBSKaBKsn"
      },
      "source": [
        "# 7 - Model Training"
      ]
    },
    {
      "cell_type": "code",
      "execution_count": 51,
      "metadata": {
        "colab": {
          "base_uri": "https://localhost:8080/"
        },
        "id": "2TrTtq-2BIh3",
        "outputId": "dac2cc06-f10e-424b-97dc-73c1e59ddce5"
      },
      "outputs": [
        {
          "name": "stdout",
          "output_type": "stream",
          "text": [
            "[21:42:21] WARNING: D:\\bld\\xgboost-split_1645118015404\\work\\src\\learner.cc:1115: Starting in XGBoost 1.3.0, the default evaluation metric used with the objective 'binary:logistic' was changed from 'error' to 'logloss'. Explicitly set eval_metric if you'd like to restore the old behavior.\n"
          ]
        }
      ],
      "source": [
        "# Train final model with baseline\n",
        "final_model = [xgb_model, rfc_model, knn_model, dtc_model]\n",
        "\n",
        "for i in final_model:\n",
        "    i.fit(X_train[final_feature], y_train)"
      ]
    },
    {
      "attachments": {},
      "cell_type": "markdown",
      "metadata": {
        "id": "07ROKh92CDI7"
      },
      "source": [
        "# 8 - Model Evaluation"
      ]
    },
    {
      "attachments": {},
      "cell_type": "markdown",
      "metadata": {},
      "source": [
        "Scoring dilakukan dengan menggunakan `fbeta_score`. Karena menurut personal judgement penulis, kedua kelompok customer baik yang menerima maupun yang menolak tawaran harus di pertimbangkan dan semaksimal mungkin menghindari kesalahan prediksi. Hal ini karena :\n",
        "- Apabila model memprediksi customer `menerima` namun sebenarnya `menolak`, maka terdapat `kesia-siaan (losses)` resource dari superstoe\n",
        "- Sedangkan sebaliknya model memprediksi customer akan `menolak` namun ternyata `menerima`, maka superstore `kehilangan peluang` \n",
        "\n",
        "Meski sama sama penting, namun lebih krusial apabila model salah memprediksi dan superstore kehilangan peluang. Oleh karena itu diberikan pembobotan pada kondisi tersebut lebih besar. Sehingga digunakan metode scorring fbeta_score yang mana memiliki kemampuan untuk mengatur pembebanan tersebut."
      ]
    },
    {
      "attachments": {},
      "cell_type": "markdown",
      "metadata": {},
      "source": [
        "## Predict Data"
      ]
    },
    {
      "cell_type": "code",
      "execution_count": 52,
      "metadata": {},
      "outputs": [],
      "source": [
        "# Predict Data Train and Data Test with xgb\n",
        "y_pred_train_xgb = xgb_model.predict(X_train[final_feature])\n",
        "y_pred_test_xgb = xgb_model.predict(X_test)\n",
        "\n",
        "# Predict Data Train and Data Test with random forest\n",
        "y_pred_train_rfc = rfc_model.predict(X_train[final_feature])\n",
        "y_pred_test_rfc = rfc_model.predict(X_test)\n",
        "\n",
        "# Predict Data Train and Data Test with knn\n",
        "y_pred_train_knn = knn_model.predict(X_train[final_feature])\n",
        "y_pred_test_knn = knn_model.predict(X_test)\n",
        "\n",
        "# Predict Data Train and Data Test decision tree\n",
        "y_pred_train_dtc = dtc_model.predict(X_train[final_feature])\n",
        "y_pred_test_dtc = dtc_model.predict(X_test)\n"
      ]
    },
    {
      "attachments": {},
      "cell_type": "markdown",
      "metadata": {},
      "source": [
        "## F Beta Score\n",
        "\n",
        "Sesuai penjelasan sebelumnya, bahwa scoring yang digunakan adalah fbeta. Berikut adalah masing - masing performa model dengan parameter baseline"
      ]
    },
    {
      "attachments": {},
      "cell_type": "markdown",
      "metadata": {},
      "source": [
        "### Model XGBoost"
      ]
    },
    {
      "cell_type": "code",
      "execution_count": 53,
      "metadata": {},
      "outputs": [
        {
          "name": "stdout",
          "output_type": "stream",
          "text": [
            "-------------------- XGBClassifier --------------------\n",
            "fbeta_score Data Train = 0.9932\n",
            "fbeta_score Data Test = 0.7732\n"
          ]
        }
      ],
      "source": [
        "# Fbeta for XGBoost model\n",
        "print('-'*20, 'XGBClassifier', '-'*20)\n",
        "print(f\"fbeta_score Data Train = {fbeta_score(y_train_final, y_pred_train_xgb, average='weighted', beta=0.5):.4f}\")\n",
        "print(f\"fbeta_score Data Test = {fbeta_score(y_test, y_pred_test_xgb, average='weighted', beta=0.5):.4f}\")"
      ]
    },
    {
      "attachments": {},
      "cell_type": "markdown",
      "metadata": {},
      "source": [
        "### Model Random Forest"
      ]
    },
    {
      "cell_type": "code",
      "execution_count": 54,
      "metadata": {},
      "outputs": [
        {
          "name": "stdout",
          "output_type": "stream",
          "text": [
            "-------------------- RandomForestClassifier --------------------\n",
            "fbeta_score Data Train = 0.9932\n",
            "fbeta_score Data Test = 0.7971\n"
          ]
        }
      ],
      "source": [
        "# Fbeta for Random Forest model\n",
        "print('-'*20, 'RandomForestClassifier', '-'*20)\n",
        "print(f\"fbeta_score Data Train = {fbeta_score(y_train_final, y_pred_train_rfc, average='weighted', beta=0.5):.4f}\")\n",
        "print(f\"fbeta_score Data Test = {fbeta_score(y_test, y_pred_test_rfc, average='weighted', beta=0.5):.4f}\")"
      ]
    },
    {
      "attachments": {},
      "cell_type": "markdown",
      "metadata": {},
      "source": [
        "### Model KNN"
      ]
    },
    {
      "cell_type": "code",
      "execution_count": 55,
      "metadata": {},
      "outputs": [
        {
          "name": "stdout",
          "output_type": "stream",
          "text": [
            "-------------------- KNeighborsClassifier --------------------\n",
            "fbeta_score Data Train = 0.8398\n",
            "fbeta_score Data Test = 0.8052\n"
          ]
        }
      ],
      "source": [
        "# Fbeta for KNN model\n",
        "print('-'*20, 'KNeighborsClassifier', '-'*20)\n",
        "print(f\"fbeta_score Data Train = {fbeta_score(y_train_final, y_pred_train_knn, average='weighted', beta=0.5):.4f}\")\n",
        "print(f\"fbeta_score Data Test = {fbeta_score(y_test, y_pred_test_knn, average='weighted', beta=0.5):.4f}\")"
      ]
    },
    {
      "attachments": {},
      "cell_type": "markdown",
      "metadata": {},
      "source": [
        "### Model Decision Tree"
      ]
    },
    {
      "cell_type": "code",
      "execution_count": 56,
      "metadata": {},
      "outputs": [
        {
          "name": "stdout",
          "output_type": "stream",
          "text": [
            "-------------------- Decision Tree Classifier --------------------\n",
            "fbeta_score Data Train = 0.9932\n",
            "fbeta_score Data Test = 0.7612\n"
          ]
        }
      ],
      "source": [
        "# Fbeta for Decision Tree model\n",
        "print('-'*20, 'Decision Tree Classifier', '-'*20)\n",
        "print(f\"fbeta_score Data Train = {fbeta_score(y_train_final, y_pred_train_dtc, average='weighted', beta=0.5):.4f}\")\n",
        "print(f\"fbeta_score Data Test = {fbeta_score(y_test, y_pred_test_dtc, average='weighted', beta=0.5):.4f}\")"
      ]
    },
    {
      "attachments": {},
      "cell_type": "markdown",
      "metadata": {},
      "source": [
        "Dari semua model diatas, Memiliki score yang cukup baik pada data train mamupun pada data test. Namun terdapat perbedaan ayang cukup signifikan antara data train dan data test kecuali model KNN. Artinya kecuali model KNN memiliki predikat `Over-fit`. Karena model diatas masih menggunakan hyperparameter default, maka akan dilakukan `hyperparameter tuning` maupun `pruning` agar diperoleh model yang memiliki predikat `best-fit`"
      ]
    },
    {
      "attachments": {},
      "cell_type": "markdown",
      "metadata": {},
      "source": [
        "## Hyperparrameter Tuning Or Model Pruning"
      ]
    },
    {
      "attachments": {},
      "cell_type": "markdown",
      "metadata": {},
      "source": [
        "### XGBoost\n",
        "Pada xboost akan dilakukan hyper parameter tuning. Salah satu parameternya adalah weight scale yang mana menentukan persentase pembelajarn masing masing kelas pada kolom response"
      ]
    },
    {
      "cell_type": "code",
      "execution_count": 57,
      "metadata": {},
      "outputs": [],
      "source": [
        "# Make a weight scale\n",
        "weight_scale = int(y_train.value_counts()[0]/y_train.value_counts()[1])"
      ]
    },
    {
      "cell_type": "code",
      "execution_count": 58,
      "metadata": {},
      "outputs": [],
      "source": [
        "# Make a hyper parameter combination\n",
        "param_xgb =   {'xgb__max_depth': [3, 5, 7, 9, 11, 13], \n",
        "              'xgb__min_child_weight': [1, 3, 5, 7, 9], \n",
        "              'xgb__subsample': [0.5, 0.7, 0.9, 1.1, 1.3], \n",
        "              'xgb__colsample_bytree': [0.5, 0.7, 0.9, 1.1, 1.3], \n",
        "              'xgb__reg_alpha': [0, 0.1, 0.5, 1, 1.5], \n",
        "              'xgb__reg_lambda': [0, 0.1, 0.5, 1, 1.5],\n",
        "              'xgb__learning_rate' : [0.01, 0.05, 0.1, 0.5, 1],\n",
        "              'xgb__scale_pos_weight' : [weight_scale],\n",
        "              'xgb__ccp_alpha' : [0.0085]\n",
        "             }"
      ]
    },
    {
      "cell_type": "code",
      "execution_count": 59,
      "metadata": {},
      "outputs": [
        {
          "name": "stdout",
          "output_type": "stream",
          "text": [
            "[21:42:45] WARNING: D:\\bld\\xgboost-split_1645118015404\\work\\src\\learner.cc:576: \n",
            "Parameters: { \"ccp_alpha\" } might not be used.\n",
            "\n",
            "  This could be a false alarm, with some parameters getting used by language bindings but\n",
            "  then being mistakenly passed down to XGBoost core, or some parameter actually being used\n",
            "  but getting flagged wrongly here. Please open an issue if you find any such cases.\n",
            "\n",
            "\n",
            "[21:42:45] WARNING: D:\\bld\\xgboost-split_1645118015404\\work\\src\\learner.cc:1115: Starting in XGBoost 1.3.0, the default evaluation metric used with the objective 'binary:logistic' was changed from 'error' to 'logloss'. Explicitly set eval_metric if you'd like to restore the old behavior.\n"
          ]
        },
        {
          "data": {
            "text/plain": [
              "RandomizedSearchCV(cv=StratifiedKFold(n_splits=3, random_state=134, shuffle=True),\n",
              "                   estimator=Pipeline(steps=[('preprocessor',\n",
              "                                              ColumnTransformer(transformers=[('scale',\n",
              "                                                                               StandardScaler(),\n",
              "                                                                               ['MntWines',\n",
              "                                                                                'Recency',\n",
              "                                                                                'Income',\n",
              "                                                                                'MntMeatProducts',\n",
              "                                                                                'MntGoldProds',\n",
              "                                                                                'MntSweetProducts',\n",
              "                                                                                'MntFishProducts',\n",
              "                                                                                'NumWebVisitsMonth',\n",
              "                                                                                'MntFruits',\n",
              "                                                                                'NumStorePurchases',\n",
              "                                                                                'NumWebPurchases'...\n",
              "                                        'xgb__colsample_bytree': [0.5, 0.7, 0.9,\n",
              "                                                                  1.1, 1.3],\n",
              "                                        'xgb__learning_rate': [0.01, 0.05, 0.1,\n",
              "                                                               0.5, 1],\n",
              "                                        'xgb__max_depth': [3, 5, 7, 9, 11, 13],\n",
              "                                        'xgb__min_child_weight': [1, 3, 5, 7,\n",
              "                                                                  9],\n",
              "                                        'xgb__reg_alpha': [0, 0.1, 0.5, 1, 1.5],\n",
              "                                        'xgb__reg_lambda': [0, 0.1, 0.5, 1,\n",
              "                                                            1.5],\n",
              "                                        'xgb__scale_pos_weight': [5],\n",
              "                                        'xgb__subsample': [0.5, 0.7, 0.9, 1.1,\n",
              "                                                           1.3]},\n",
              "                   random_state=43,\n",
              "                   scoring=make_scorer(fbeta_score, beta=0.5, average=weighted))"
            ]
          },
          "execution_count": 59,
          "metadata": {},
          "output_type": "execute_result"
        }
      ],
      "source": [
        "# random search with xgboost\n",
        "xgb_random = RandomizedSearchCV(xgb_model, param_distributions=param_xgb, random_state=43, cv=cv, n_jobs=-1, n_iter=400, scoring=f2)\n",
        "xgb_random.fit(X_train[final_feature], y_train)"
      ]
    },
    {
      "cell_type": "code",
      "execution_count": 60,
      "metadata": {},
      "outputs": [
        {
          "name": "stdout",
          "output_type": "stream",
          "text": [
            "xgb Best Score = 0.8016\n",
            "xgb Best Parameters = {'xgb__subsample': 0.7, 'xgb__scale_pos_weight': 5, 'xgb__reg_lambda': 0.5, 'xgb__reg_alpha': 1, 'xgb__min_child_weight': 3, 'xgb__max_depth': 11, 'xgb__learning_rate': 0.1, 'xgb__colsample_bytree': 0.9, 'xgb__ccp_alpha': 0.0085}\n"
          ]
        }
      ],
      "source": [
        "# best score dan best parameter xbgboost\n",
        "print(f\"xgb Best Score = {xgb_random.best_score_:.4f}\")\n",
        "print(f\"xgb Best Parameters = {xgb_random.best_params_}\")"
      ]
    },
    {
      "cell_type": "code",
      "execution_count": 61,
      "metadata": {},
      "outputs": [
        {
          "name": "stdout",
          "output_type": "stream",
          "text": [
            "Xgb Best Score 0.8016\n",
            "Xgb Score On Data Test 0.7882\n"
          ]
        }
      ],
      "source": [
        "# predict data test xgb\n",
        "y_pred_test_xgb_tuning = xgb_random.predict(X_test)\n",
        "\n",
        "# compare best score and data test xgb\n",
        "print(f\"Xgb Best Score {xgb_random.best_score_:.4f}\")\n",
        "print(f\"Xgb Score On Data Test {fbeta_score(y_test, y_pred_test_xgb_tuning, average='weighted', beta=0.5):.4f}\")"
      ]
    },
    {
      "attachments": {},
      "cell_type": "markdown",
      "metadata": {},
      "source": [
        "### Random Forest\n",
        "Mengatasi overfitting pada random forest dapat dilakuan Melalui post pruning. Salah satu metode post pruning adalah Cost Complexity Path dengan menggunakan nilai cost complexity alpha"
      ]
    },
    {
      "attachments": {},
      "cell_type": "markdown",
      "metadata": {},
      "source": [
        "#### CCP Alpha"
      ]
    },
    {
      "cell_type": "code",
      "execution_count": 62,
      "metadata": {},
      "outputs": [
        {
          "data": {
            "text/plain": [
              "DecisionTreeClassifier()"
            ]
          },
          "execution_count": 62,
          "metadata": {},
          "output_type": "execute_result"
        }
      ],
      "source": [
        "# Search ccp alpha from ccp path\n",
        "tree = DecisionTreeClassifier()\n",
        "tree.fit(X_train_final, y_train_final)"
      ]
    },
    {
      "cell_type": "code",
      "execution_count": 63,
      "metadata": {},
      "outputs": [],
      "source": [
        "# ccp_path from decision tree\n",
        "ccp_path  = tree.cost_complexity_pruning_path(X_train_final,y_train_final)\n",
        "\n",
        "# Extractt ccp_alphas from ccp_path\n",
        "ccp_alphas, impurities = ccp_path.ccp_alphas, ccp_path.impurities"
      ]
    },
    {
      "cell_type": "code",
      "execution_count": 64,
      "metadata": {},
      "outputs": [
        {
          "data": {
            "image/png": "[encoded data removed]",
            "text/plain": [
              "<Figure size 800x400 with 1 Axes>"
            ]
          },
          "metadata": {},
          "output_type": "display_data"
        }
      ],
      "source": [
        "# variabel for scoring with every ccp_alpha value\n",
        "fbeta_train = []\n",
        "fbeta_test = []\n",
        "\n",
        "# Loop train and predict for every value of ccp alpha\n",
        "for i in ccp_alphas:\n",
        "    model = RandomForestClassifier(ccp_alpha=i, random_state=42)\n",
        "    model.fit(X_train_final,y_train_final)\n",
        "    y_pred_train = model.predict(X_train_final)\n",
        "    y_pred_test = model.predict(X_test_final)\n",
        "\n",
        "    fbeta_train.append(fbeta_score(y_train_final,y_pred_train, average='weighted', beta=0.5))\n",
        "    fbeta_test.append(fbeta_score(y_test, y_pred_test, average='weighted', beta=0.5))\n",
        "\n",
        "# Visualize fbeta score vs ccp alpha value\n",
        "plt.figure(figsize=[8,4])\n",
        "sns.lineplot(y=fbeta_train, x=ccp_alphas, label='fbeta Train')\n",
        "sns.lineplot(y=fbeta_test, x=ccp_alphas, label='fbeta Test')\n",
        "plt.title('F Beta Score Train Vs Test')\n",
        "plt.xlabel('ccp alpha value')\n",
        "plt.ylabel('F Beta Score')\n",
        "plt.show()"
      ]
    },
    {
      "attachments": {},
      "cell_type": "markdown",
      "metadata": {},
      "source": [
        "Dari hasil plot diatas diperoleh informasi bahwa performa data train dan data test akan sama pada `ccp alpha lebih dari 0.004`. Namun pada kondisi tersebut performa model sudah cukup jauh yaitu hanya `0.75`. Sedangkan model masih dapat memiliki performas yang lebih tinggi yaitu pada `0.80 namun akan mengalami overfit`.\n",
        "\n",
        "Penulis memutuskan memilih nilai ccp alpha pada performa yang `tinggi` meski akan mengalami overfit. Karena fokus utama adalah mencari `performa model sebaik baiknya`.\n",
        "\n",
        "Sehingga diperoleh nilai ccp alpha adalah `0.0009`"
      ]
    },
    {
      "attachments": {},
      "cell_type": "markdown",
      "metadata": {},
      "source": [
        "#### Random Search Random Forest \n",
        "Kemudian penulis mengkombinasikan pruning dengan hyper parameter tuning lainnya menggunakan random search"
      ]
    },
    {
      "cell_type": "code",
      "execution_count": 65,
      "metadata": {},
      "outputs": [],
      "source": [
        "# Make parameter for random forest\n",
        "param_rfc ={  \n",
        "              'rfc__max_depth': [5, 10, 15, 20], \n",
        "              'rfc__min_samples_split': [2, 5, 10], \n",
        "              'rfc__min_samples_leaf': [1, 2, 4], \n",
        "              'rfc__max_features': ['auto', 'sqrt', 'log2'], \n",
        "              'rfc__ccp_alpha': [0.0009]\n",
        "             }\n"
      ]
    },
    {
      "cell_type": "code",
      "execution_count": 66,
      "metadata": {},
      "outputs": [
        {
          "data": {
            "text/plain": [
              "RandomizedSearchCV(cv=StratifiedKFold(n_splits=3, random_state=134, shuffle=True),\n",
              "                   estimator=Pipeline(steps=[('preprocessor',\n",
              "                                              ColumnTransformer(transformers=[('scale',\n",
              "                                                                               StandardScaler(),\n",
              "                                                                               ['MntWines',\n",
              "                                                                                'Recency',\n",
              "                                                                                'Income',\n",
              "                                                                                'MntMeatProducts',\n",
              "                                                                                'MntGoldProds',\n",
              "                                                                                'MntSweetProducts',\n",
              "                                                                                'MntFishProducts',\n",
              "                                                                                'NumWebVisitsMonth',\n",
              "                                                                                'MntFruits',\n",
              "                                                                                'NumStorePurchases',\n",
              "                                                                                'NumWebPurchases'...\n",
              "                                                  random_state=43)),\n",
              "                                             ('rfc',\n",
              "                                              RandomForestClassifier(random_state=42))]),\n",
              "                   n_iter=200, n_jobs=-1,\n",
              "                   param_distributions={'rfc__ccp_alpha': [0.0009],\n",
              "                                        'rfc__max_depth': [5, 10, 15, 20],\n",
              "                                        'rfc__max_features': ['auto', 'sqrt',\n",
              "                                                              'log2'],\n",
              "                                        'rfc__min_samples_leaf': [1, 2, 4],\n",
              "                                        'rfc__min_samples_split': [2, 5, 10]},\n",
              "                   random_state=2023,\n",
              "                   scoring=make_scorer(fbeta_score, beta=0.5, average=weighted))"
            ]
          },
          "execution_count": 66,
          "metadata": {},
          "output_type": "execute_result"
        }
      ],
      "source": [
        "# Random search for random forest\n",
        "rfc_random = RandomizedSearchCV(rfc_model, param_distributions=param_rfc, n_iter=200, random_state=2023 ,cv=cv, n_jobs=-1, scoring=f2)\n",
        "rfc_random.fit(X_train[final_feature], y_train)"
      ]
    },
    {
      "cell_type": "code",
      "execution_count": 67,
      "metadata": {},
      "outputs": [
        {
          "name": "stdout",
          "output_type": "stream",
          "text": [
            "Best Score Random Search Random Forest : 0.7837\n",
            "Best Parameter Random Search Random Forest : \n",
            "{'rfc__min_samples_split': 2, 'rfc__min_samples_leaf': 1, 'rfc__max_features': 'auto', 'rfc__max_depth': 15, 'rfc__ccp_alpha': 0.0009}\n"
          ]
        }
      ],
      "source": [
        "# Best score and parameter random forest with Random Search\n",
        "print(f'Best Score Random Search Random Forest : {rfc_random.best_score_:.4f}')\n",
        "print(f'Best Parameter Random Search Random Forest : \\n{rfc_random.best_params_}')"
      ]
    },
    {
      "cell_type": "code",
      "execution_count": 68,
      "metadata": {},
      "outputs": [
        {
          "name": "stdout",
          "output_type": "stream",
          "text": [
            "Random Forest Best Score : 0.7837\n",
            "Random Forest Tuning On Data Test : 0.7919\n"
          ]
        }
      ],
      "source": [
        "# predict on data test\n",
        "y_pred_test_rfc_tuning = rfc_random.predict(X_test)\n",
        "\n",
        "# compare best score and data test\n",
        "print(f'Random Forest Best Score : {rfc_random.best_score_:.4f}')\n",
        "print(f\"Random Forest Tuning On Data Test : {fbeta_score(y_test, y_pred_test_rfc_tuning, average='weighted', beta=0.5):.4f}\")"
      ]
    },
    {
      "attachments": {},
      "cell_type": "markdown",
      "metadata": {},
      "source": [
        "### KNN Model"
      ]
    },
    {
      "cell_type": "code",
      "execution_count": 69,
      "metadata": {},
      "outputs": [],
      "source": [
        "# Make parameters combinataion\n",
        "knn_params = { 'knn__n_neighbors' : [int(x) for x in np.linspace(start=3, stop=10, num=8)],\n",
        "               'knn__weights' : ['uniform', 'distance'],\n",
        "               'knn__algorithm' : ['auto', 'ball_tree', 'kd_tree', 'brute'],\n",
        "               'knn__leaf_size' : [int(x) for x in np.linspace(start=10, stop=100, num=10)]\n",
        "            }"
      ]
    },
    {
      "cell_type": "code",
      "execution_count": 70,
      "metadata": {},
      "outputs": [
        {
          "data": {
            "text/plain": [
              "GridSearchCV(cv=StratifiedKFold(n_splits=3, random_state=134, shuffle=True),\n",
              "             estimator=Pipeline(steps=[('preprocessor',\n",
              "                                        ColumnTransformer(transformers=[('scale',\n",
              "                                                                         StandardScaler(),\n",
              "                                                                         ['MntWines',\n",
              "                                                                          'Recency',\n",
              "                                                                          'Income',\n",
              "                                                                          'MntMeatProducts',\n",
              "                                                                          'MntGoldProds',\n",
              "                                                                          'MntSweetProducts',\n",
              "                                                                          'MntFishProducts',\n",
              "                                                                          'NumWebVisitsMonth',\n",
              "                                                                          'MntFruits',\n",
              "                                                                          'NumStorePurchases',\n",
              "                                                                          'NumWebPurchases',\n",
              "                                                                          'NumC...\n",
              "                                                                         ['Education'])])),\n",
              "                                       ('pca',\n",
              "                                        PCA(n_components=5, random_state=43)),\n",
              "                                       ('knn', KNeighborsClassifier())]),\n",
              "             n_jobs=-1,\n",
              "             param_grid={'knn__algorithm': ['auto', 'ball_tree', 'kd_tree',\n",
              "                                            'brute'],\n",
              "                         'knn__leaf_size': [10, 20, 30, 40, 50, 60, 70, 80, 90,\n",
              "                                            100],\n",
              "                         'knn__n_neighbors': [3, 4, 5, 6, 7, 8, 9, 10],\n",
              "                         'knn__weights': ['uniform', 'distance']},\n",
              "             scoring=make_scorer(fbeta_score, beta=0.5, average=weighted))"
            ]
          },
          "execution_count": 70,
          "metadata": {},
          "output_type": "execute_result"
        }
      ],
      "source": [
        "# Gridserach Model\n",
        "knn_grid = GridSearchCV(knn_model, param_grid=knn_params, cv=cv, n_jobs=-1, scoring=f2)\n",
        "knn_grid.fit(X_train[final_feature], y_train)"
      ]
    },
    {
      "cell_type": "code",
      "execution_count": 71,
      "metadata": {},
      "outputs": [
        {
          "name": "stdout",
          "output_type": "stream",
          "text": [
            "KNN Best Parameters = {'knn__algorithm': 'auto', 'knn__leaf_size': 10, 'knn__n_neighbors': 5, 'knn__weights': 'uniform'}\n",
            "KNN Best Score = 0.7774\n"
          ]
        }
      ],
      "source": [
        "# Best score and parameter KNN with Grid Search\n",
        "print(f\"KNN Best Parameters = {knn_grid.best_params_}\")\n",
        "print(f\"KNN Best Score = {knn_grid.best_score_:.4f}\")"
      ]
    },
    {
      "cell_type": "code",
      "execution_count": 72,
      "metadata": {},
      "outputs": [
        {
          "name": "stdout",
          "output_type": "stream",
          "text": [
            "KNN Best Score : 0.7774\n",
            "KNN Tuning On Data Test : 0.8052\n"
          ]
        }
      ],
      "source": [
        "# predict on data test\n",
        "y_pred_test_knn_tuning = knn_grid.predict(X_test)\n",
        "\n",
        "# compare best score and data test\n",
        "print(f'KNN Best Score : {knn_grid.best_score_:.4f}')\n",
        "print(f\"KNN Tuning On Data Test : {fbeta_score(y_test, y_pred_test_knn_tuning, average='weighted', beta=0.5):.4f}\")"
      ]
    },
    {
      "attachments": {},
      "cell_type": "markdown",
      "metadata": {},
      "source": [
        "### Decision Tree Classifier"
      ]
    },
    {
      "cell_type": "code",
      "execution_count": 73,
      "metadata": {},
      "outputs": [],
      "source": [
        "# make parameter combination for decision tree\n",
        "param_dtc =  {'dtc__min_samples_split':  [int(x) for x in np.linspace(start=1, stop=8, num=8)], \n",
        "              'dtc__min_samples_leaf':[int(x) for x in np.linspace(start=1, stop=8, num=8)],\n",
        "              'dtc__max_features': ['auto', 'sqrt', 'log2'], \n",
        "              'dtc__ccp_alpha': [0.0009],\n",
        "              'dtc__class_weight' : ['balanced']\n",
        "             }"
      ]
    },
    {
      "cell_type": "code",
      "execution_count": 74,
      "metadata": {},
      "outputs": [
        {
          "data": {
            "text/plain": [
              "RandomizedSearchCV(cv=StratifiedKFold(n_splits=3, random_state=134, shuffle=True),\n",
              "                   estimator=Pipeline(steps=[('preprocessor',\n",
              "                                              ColumnTransformer(transformers=[('scale',\n",
              "                                                                               StandardScaler(),\n",
              "                                                                               ['MntWines',\n",
              "                                                                                'Recency',\n",
              "                                                                                'Income',\n",
              "                                                                                'MntMeatProducts',\n",
              "                                                                                'MntGoldProds',\n",
              "                                                                                'MntSweetProducts',\n",
              "                                                                                'MntFishProducts',\n",
              "                                                                                'NumWebVisitsMonth',\n",
              "                                                                                'MntFruits',\n",
              "                                                                                'NumStorePurchases',\n",
              "                                                                                'NumWebPurchases'...\n",
              "                                              DecisionTreeClassifier(random_state=42))]),\n",
              "                   n_iter=100, n_jobs=-1,\n",
              "                   param_distributions={'dtc__ccp_alpha': [0.0009],\n",
              "                                        'dtc__class_weight': ['balanced'],\n",
              "                                        'dtc__max_features': ['auto', 'sqrt',\n",
              "                                                              'log2'],\n",
              "                                        'dtc__min_samples_leaf': [1, 2, 3, 4, 5,\n",
              "                                                                  6, 7, 8],\n",
              "                                        'dtc__min_samples_split': [1, 2, 3, 4,\n",
              "                                                                   5, 6, 7,\n",
              "                                                                   8]},\n",
              "                   random_state=1012,\n",
              "                   scoring=make_scorer(fbeta_score, beta=0.5, average=weighted))"
            ]
          },
          "execution_count": 74,
          "metadata": {},
          "output_type": "execute_result"
        }
      ],
      "source": [
        "# Random search for decision tree\n",
        "dtc_random = RandomizedSearchCV(dtc_model, param_distributions=param_dtc, n_iter=100, random_state=1012 ,cv=cv, n_jobs=-1, scoring=f2)\n",
        "dtc_random.fit(X_train[final_feature], y_train)"
      ]
    },
    {
      "cell_type": "code",
      "execution_count": 75,
      "metadata": {},
      "outputs": [
        {
          "name": "stdout",
          "output_type": "stream",
          "text": [
            "Best Score Random Search Decision Tree : 0.7807\n",
            "Best Parameter Random Search Decision Tree : \n",
            "{'dtc__min_samples_split': 2, 'dtc__min_samples_leaf': 2, 'dtc__max_features': 'auto', 'dtc__class_weight': 'balanced', 'dtc__ccp_alpha': 0.0009}\n"
          ]
        }
      ],
      "source": [
        "# Best score and parameter random forest with Random Search\n",
        "print(f'Best Score Random Search Decision Tree : {dtc_random.best_score_:.4f}')\n",
        "print(f'Best Parameter Random Search Decision Tree : \\n{dtc_random.best_params_}')"
      ]
    },
    {
      "cell_type": "code",
      "execution_count": 76,
      "metadata": {},
      "outputs": [
        {
          "name": "stdout",
          "output_type": "stream",
          "text": [
            "KNN Best Score : 0.7807\n",
            "KNN Tuning On Data Test : 0.7661\n"
          ]
        }
      ],
      "source": [
        "# predict on data test\n",
        "y_pred_test_dtc_tuning = dtc_random.predict(X_test)\n",
        "\n",
        "# compare best score and data test\n",
        "print(f'KNN Best Score : {dtc_random.best_score_:.4f}')\n",
        "print(f\"KNN Tuning On Data Test : {fbeta_score(y_test, y_pred_test_dtc_tuning, average='weighted', beta=0.5):.4f}\")"
      ]
    },
    {
      "attachments": {},
      "cell_type": "markdown",
      "metadata": {},
      "source": [
        "Dari hasil tuning, Semua model sudah tidak megalami `overfit` namun sudah menjadi `best - fit` dengan selisih antara train dan test antara `1% - 2%`\n",
        "\n",
        "Selanjutnya penulis membandingkan performa pada data test sebelum dan sesudah tuning"
      ]
    },
    {
      "attachments": {},
      "cell_type": "markdown",
      "metadata": {},
      "source": [
        "## Comparation Before And After Tuning"
      ]
    },
    {
      "cell_type": "code",
      "execution_count": 77,
      "metadata": {},
      "outputs": [
        {
          "name": "stdout",
          "output_type": "stream",
          "text": [
            "-------------------- Decision XGB Data Test --------------------\n",
            "fbeta_score Before Tuning = 0.7732\n",
            "fbeta_score After Tuning = 0.7882\n"
          ]
        }
      ],
      "source": [
        "# Fbeta for XGB model on data test\n",
        "print('-'*20, 'Decision XGB Data Test', '-'*20)\n",
        "print(f\"fbeta_score Before Tuning = {fbeta_score(y_test, y_pred_test_xgb, average='weighted', beta=0.5):.4f}\")\n",
        "print(f\"fbeta_score After Tuning = {fbeta_score(y_test, y_pred_test_xgb_tuning, average='weighted', beta=0.5):.4f}\")"
      ]
    },
    {
      "cell_type": "code",
      "execution_count": 78,
      "metadata": {},
      "outputs": [
        {
          "name": "stdout",
          "output_type": "stream",
          "text": [
            "-------------------- Decision Random Forest Data Test --------------------\n",
            "fbeta_score Before Tuning = 0.7971\n",
            "fbeta_score After Tuning = 0.7919\n"
          ]
        }
      ],
      "source": [
        "# Fbeta for Random Forest model on data test\n",
        "print('-'*20, 'Decision Random Forest Data Test', '-'*20)\n",
        "print(f\"fbeta_score Before Tuning = {fbeta_score(y_test, y_pred_test_rfc, average='weighted', beta=0.5):.4f}\")\n",
        "print(f\"fbeta_score After Tuning = {fbeta_score(y_test, y_pred_test_rfc_tuning, average='weighted', beta=0.5):.4f}\")"
      ]
    },
    {
      "cell_type": "code",
      "execution_count": 79,
      "metadata": {},
      "outputs": [
        {
          "name": "stdout",
          "output_type": "stream",
          "text": [
            "-------------------- Decision KNN Data Test --------------------\n",
            "fbeta_score Before Tuning = 0.8052\n",
            "fbeta_score After Tuning = 0.8052\n"
          ]
        }
      ],
      "source": [
        "# Fbeta for KNN model on data test\n",
        "print('-'*20, 'Decision KNN Data Test', '-'*20)\n",
        "print(f\"fbeta_score Before Tuning = {fbeta_score(y_test, y_pred_test_knn, average='weighted', beta=0.5):.4f}\")\n",
        "print(f\"fbeta_score After Tuning = {fbeta_score(y_test, y_pred_test_knn_tuning, average='weighted', beta=0.5):.4f}\")"
      ]
    },
    {
      "cell_type": "code",
      "execution_count": 80,
      "metadata": {},
      "outputs": [
        {
          "name": "stdout",
          "output_type": "stream",
          "text": [
            "-------------------- Decision Tree Classifier Data Test --------------------\n",
            "fbeta_score Before Tuning = 0.7612\n",
            "fbeta_score After Tuning = 0.7661\n"
          ]
        }
      ],
      "source": [
        "# Fbeta for Decision Tree model on data test\n",
        "print('-'*20, 'Decision Tree Classifier Data Test', '-'*20)\n",
        "print(f\"fbeta_score Before Tuning = {fbeta_score(y_test, y_pred_test_dtc, average='weighted', beta=0.5):.4f}\")\n",
        "print(f\"fbeta_score After Tuning = {fbeta_score(y_test, y_pred_test_dtc_tuning, average='weighted', beta=0.5):.4f}\")"
      ]
    },
    {
      "attachments": {},
      "cell_type": "markdown",
      "metadata": {},
      "source": [
        "Kesimpulan :\n",
        "- Pada model `XGB` dan `Decision Tree` terdapat `kenaikan` antara model baseline dengan model yang sudah di tuning kurang lebih `1%` \n",
        "- Pada model `KNN` tidak terjadi perubahan antara sebelum dan sesudah tuning\n",
        "- Sedangkan pada model `random forest` terjadi `penurunan` walau hanya `0.06%`. Hal ini dapat terjadi karena model random forest memiliki banyak hyper parameter sedangkan hyperparameter yang di tuning hanya beberapa dengan kombinasi yang tidak kompleks dikarenakan `keterbatasan device` dalam melakukan tuning ( Search )\n",
        "- Setelah tuning urutan model dengan score dari yang tertinggi adalah KNN, Random Forest, XGBoost, dan Decision Tree\n",
        "- Sehingga model yang dipilh adalah KNN, XGB dan Decision Tree dengan Tuning dan Random Forest Baseline"
      ]
    },
    {
      "attachments": {},
      "cell_type": "markdown",
      "metadata": {},
      "source": [
        "### Data Test with Model Prediction"
      ]
    },
    {
      "cell_type": "code",
      "execution_count": 81,
      "metadata": {},
      "outputs": [],
      "source": [
        "# Make dataframe from model prediction\n",
        "y_pred_test_knn_tuning_df = pd.DataFrame(y_pred_test_knn_tuning, columns=['Prediction KNN'])\n",
        "y_pred_test_rfc_tuning_df = pd.DataFrame(y_pred_test_rfc, columns=['Prediction Random Forest'])\n",
        "y_pred_test_xgb_tuning_df = pd.DataFrame(y_pred_test_xgb_tuning, columns=['Prediction XGB'])\n",
        "y_pred_test_dtc_tuning_df = pd.DataFrame(y_pred_test_dtc_tuning, columns=['Prediction DCT'])"
      ]
    },
    {
      "cell_type": "code",
      "execution_count": 82,
      "metadata": {},
      "outputs": [
        {
          "data": {
            "text/html": [
              "<div>\n",
              "<style scoped>\n",
              "    .dataframe tbody tr th:only-of-type {\n",
              "        vertical-align: middle;\n",
              "    }\n",
              "\n",
              "    .dataframe tbody tr th {\n",
              "        vertical-align: top;\n",
              "    }\n",
              "\n",
              "    .dataframe thead th {\n",
              "        text-align: right;\n",
              "    }\n",
              "</style>\n",
              "<table border=\"1\" class=\"dataframe\">\n",
              "  <thead>\n",
              "    <tr style=\"text-align: right;\">\n",
              "      <th></th>\n",
              "      <th>MntWines</th>\n",
              "      <th>Recency</th>\n",
              "      <th>Income</th>\n",
              "      <th>MntMeatProducts</th>\n",
              "      <th>MntGoldProds</th>\n",
              "      <th>MntSweetProducts</th>\n",
              "      <th>MntFishProducts</th>\n",
              "      <th>NumWebVisitsMonth</th>\n",
              "      <th>MntFruits</th>\n",
              "      <th>NumStorePurchases</th>\n",
              "      <th>NumWebPurchases</th>\n",
              "      <th>NumCatalogPurchases</th>\n",
              "      <th>NumDealsPurchases</th>\n",
              "      <th>Education</th>\n",
              "      <th>Prediction KNN</th>\n",
              "      <th>Prediction Random Forest</th>\n",
              "      <th>Prediction XGB</th>\n",
              "      <th>Prediction DCT</th>\n",
              "    </tr>\n",
              "  </thead>\n",
              "  <tbody>\n",
              "    <tr>\n",
              "      <th>395</th>\n",
              "      <td>1308</td>\n",
              "      <td>27</td>\n",
              "      <td>70123.00</td>\n",
              "      <td>396</td>\n",
              "      <td>0</td>\n",
              "      <td>0</td>\n",
              "      <td>23</td>\n",
              "      <td>3</td>\n",
              "      <td>0</td>\n",
              "      <td>4</td>\n",
              "      <td>5</td>\n",
              "      <td>7</td>\n",
              "      <td>1</td>\n",
              "      <td>PhD</td>\n",
              "      <td>0</td>\n",
              "      <td>0</td>\n",
              "      <td>0</td>\n",
              "      <td>1</td>\n",
              "    </tr>\n",
              "    <tr>\n",
              "      <th>330</th>\n",
              "      <td>742</td>\n",
              "      <td>80</td>\n",
              "      <td>66476.00</td>\n",
              "      <td>152</td>\n",
              "      <td>57</td>\n",
              "      <td>9</td>\n",
              "      <td>25</td>\n",
              "      <td>4</td>\n",
              "      <td>28</td>\n",
              "      <td>10</td>\n",
              "      <td>6</td>\n",
              "      <td>8</td>\n",
              "      <td>2</td>\n",
              "      <td>Master</td>\n",
              "      <td>0</td>\n",
              "      <td>0</td>\n",
              "      <td>0</td>\n",
              "      <td>1</td>\n",
              "    </tr>\n",
              "    <tr>\n",
              "      <th>196</th>\n",
              "      <td>274</td>\n",
              "      <td>67</td>\n",
              "      <td>72570.00</td>\n",
              "      <td>216</td>\n",
              "      <td>224</td>\n",
              "      <td>141</td>\n",
              "      <td>151</td>\n",
              "      <td>1</td>\n",
              "      <td>83</td>\n",
              "      <td>12</td>\n",
              "      <td>4</td>\n",
              "      <td>6</td>\n",
              "      <td>1</td>\n",
              "      <td>Graduation</td>\n",
              "      <td>0</td>\n",
              "      <td>0</td>\n",
              "      <td>0</td>\n",
              "      <td>0</td>\n",
              "    </tr>\n",
              "    <tr>\n",
              "      <th>34</th>\n",
              "      <td>37</td>\n",
              "      <td>89</td>\n",
              "      <td>46377.00</td>\n",
              "      <td>46</td>\n",
              "      <td>0</td>\n",
              "      <td>3</td>\n",
              "      <td>4</td>\n",
              "      <td>4</td>\n",
              "      <td>0</td>\n",
              "      <td>3</td>\n",
              "      <td>2</td>\n",
              "      <td>1</td>\n",
              "      <td>1</td>\n",
              "      <td>PhD</td>\n",
              "      <td>0</td>\n",
              "      <td>0</td>\n",
              "      <td>0</td>\n",
              "      <td>0</td>\n",
              "    </tr>\n",
              "    <tr>\n",
              "      <th>101</th>\n",
              "      <td>184</td>\n",
              "      <td>58</td>\n",
              "      <td>82017.00</td>\n",
              "      <td>446</td>\n",
              "      <td>23</td>\n",
              "      <td>23</td>\n",
              "      <td>30</td>\n",
              "      <td>2</td>\n",
              "      <td>23</td>\n",
              "      <td>7</td>\n",
              "      <td>5</td>\n",
              "      <td>4</td>\n",
              "      <td>1</td>\n",
              "      <td>PhD</td>\n",
              "      <td>0</td>\n",
              "      <td>0</td>\n",
              "      <td>0</td>\n",
              "      <td>1</td>\n",
              "    </tr>\n",
              "    <tr>\n",
              "      <th>218</th>\n",
              "      <td>10</td>\n",
              "      <td>27</td>\n",
              "      <td>32218.00</td>\n",
              "      <td>15</td>\n",
              "      <td>30</td>\n",
              "      <td>1</td>\n",
              "      <td>13</td>\n",
              "      <td>7</td>\n",
              "      <td>24</td>\n",
              "      <td>3</td>\n",
              "      <td>2</td>\n",
              "      <td>1</td>\n",
              "      <td>1</td>\n",
              "      <td>2n Cycle</td>\n",
              "      <td>0</td>\n",
              "      <td>0</td>\n",
              "      <td>0</td>\n",
              "      <td>0</td>\n",
              "    </tr>\n",
              "    <tr>\n",
              "      <th>370</th>\n",
              "      <td>620</td>\n",
              "      <td>21</td>\n",
              "      <td>53977.00</td>\n",
              "      <td>165</td>\n",
              "      <td>82</td>\n",
              "      <td>24</td>\n",
              "      <td>0</td>\n",
              "      <td>5</td>\n",
              "      <td>16</td>\n",
              "      <td>12</td>\n",
              "      <td>5</td>\n",
              "      <td>5</td>\n",
              "      <td>5</td>\n",
              "      <td>Graduation</td>\n",
              "      <td>0</td>\n",
              "      <td>0</td>\n",
              "      <td>0</td>\n",
              "      <td>0</td>\n",
              "    </tr>\n",
              "    <tr>\n",
              "      <th>79</th>\n",
              "      <td>1032</td>\n",
              "      <td>40</td>\n",
              "      <td>75825.00</td>\n",
              "      <td>779</td>\n",
              "      <td>51</td>\n",
              "      <td>105</td>\n",
              "      <td>137</td>\n",
              "      <td>4</td>\n",
              "      <td>105</td>\n",
              "      <td>9</td>\n",
              "      <td>5</td>\n",
              "      <td>8</td>\n",
              "      <td>0</td>\n",
              "      <td>Graduation</td>\n",
              "      <td>0</td>\n",
              "      <td>1</td>\n",
              "      <td>1</td>\n",
              "      <td>1</td>\n",
              "    </tr>\n",
              "    <tr>\n",
              "      <th>126</th>\n",
              "      <td>450</td>\n",
              "      <td>37</td>\n",
              "      <td>79607.00</td>\n",
              "      <td>951</td>\n",
              "      <td>216</td>\n",
              "      <td>0</td>\n",
              "      <td>173</td>\n",
              "      <td>1</td>\n",
              "      <td>133</td>\n",
              "      <td>6</td>\n",
              "      <td>3</td>\n",
              "      <td>6</td>\n",
              "      <td>1</td>\n",
              "      <td>Graduation</td>\n",
              "      <td>0</td>\n",
              "      <td>0</td>\n",
              "      <td>1</td>\n",
              "      <td>0</td>\n",
              "    </tr>\n",
              "    <tr>\n",
              "      <th>59</th>\n",
              "      <td>756</td>\n",
              "      <td>97</td>\n",
              "      <td>78331.00</td>\n",
              "      <td>354</td>\n",
              "      <td>61</td>\n",
              "      <td>169</td>\n",
              "      <td>160</td>\n",
              "      <td>4</td>\n",
              "      <td>138</td>\n",
              "      <td>7</td>\n",
              "      <td>10</td>\n",
              "      <td>6</td>\n",
              "      <td>2</td>\n",
              "      <td>Graduation</td>\n",
              "      <td>0</td>\n",
              "      <td>0</td>\n",
              "      <td>0</td>\n",
              "      <td>0</td>\n",
              "    </tr>\n",
              "  </tbody>\n",
              "</table>\n",
              "</div>"
            ],
            "text/plain": [
              "     MntWines  Recency   Income  MntMeatProducts  MntGoldProds  \\\n",
              "395      1308       27 70123.00              396             0   \n",
              "330       742       80 66476.00              152            57   \n",
              "196       274       67 72570.00              216           224   \n",
              "34         37       89 46377.00               46             0   \n",
              "101       184       58 82017.00              446            23   \n",
              "218        10       27 32218.00               15            30   \n",
              "370       620       21 53977.00              165            82   \n",
              "79       1032       40 75825.00              779            51   \n",
              "126       450       37 79607.00              951           216   \n",
              "59        756       97 78331.00              354            61   \n",
              "\n",
              "     MntSweetProducts  MntFishProducts  NumWebVisitsMonth  MntFruits  \\\n",
              "395                 0               23                  3          0   \n",
              "330                 9               25                  4         28   \n",
              "196               141              151                  1         83   \n",
              "34                  3                4                  4          0   \n",
              "101                23               30                  2         23   \n",
              "218                 1               13                  7         24   \n",
              "370                24                0                  5         16   \n",
              "79                105              137                  4        105   \n",
              "126                 0              173                  1        133   \n",
              "59                169              160                  4        138   \n",
              "\n",
              "     NumStorePurchases  NumWebPurchases  NumCatalogPurchases  \\\n",
              "395                  4                5                    7   \n",
              "330                 10                6                    8   \n",
              "196                 12                4                    6   \n",
              "34                   3                2                    1   \n",
              "101                  7                5                    4   \n",
              "218                  3                2                    1   \n",
              "370                 12                5                    5   \n",
              "79                   9                5                    8   \n",
              "126                  6                3                    6   \n",
              "59                   7               10                    6   \n",
              "\n",
              "     NumDealsPurchases   Education  Prediction KNN  Prediction Random Forest  \\\n",
              "395                  1         PhD               0                         0   \n",
              "330                  2      Master               0                         0   \n",
              "196                  1  Graduation               0                         0   \n",
              "34                   1         PhD               0                         0   \n",
              "101                  1         PhD               0                         0   \n",
              "218                  1    2n Cycle               0                         0   \n",
              "370                  5  Graduation               0                         0   \n",
              "79                   0  Graduation               0                         1   \n",
              "126                  1  Graduation               0                         0   \n",
              "59                   2  Graduation               0                         0   \n",
              "\n",
              "     Prediction XGB  Prediction DCT  \n",
              "395               0               1  \n",
              "330               0               1  \n",
              "196               0               0  \n",
              "34                0               0  \n",
              "101               0               1  \n",
              "218               0               0  \n",
              "370               0               0  \n",
              "79                1               1  \n",
              "126               1               0  \n",
              "59                0               0  "
            ]
          },
          "execution_count": 82,
          "metadata": {},
          "output_type": "execute_result"
        }
      ],
      "source": [
        "# Concate data test with model prediction\n",
        "data_test_pred = pd.concat([data_test[final_feature], y_pred_test_knn_tuning_df, y_pred_test_rfc_tuning_df, y_pred_test_xgb_tuning_df, y_pred_test_dtc_tuning_df ],axis=1)\n",
        "data_test_pred.sample(10)"
      ]
    },
    {
      "attachments": {},
      "cell_type": "markdown",
      "metadata": {
        "id": "d3YszCCaDr2Z"
      },
      "source": [
        "# 9 - Model Saving"
      ]
    },
    {
      "attachments": {},
      "cell_type": "markdown",
      "metadata": {},
      "source": [
        "Setelah model penulis anggap maksimal maka selanjutnya adalah proses penyimpanan model sehingga dapat di gunakan tanpa harus di lakukan train kembali\n",
        "\n",
        "Model yang dipilih adalah model yang memiliki nilai recall score paling bagus"
      ]
    },
    {
      "cell_type": "code",
      "execution_count": 83,
      "metadata": {
        "id": "VMnUJHTEE8vX"
      },
      "outputs": [],
      "source": [
        "# Model Saving\n",
        "\n",
        "with open('knn_model.pkl', 'wb') as file_1:\n",
        "  pickle.dump(knn_grid, file_1)\n",
        "\n",
        "with open('rfc_model.pkl', 'wb') as file_2:\n",
        "  pickle.dump(rfc_model, file_2)\n",
        "\n",
        "with open('xgb_model.pkl', 'wb') as file_3:\n",
        "  pickle.dump(xgb_random, file_3)\n",
        "\n",
        "with open('dtc_model.pkl', 'wb') as file_4:\n",
        "  pickle.dump(dtc_random, file_4)"
      ]
    },
    {
      "attachments": {},
      "cell_type": "markdown",
      "metadata": {
        "id": "mnYgSVRBMzbT"
      },
      "source": [
        "# 10 - Pengambilan Kesimpulan\n",
        "## Model Analysis\n",
        "\n",
        "Beberapa analisa dari model :\n",
        "- Pada model `XGB` dan `Decision Tree` terdapat `kenaikan` antara model baseline dengan model yang sudah di tuning kurang lebih `1%` \n",
        "- Pada model `KNN` tidak terjadi perubahan antara sebelum dan sesudah tuning\n",
        "- Sedangkan pada model `random forest` terjadi `penurunan` walau hanya `0.06%`. Hal ini dapat terjadi karena model random forest memiliki banyak hyper parameter sedangkan hyperparameter yang di tuning hanya beberapa dengan kombinasi yang tidak kompleks dikarenakan `keterbatasan device` dalam melakukan tuning ( Search )\n",
        "- Setelah tuning urutan model dengan score dari yang tertinggi adalah KNN, Random Forest, XGBoost, dan Decision Tree\n",
        "- Sehingga model yang dipilh adalah KNN, XGB dan Decision Tree dengan Tuning dan Random Forest Baseline\n",
        "\n",
        "### Kelebihan dan Kelamahan Model : \n",
        "- Kelebihan :\n",
        "    - Secara global model cukup baik memprediksi\n",
        "    - Model memiliki performa yang sama antara data train dan data test\n",
        "- Kelemahan : \n",
        "    - Model memiliki performa yang buruk pada prediksi kelas target yang minoritas\n",
        "    - Model mengalami overfit pada model dengan base parameter\n",
        "\n",
        "### Further Improvement\n",
        "Untuk imporvement selanjutnya dari model ini adalah sbb :\n",
        "- Data preprocessing dengan menggunakan metode lainnya. Seperti metode capping, metode transformasi, maupun oversample atau undersample.\n",
        "- Melakukan hyper parameter tuning yang dengan kombinasi hyper parameter yang lebih beragam agar mendapatkan model dengan performa lebih baik\n"
      ]
    },
    {
      "attachments": {},
      "cell_type": "markdown",
      "metadata": {},
      "source": [
        "## Overall Analysis\n",
        "### Secara keseluruhan proses yang dilakukan pada project ini adalah:\n",
        "\n",
        "- Import semua library yang di butuhkan\n",
        "- Load dataset dan eksplorasi basic info dari data\n",
        "- Exploarsi Data Analytics untuk menemukan insight. Pada tahapan ini juga mencari informasi menarik atau insight bussiness maupun informasi yang dapat digukanan untuk pemilihan fitur\n",
        "- Data preprocessing dimana pada tahap ini melakukan beberapa hal seperti :\n",
        "    - Log transform agar distribusi mendekati normal\n",
        "    - Handle outlier dengan cara trimming apabila outlier dibawah 5% dan capping dengan winsorizer jika diatas 5%\n",
        "    - Scaling dengan Standard Scaler\n",
        "    - Encoding dengan One Hot Encoder dan Ordinal Encoder\n",
        "- Menggunakan Fetaure Importance dari Decision Tree Classifier untuk feature selection\n",
        "- Menggunakan Principal Componen Analysis (PCA) untuk mereduksi Dimensi\n",
        "- Model Defenition and Training\n",
        "- Evaluasi model dengan menggunakan metrik evaluasi fbeta agar dapat memberi pembebanan pada recall dan precision. Dari tahapan ini dapat menentukan tindakan selanjutnya untuk dapat melakukan pruning atau tuning model agar memiliki performa lebih baik\n",
        "- Tuning dengan menggunakan Random Search dan Grid Search\n",
        "- Post Pruning Dengan menggunakan Cost Complexity Path\n",
        "- Saving best model dari baseline model atau model yang sudah di tuning\n",
        "\n",
        "### Anaysis pada Post Pruning dengan Cost Complexity Path\n",
        "- Fit data train pada model Decision Tree Classifier\n",
        "- Ambil Nilai CCP_Alpha dari Cost Complexity Path\n",
        "- Predict data train dan data test menggunakan model Decision Tree dengan setiap nilai CCP alpha\n",
        "- Visualisasikan score model pada data train dan data test\n",
        "- Ambil nilai ccp alpha dimana score data test dan data train berpotongan / bersinggungan\n",
        "- Masukkan nilai ccp alpha tersebut pada model yang akan di pakai\n",
        "\n",
        "### Analysis selanjutnya adalah dari sisi hyper parameter tuning\n",
        "- Perlu dilakukan tuning hyperparameter lebih beragam agar memperoleh model yang performa lebih baik\n",
        "- Langkah - langkah hyper parameter tuning dengan gridsearch :\n",
        "    - Membuat list tiap hyperparameter yang akan di tuning\n",
        "    - Melakukan fitting model dengan data train\n",
        "    - Melakukan predict dengan masing masing hyperparameter sesuai list yang telah dibuat.\n",
        "    - Mengambil hyperparameter yang paling memiliki score paling baik\n",
        "\n",
        "### Anaysis Principal Komponen Analysis\n",
        "- Fit PCA pada data\n",
        "- Plot Explained Variance ratio terhadap jumlah dimensi\n",
        "- Tentukan berapa jumlah akhir dimensi dan informasi yang masih tersisa\n",
        "- Penulis memilih jumlah dimensi = 5 dan informasi masih tersedia 86%\n"
      ]
    },
    {
      "attachments": {},
      "cell_type": "markdown",
      "metadata": {},
      "source": [
        "### Beberapa informasi yang dapat diperoleh dari proses EDA adalah :\n",
        "\n",
        "Secara global, customer yang `menerima` tawaran diskon sebanyak `312 customer` sedangkan yang `tidak menerima sebanyak 1722`\n",
        "\n",
        "Secara global beberpa yang membedakan antara customer yang menerima tawaran dan tidak adalah sbb :\n",
        "- Customer yang menerima tawaran memiliki :\n",
        "    - Rata - rata `income` lebih tinggi dari yang tidak\n",
        "    - Cenderung melakukan pembelian lebih banyak pada `semua kategori produk`\n",
        "    - `Jumlah pembelian` yang lebih banyak daripada yang tidak menerima tawaran\n",
        "\n",
        "Customer yang menerima maupun yang tidak memiliki `demografi usia yang beragam.`\n",
        "\n",
        "- Customer yang menerima tawaran diskon paling banyak memiliki jenjang pendidikan `Sarjana (Graduation)` dan paling sedikit adalah `Master`\n",
        "- Sedangkan berdasarkan status pernikahan paling banyak di terima oleh cutomer yang `single` ataupun `bercerai`\n",
        "- Dari sisi jumlah `anak - anak dan remaja` yang, customer yang menerima tawaran tidak memiliki anak - anak maupun remaja.\n",
        "\n",
        "- Customer yang tidak menerima tawaran diskon paling banyak memiliki jenjang pendidikan `Sarjana (Graduation)` dan paling sedikit adalah `Master`\n",
        "- Sedangkan berdasarkan status pernikahan paling banyak di terima oleh cutomer yang `bercerai`. Customer yang `single dan menikah` memiliki proporsi yang hampir sama.\n",
        "- Dari sisi jumlah `anak - anak dan remaja` yang, customer yang tidak memiliki dan memiliki 1 anak atau remaja merupakan mayoritas yang menolak tawaran"
      ]
    }
  ],
  "metadata": {
    "colab": {
      "provenance": [],
      "toc_visible": true
    },
    "kernelspec": {
      "display_name": "dls",
      "language": "python",
      "name": "python3"
    },
    "language_info": {
      "codemirror_mode": {
        "name": "ipython",
        "version": 3
      },
      "file_extension": ".py",
      "mimetype": "text/x-python",
      "name": "python",
      "nbconvert_exporter": "python",
      "pygments_lexer": "ipython3",
      "version": "3.9.0"
    },
    "vscode": {
      "interpreter": {
        "hash": "56992eb2436ef9cfa08aa0533dd49b7cf0202c4b96ac77e637696ddb36071f79"
      }
    }
  },
  "nbformat": 4,
  "nbformat_minor": 0
}
